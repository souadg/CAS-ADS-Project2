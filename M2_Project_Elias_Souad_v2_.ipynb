{
  "nbformat": 4,
  "nbformat_minor": 0,
  "metadata": {
    "colab": {
      "name": "M2 Project Elias Souad. v2 .ipynb",
      "provenance": [],
      "collapsed_sections": [],
      "toc_visible": true,
      "include_colab_link": true
    },
    "kernelspec": {
      "name": "python3",
      "display_name": "Python 3"
    },
    "language_info": {
      "name": "python"
    }
  },
  "cells": [
    {
      "cell_type": "markdown",
      "metadata": {
        "id": "view-in-github",
        "colab_type": "text"
      },
      "source": [
        "<a href=\"https://colab.research.google.com/github/souadg/CAS-ADS-Project2/blob/machine_learning/M2_Project_Elias_Souad_v2_.ipynb\" target=\"_parent\"><img src=\"https://colab.research.google.com/assets/colab-badge.svg\" alt=\"Open In Colab\"/></a>"
      ]
    },
    {
      "cell_type": "markdown",
      "metadata": {
        "id": "mLP8FTHIr_i5"
      },
      "source": [
        "# Module 2 Project: Student Performance\n"
      ]
    },
    {
      "cell_type": "markdown",
      "metadata": {
        "id": "I5lphhuwAFD2"
      },
      "source": [
        "## Importing Libraries"
      ]
    },
    {
      "cell_type": "code",
      "metadata": {
        "id": "kcB11Cv3d01E",
        "colab": {
          "base_uri": "https://localhost:8080/"
        },
        "outputId": "20c425ff-e1bf-4f54-d7c1-533434125dcd"
      },
      "source": [
        "# Import libraries\n",
        "\n",
        "# Basic libraries\n",
        "import pandas as pd\n",
        "import numpy as np\n",
        "\n",
        "# Plotting\n",
        "import matplotlib.pyplot as plt\n",
        "\n",
        "# Stats\n",
        "import statsmodels.api as sm\n",
        "from scipy import stats\n",
        "\n",
        "# Models\n",
        "from sklearn.linear_model import LinearRegression\n",
        "from sklearn.metrics import mean_squared_error, mean_absolute_error, r2_score\n",
        "\n",
        "\n"
      ],
      "execution_count": 1,
      "outputs": [
        {
          "output_type": "stream",
          "name": "stderr",
          "text": [
            "/usr/local/lib/python3.7/dist-packages/statsmodels/tools/_testing.py:19: FutureWarning: pandas.util.testing is deprecated. Use the functions in the public API at pandas.testing instead.\n",
            "  import pandas.util.testing as tm\n"
          ]
        }
      ]
    },
    {
      "cell_type": "markdown",
      "metadata": {
        "id": "_TIlOjzSsM8y"
      },
      "source": [
        "## Load Data Set"
      ]
    },
    {
      "cell_type": "code",
      "metadata": {
        "id": "lFjYK3ztBTf3"
      },
      "source": [
        "# Display more rows in head\n",
        "pd.set_option('display.max_rows', 6) "
      ],
      "execution_count": 2,
      "outputs": []
    },
    {
      "cell_type": "code",
      "metadata": {
        "id": "3Qw-KmsPeh3T",
        "colab": {
          "base_uri": "https://localhost:8080/",
          "height": 287
        },
        "outputId": "23aca07f-eddd-456d-874c-4ae3de20cddb"
      },
      "source": [
        "# Read comma separated value file\n",
        "url = \"https://raw.githubusercontent.com/souadg/CAS-ADS-Project2/main/StudentsPerformance.csv\"\n",
        "df = pd.read_csv(url)\n",
        "df.head()"
      ],
      "execution_count": 3,
      "outputs": [
        {
          "output_type": "execute_result",
          "data": {
            "text/html": [
              "<div>\n",
              "<style scoped>\n",
              "    .dataframe tbody tr th:only-of-type {\n",
              "        vertical-align: middle;\n",
              "    }\n",
              "\n",
              "    .dataframe tbody tr th {\n",
              "        vertical-align: top;\n",
              "    }\n",
              "\n",
              "    .dataframe thead th {\n",
              "        text-align: right;\n",
              "    }\n",
              "</style>\n",
              "<table border=\"1\" class=\"dataframe\">\n",
              "  <thead>\n",
              "    <tr style=\"text-align: right;\">\n",
              "      <th></th>\n",
              "      <th>gender</th>\n",
              "      <th>race/ethnicity</th>\n",
              "      <th>parental level of education</th>\n",
              "      <th>lunch</th>\n",
              "      <th>test preparation course</th>\n",
              "      <th>math score</th>\n",
              "      <th>reading score</th>\n",
              "      <th>writing score</th>\n",
              "    </tr>\n",
              "  </thead>\n",
              "  <tbody>\n",
              "    <tr>\n",
              "      <th>0</th>\n",
              "      <td>female</td>\n",
              "      <td>group B</td>\n",
              "      <td>bachelor's degree</td>\n",
              "      <td>standard</td>\n",
              "      <td>none</td>\n",
              "      <td>72</td>\n",
              "      <td>72</td>\n",
              "      <td>74</td>\n",
              "    </tr>\n",
              "    <tr>\n",
              "      <th>1</th>\n",
              "      <td>female</td>\n",
              "      <td>group C</td>\n",
              "      <td>some college</td>\n",
              "      <td>standard</td>\n",
              "      <td>completed</td>\n",
              "      <td>69</td>\n",
              "      <td>90</td>\n",
              "      <td>88</td>\n",
              "    </tr>\n",
              "    <tr>\n",
              "      <th>2</th>\n",
              "      <td>female</td>\n",
              "      <td>group B</td>\n",
              "      <td>master's degree</td>\n",
              "      <td>standard</td>\n",
              "      <td>none</td>\n",
              "      <td>90</td>\n",
              "      <td>95</td>\n",
              "      <td>93</td>\n",
              "    </tr>\n",
              "    <tr>\n",
              "      <th>3</th>\n",
              "      <td>male</td>\n",
              "      <td>group A</td>\n",
              "      <td>associate's degree</td>\n",
              "      <td>free/reduced</td>\n",
              "      <td>none</td>\n",
              "      <td>47</td>\n",
              "      <td>57</td>\n",
              "      <td>44</td>\n",
              "    </tr>\n",
              "    <tr>\n",
              "      <th>4</th>\n",
              "      <td>male</td>\n",
              "      <td>group C</td>\n",
              "      <td>some college</td>\n",
              "      <td>standard</td>\n",
              "      <td>none</td>\n",
              "      <td>76</td>\n",
              "      <td>78</td>\n",
              "      <td>75</td>\n",
              "    </tr>\n",
              "  </tbody>\n",
              "</table>\n",
              "</div>"
            ],
            "text/plain": [
              "   gender race/ethnicity  ... reading score writing score\n",
              "0  female        group B  ...            72            74\n",
              "1  female        group C  ...            90            88\n",
              "2  female        group B  ...            95            93\n",
              "3    male        group A  ...            57            44\n",
              "4    male        group C  ...            78            75\n",
              "\n",
              "[5 rows x 8 columns]"
            ]
          },
          "metadata": {},
          "execution_count": 3
        }
      ]
    },
    {
      "cell_type": "code",
      "metadata": {
        "colab": {
          "base_uri": "https://localhost:8080/"
        },
        "id": "L9AWXYeumD0U",
        "outputId": "dd55fe73-2f9d-4eac-f717-3ac8784a4e55"
      },
      "source": [
        "print(\"There are %d rows and %d columns in the data frame\" %(df.shape[0], df.shape[1]))"
      ],
      "execution_count": 4,
      "outputs": [
        {
          "output_type": "stream",
          "name": "stdout",
          "text": [
            "There are 1000 rows and 8 columns in the data frame\n"
          ]
        }
      ]
    },
    {
      "cell_type": "code",
      "metadata": {
        "id": "qDAIywrxhybP",
        "colab": {
          "base_uri": "https://localhost:8080/",
          "height": 274
        },
        "outputId": "121da838-d692-4643-9274-3c40a080cecd"
      },
      "source": [
        "# Replace spaces and slash in column names with underscore\n",
        "df.columns = ['gender', 'race_ethn', 'parental_ed', 'lunch', 'test_prep', 'maths_score', 'read_score', 'write_score']\n",
        "df.head()"
      ],
      "execution_count": 5,
      "outputs": [
        {
          "output_type": "execute_result",
          "data": {
            "text/html": [
              "<div>\n",
              "<style scoped>\n",
              "    .dataframe tbody tr th:only-of-type {\n",
              "        vertical-align: middle;\n",
              "    }\n",
              "\n",
              "    .dataframe tbody tr th {\n",
              "        vertical-align: top;\n",
              "    }\n",
              "\n",
              "    .dataframe thead th {\n",
              "        text-align: right;\n",
              "    }\n",
              "</style>\n",
              "<table border=\"1\" class=\"dataframe\">\n",
              "  <thead>\n",
              "    <tr style=\"text-align: right;\">\n",
              "      <th></th>\n",
              "      <th>gender</th>\n",
              "      <th>race_ethn</th>\n",
              "      <th>parental_ed</th>\n",
              "      <th>lunch</th>\n",
              "      <th>test_prep</th>\n",
              "      <th>maths_score</th>\n",
              "      <th>read_score</th>\n",
              "      <th>write_score</th>\n",
              "    </tr>\n",
              "  </thead>\n",
              "  <tbody>\n",
              "    <tr>\n",
              "      <th>0</th>\n",
              "      <td>female</td>\n",
              "      <td>group B</td>\n",
              "      <td>bachelor's degree</td>\n",
              "      <td>standard</td>\n",
              "      <td>none</td>\n",
              "      <td>72</td>\n",
              "      <td>72</td>\n",
              "      <td>74</td>\n",
              "    </tr>\n",
              "    <tr>\n",
              "      <th>1</th>\n",
              "      <td>female</td>\n",
              "      <td>group C</td>\n",
              "      <td>some college</td>\n",
              "      <td>standard</td>\n",
              "      <td>completed</td>\n",
              "      <td>69</td>\n",
              "      <td>90</td>\n",
              "      <td>88</td>\n",
              "    </tr>\n",
              "    <tr>\n",
              "      <th>2</th>\n",
              "      <td>female</td>\n",
              "      <td>group B</td>\n",
              "      <td>master's degree</td>\n",
              "      <td>standard</td>\n",
              "      <td>none</td>\n",
              "      <td>90</td>\n",
              "      <td>95</td>\n",
              "      <td>93</td>\n",
              "    </tr>\n",
              "    <tr>\n",
              "      <th>3</th>\n",
              "      <td>male</td>\n",
              "      <td>group A</td>\n",
              "      <td>associate's degree</td>\n",
              "      <td>free/reduced</td>\n",
              "      <td>none</td>\n",
              "      <td>47</td>\n",
              "      <td>57</td>\n",
              "      <td>44</td>\n",
              "    </tr>\n",
              "    <tr>\n",
              "      <th>4</th>\n",
              "      <td>male</td>\n",
              "      <td>group C</td>\n",
              "      <td>some college</td>\n",
              "      <td>standard</td>\n",
              "      <td>none</td>\n",
              "      <td>76</td>\n",
              "      <td>78</td>\n",
              "      <td>75</td>\n",
              "    </tr>\n",
              "  </tbody>\n",
              "</table>\n",
              "</div>"
            ],
            "text/plain": [
              "   gender race_ethn         parental_ed  ... maths_score read_score  write_score\n",
              "0  female   group B   bachelor's degree  ...          72         72           74\n",
              "1  female   group C        some college  ...          69         90           88\n",
              "2  female   group B     master's degree  ...          90         95           93\n",
              "3    male   group A  associate's degree  ...          47         57           44\n",
              "4    male   group C        some college  ...          76         78           75\n",
              "\n",
              "[5 rows x 8 columns]"
            ]
          },
          "metadata": {},
          "execution_count": 5
        }
      ]
    },
    {
      "cell_type": "code",
      "metadata": {
        "id": "94SLc48fC3Yw",
        "colab": {
          "base_uri": "https://localhost:8080/",
          "height": 240
        },
        "outputId": "f625ac7c-3119-42d4-8832-d3686e34cd9b"
      },
      "source": [
        "df.tail()"
      ],
      "execution_count": 6,
      "outputs": [
        {
          "output_type": "execute_result",
          "data": {
            "text/html": [
              "<div>\n",
              "<style scoped>\n",
              "    .dataframe tbody tr th:only-of-type {\n",
              "        vertical-align: middle;\n",
              "    }\n",
              "\n",
              "    .dataframe tbody tr th {\n",
              "        vertical-align: top;\n",
              "    }\n",
              "\n",
              "    .dataframe thead th {\n",
              "        text-align: right;\n",
              "    }\n",
              "</style>\n",
              "<table border=\"1\" class=\"dataframe\">\n",
              "  <thead>\n",
              "    <tr style=\"text-align: right;\">\n",
              "      <th></th>\n",
              "      <th>gender</th>\n",
              "      <th>race_ethn</th>\n",
              "      <th>parental_ed</th>\n",
              "      <th>lunch</th>\n",
              "      <th>test_prep</th>\n",
              "      <th>maths_score</th>\n",
              "      <th>read_score</th>\n",
              "      <th>write_score</th>\n",
              "    </tr>\n",
              "  </thead>\n",
              "  <tbody>\n",
              "    <tr>\n",
              "      <th>995</th>\n",
              "      <td>female</td>\n",
              "      <td>group E</td>\n",
              "      <td>master's degree</td>\n",
              "      <td>standard</td>\n",
              "      <td>completed</td>\n",
              "      <td>88</td>\n",
              "      <td>99</td>\n",
              "      <td>95</td>\n",
              "    </tr>\n",
              "    <tr>\n",
              "      <th>996</th>\n",
              "      <td>male</td>\n",
              "      <td>group C</td>\n",
              "      <td>high school</td>\n",
              "      <td>free/reduced</td>\n",
              "      <td>none</td>\n",
              "      <td>62</td>\n",
              "      <td>55</td>\n",
              "      <td>55</td>\n",
              "    </tr>\n",
              "    <tr>\n",
              "      <th>997</th>\n",
              "      <td>female</td>\n",
              "      <td>group C</td>\n",
              "      <td>high school</td>\n",
              "      <td>free/reduced</td>\n",
              "      <td>completed</td>\n",
              "      <td>59</td>\n",
              "      <td>71</td>\n",
              "      <td>65</td>\n",
              "    </tr>\n",
              "    <tr>\n",
              "      <th>998</th>\n",
              "      <td>female</td>\n",
              "      <td>group D</td>\n",
              "      <td>some college</td>\n",
              "      <td>standard</td>\n",
              "      <td>completed</td>\n",
              "      <td>68</td>\n",
              "      <td>78</td>\n",
              "      <td>77</td>\n",
              "    </tr>\n",
              "    <tr>\n",
              "      <th>999</th>\n",
              "      <td>female</td>\n",
              "      <td>group D</td>\n",
              "      <td>some college</td>\n",
              "      <td>free/reduced</td>\n",
              "      <td>none</td>\n",
              "      <td>77</td>\n",
              "      <td>86</td>\n",
              "      <td>86</td>\n",
              "    </tr>\n",
              "  </tbody>\n",
              "</table>\n",
              "</div>"
            ],
            "text/plain": [
              "     gender race_ethn      parental_ed  ... maths_score read_score  write_score\n",
              "995  female   group E  master's degree  ...          88         99           95\n",
              "996    male   group C      high school  ...          62         55           55\n",
              "997  female   group C      high school  ...          59         71           65\n",
              "998  female   group D     some college  ...          68         78           77\n",
              "999  female   group D     some college  ...          77         86           86\n",
              "\n",
              "[5 rows x 8 columns]"
            ]
          },
          "metadata": {},
          "execution_count": 6
        }
      ]
    },
    {
      "cell_type": "code",
      "metadata": {
        "id": "KishyqSOn5zE",
        "colab": {
          "base_uri": "https://localhost:8080/"
        },
        "outputId": "e0bf1aa3-6594-4d34-c6c3-bc5c923754b8"
      },
      "source": [
        "# Types of variables, number of rows, columns\n",
        "df.info()"
      ],
      "execution_count": 7,
      "outputs": [
        {
          "output_type": "stream",
          "name": "stdout",
          "text": [
            "<class 'pandas.core.frame.DataFrame'>\n",
            "RangeIndex: 1000 entries, 0 to 999\n",
            "Data columns (total 8 columns):\n",
            " #   Column       Non-Null Count  Dtype \n",
            "---  ------       --------------  ----- \n",
            " 0   gender       1000 non-null   object\n",
            " 1   race_ethn    1000 non-null   object\n",
            " 2   parental_ed  1000 non-null   object\n",
            " 3   lunch        1000 non-null   object\n",
            " 4   test_prep    1000 non-null   object\n",
            " 5   maths_score  1000 non-null   int64 \n",
            " 6   read_score   1000 non-null   int64 \n",
            " 7   write_score  1000 non-null   int64 \n",
            "dtypes: int64(3), object(5)\n",
            "memory usage: 62.6+ KB\n"
          ]
        }
      ]
    },
    {
      "cell_type": "markdown",
      "metadata": {
        "id": "7Lf8hw07Eu6-"
      },
      "source": [
        "## Descriptive Statistics\n"
      ]
    },
    {
      "cell_type": "code",
      "metadata": {
        "colab": {
          "base_uri": "https://localhost:8080/",
          "height": 294
        },
        "id": "JVMajFSxjqUr",
        "outputId": "996e281f-4057-4565-b897-2428f63301dd"
      },
      "source": [
        "# Get general information on descriptive statistics\n",
        "df.describe()"
      ],
      "execution_count": 8,
      "outputs": [
        {
          "output_type": "execute_result",
          "data": {
            "text/html": [
              "<div>\n",
              "<style scoped>\n",
              "    .dataframe tbody tr th:only-of-type {\n",
              "        vertical-align: middle;\n",
              "    }\n",
              "\n",
              "    .dataframe tbody tr th {\n",
              "        vertical-align: top;\n",
              "    }\n",
              "\n",
              "    .dataframe thead th {\n",
              "        text-align: right;\n",
              "    }\n",
              "</style>\n",
              "<table border=\"1\" class=\"dataframe\">\n",
              "  <thead>\n",
              "    <tr style=\"text-align: right;\">\n",
              "      <th></th>\n",
              "      <th>maths_score</th>\n",
              "      <th>read_score</th>\n",
              "      <th>write_score</th>\n",
              "    </tr>\n",
              "  </thead>\n",
              "  <tbody>\n",
              "    <tr>\n",
              "      <th>count</th>\n",
              "      <td>1000.00000</td>\n",
              "      <td>1000.000000</td>\n",
              "      <td>1000.000000</td>\n",
              "    </tr>\n",
              "    <tr>\n",
              "      <th>mean</th>\n",
              "      <td>66.08900</td>\n",
              "      <td>69.169000</td>\n",
              "      <td>68.054000</td>\n",
              "    </tr>\n",
              "    <tr>\n",
              "      <th>std</th>\n",
              "      <td>15.16308</td>\n",
              "      <td>14.600192</td>\n",
              "      <td>15.195657</td>\n",
              "    </tr>\n",
              "    <tr>\n",
              "      <th>...</th>\n",
              "      <td>...</td>\n",
              "      <td>...</td>\n",
              "      <td>...</td>\n",
              "    </tr>\n",
              "    <tr>\n",
              "      <th>50%</th>\n",
              "      <td>66.00000</td>\n",
              "      <td>70.000000</td>\n",
              "      <td>69.000000</td>\n",
              "    </tr>\n",
              "    <tr>\n",
              "      <th>75%</th>\n",
              "      <td>77.00000</td>\n",
              "      <td>79.000000</td>\n",
              "      <td>79.000000</td>\n",
              "    </tr>\n",
              "    <tr>\n",
              "      <th>max</th>\n",
              "      <td>100.00000</td>\n",
              "      <td>100.000000</td>\n",
              "      <td>100.000000</td>\n",
              "    </tr>\n",
              "  </tbody>\n",
              "</table>\n",
              "<p>8 rows × 3 columns</p>\n",
              "</div>"
            ],
            "text/plain": [
              "       maths_score   read_score  write_score\n",
              "count   1000.00000  1000.000000  1000.000000\n",
              "mean      66.08900    69.169000    68.054000\n",
              "std       15.16308    14.600192    15.195657\n",
              "...            ...          ...          ...\n",
              "50%       66.00000    70.000000    69.000000\n",
              "75%       77.00000    79.000000    79.000000\n",
              "max      100.00000   100.000000   100.000000\n",
              "\n",
              "[8 rows x 3 columns]"
            ]
          },
          "metadata": {},
          "execution_count": 8
        }
      ]
    },
    {
      "cell_type": "markdown",
      "metadata": {
        "id": "lywdkp5B5ZaS"
      },
      "source": [
        "An idea would be to consolidate the parental education background into two categories: \n",
        "\n",
        "- up to and including high school\n",
        "- university\n",
        "\n",
        "[Associate's degree](https://en.wikipedia.org/wiki/Associate_degree) is obtained after graduating from high school."
      ]
    },
    {
      "cell_type": "code",
      "metadata": {
        "id": "K-GICUaUkfYQ",
        "colab": {
          "base_uri": "https://localhost:8080/",
          "height": 274
        },
        "outputId": "6629ec59-b216-4228-d577-c91827552026"
      },
      "source": [
        "# List of values for high school\n",
        "lst_hs = ['some high school', 'high school']\n",
        "df.loc[df['parental_ed'].isin(lst_hs), 'parent_uni'] = \"no\"\n",
        "\n",
        "# Complement of high school list\n",
        "df.loc[~df['parental_ed'].isin(lst_hs), 'parent_uni'] = \"yes\"\n",
        "df.head()"
      ],
      "execution_count": 9,
      "outputs": [
        {
          "output_type": "execute_result",
          "data": {
            "text/html": [
              "<div>\n",
              "<style scoped>\n",
              "    .dataframe tbody tr th:only-of-type {\n",
              "        vertical-align: middle;\n",
              "    }\n",
              "\n",
              "    .dataframe tbody tr th {\n",
              "        vertical-align: top;\n",
              "    }\n",
              "\n",
              "    .dataframe thead th {\n",
              "        text-align: right;\n",
              "    }\n",
              "</style>\n",
              "<table border=\"1\" class=\"dataframe\">\n",
              "  <thead>\n",
              "    <tr style=\"text-align: right;\">\n",
              "      <th></th>\n",
              "      <th>gender</th>\n",
              "      <th>race_ethn</th>\n",
              "      <th>parental_ed</th>\n",
              "      <th>lunch</th>\n",
              "      <th>test_prep</th>\n",
              "      <th>maths_score</th>\n",
              "      <th>read_score</th>\n",
              "      <th>write_score</th>\n",
              "      <th>parent_uni</th>\n",
              "    </tr>\n",
              "  </thead>\n",
              "  <tbody>\n",
              "    <tr>\n",
              "      <th>0</th>\n",
              "      <td>female</td>\n",
              "      <td>group B</td>\n",
              "      <td>bachelor's degree</td>\n",
              "      <td>standard</td>\n",
              "      <td>none</td>\n",
              "      <td>72</td>\n",
              "      <td>72</td>\n",
              "      <td>74</td>\n",
              "      <td>yes</td>\n",
              "    </tr>\n",
              "    <tr>\n",
              "      <th>1</th>\n",
              "      <td>female</td>\n",
              "      <td>group C</td>\n",
              "      <td>some college</td>\n",
              "      <td>standard</td>\n",
              "      <td>completed</td>\n",
              "      <td>69</td>\n",
              "      <td>90</td>\n",
              "      <td>88</td>\n",
              "      <td>yes</td>\n",
              "    </tr>\n",
              "    <tr>\n",
              "      <th>2</th>\n",
              "      <td>female</td>\n",
              "      <td>group B</td>\n",
              "      <td>master's degree</td>\n",
              "      <td>standard</td>\n",
              "      <td>none</td>\n",
              "      <td>90</td>\n",
              "      <td>95</td>\n",
              "      <td>93</td>\n",
              "      <td>yes</td>\n",
              "    </tr>\n",
              "    <tr>\n",
              "      <th>3</th>\n",
              "      <td>male</td>\n",
              "      <td>group A</td>\n",
              "      <td>associate's degree</td>\n",
              "      <td>free/reduced</td>\n",
              "      <td>none</td>\n",
              "      <td>47</td>\n",
              "      <td>57</td>\n",
              "      <td>44</td>\n",
              "      <td>yes</td>\n",
              "    </tr>\n",
              "    <tr>\n",
              "      <th>4</th>\n",
              "      <td>male</td>\n",
              "      <td>group C</td>\n",
              "      <td>some college</td>\n",
              "      <td>standard</td>\n",
              "      <td>none</td>\n",
              "      <td>76</td>\n",
              "      <td>78</td>\n",
              "      <td>75</td>\n",
              "      <td>yes</td>\n",
              "    </tr>\n",
              "  </tbody>\n",
              "</table>\n",
              "</div>"
            ],
            "text/plain": [
              "   gender race_ethn         parental_ed  ... read_score write_score  parent_uni\n",
              "0  female   group B   bachelor's degree  ...         72          74         yes\n",
              "1  female   group C        some college  ...         90          88         yes\n",
              "2  female   group B     master's degree  ...         95          93         yes\n",
              "3    male   group A  associate's degree  ...         57          44         yes\n",
              "4    male   group C        some college  ...         78          75         yes\n",
              "\n",
              "[5 rows x 9 columns]"
            ]
          },
          "metadata": {},
          "execution_count": 9
        }
      ]
    },
    {
      "cell_type": "code",
      "metadata": {
        "colab": {
          "base_uri": "https://localhost:8080/",
          "height": 699
        },
        "id": "lwwD537OsZER",
        "outputId": "20bc7519-b03a-4ecb-ad7d-d22f21576f51"
      },
      "source": [
        "plt.figure(figsize=(12, 12))\n",
        "plt.subplot(321)\n",
        "ax1 = df.groupby('gender').size().plot(kind = 'pie', autopct = '%.2f')\n",
        "ax1.title.set_text(\"Gender\")\n",
        "plt.ylabel(\"\")\n",
        "plt.subplot(322)\n",
        "ax2 = df.groupby('race_ethn').size().plot(kind = \"pie\", autopct = \"%.2f\")\n",
        "ax2.title.set_text(\"Race/Ethnicity\")\n",
        "plt.ylabel(\"\")\n",
        "plt.subplot(323)\n",
        "ax3 = df.groupby('parent_uni').size().plot(kind = \"pie\", autopct = \"%.2f\")\n",
        "ax3.title.set_text(\"Parental University Education\")\n",
        "plt.ylabel(\"\")\n",
        "plt.subplot(324)\n",
        "ax4 = df.groupby('parental_ed').size().plot(kind = \"pie\", autopct = \"%.2f\")\n",
        "ax4.title.set_text(\"Parental Education Details\")\n",
        "plt.ylabel(\"\")\n",
        "plt.subplot(325)\n",
        "ax5 = df.groupby('lunch').size().plot(kind = \"pie\", autopct = \"%.2f\")\n",
        "ax5.title.set_text(\"School Lunch Status\")\n",
        "plt.ylabel(\"\")\n",
        "plt.subplot(326)\n",
        "ax6 = df.groupby('test_prep').size().plot(kind = \"pie\", autopct = \"%.2f\")\n",
        "ax6.title.set_text(\"Test Preparation Course\")\n",
        "plt.ylabel(\"\")\n",
        "plt.show()"
      ],
      "execution_count": 10,
      "outputs": [
        {
          "output_type": "display_data",
          "data": {
            "image/png": "[encoded data removed]",
            "text/plain": [
              "<Figure size 864x864 with 6 Axes>"
            ]
          },
          "metadata": {}
        }
      ]
    },
    {
      "cell_type": "markdown",
      "metadata": {
        "id": "oyytLkdXuZVi"
      },
      "source": [
        "We can use histograms to see how the exam scores differ for a categorical variable such as gender. Similar histograms could be generated for lunch, race, parental level of education, and test preparation course."
      ]
    },
    {
      "cell_type": "code",
      "metadata": {
        "colab": {
          "base_uri": "https://localhost:8080/",
          "height": 370
        },
        "id": "_ER94GUFu-GV",
        "outputId": "15780bfc-b9a2-49d6-a3d6-3a1fc7e6d390"
      },
      "source": [
        "# Filter data frame by gender\n",
        "df_female = df[df['gender']=='female']\n",
        "df_male = df[df['gender']=='male']\n",
        "\n",
        "# Plot female scores\n",
        "plt.figure(figsize=(15, 15))\n",
        "plt.subplot(221)\n",
        "df_female['maths_score'].plot(kind=\"hist\", fill= False,histtype='step',title = 'Females', label = 'maths')\n",
        "df_female['write_score'].plot(kind=\"hist\", fill= False,histtype='step',title = 'Females', label = 'writing')\n",
        "ax = df_female['read_score'].plot(kind=\"hist\", fill= False, histtype='step', label=\"reading\")\n",
        "ax.set_xlabel('Grade out 100')\n",
        "ax.set_ylabel('Absolute frequency')\n",
        "plt.legend()\n",
        "\n",
        "# Plot male scores\n",
        "plt.subplot(222)\n",
        "df_male['maths_score'].plot(kind=\"hist\", fill= False,histtype='step',title = 'Males', label = 'maths')\n",
        "df_male['write_score'].plot(kind=\"hist\", fill= False,histtype='step',title = 'Males', label = 'writing')\n",
        "ax = df_male['read_score'].plot(kind=\"hist\", fill= False, histtype='step', label=\"reading\")\n",
        "ax.set_xlabel('Grade out 100')\n",
        "ax.set_ylabel('Absolute frequency')\n",
        "plt.legend()\n",
        "\n",
        "plt.show()"
      ],
      "execution_count": 11,
      "outputs": [
        {
          "output_type": "display_data",
          "data": {
            "image/png": "[encoded data removed]",
            "text/plain": [
              "<Figure size 1080x1080 with 2 Axes>"
            ]
          },
          "metadata": {
            "needs_background": "light"
          }
        }
      ]
    },
    {
      "cell_type": "markdown",
      "metadata": {
        "id": "Wr5rmLEU5a32"
      },
      "source": [
        "## Hypothesis 1: Maths Score and Gender\n",
        "\n",
        "We denote the working hypothesis as H<sub>1</sub> and the null hypothesis as H<sub>0</sub>.\n"
      ]
    },
    {
      "cell_type": "markdown",
      "metadata": {
        "id": "cO1G2v31FVwv"
      },
      "source": [
        "### Defining Hypothesis\n",
        "\n",
        "**H<sub>1</sub>**: male students have higher maths scores than female students.\n",
        "\n",
        "**H<sub>0</sub>**: male students have $\\leq$ maths scores than female students.\n",
        "\n",
        "On inspection, we find that the mean of the male maths score is higher than that of the female maths score."
      ]
    },
    {
      "cell_type": "code",
      "metadata": {
        "id": "Pog1o4_H7krY",
        "colab": {
          "base_uri": "https://localhost:8080/"
        },
        "outputId": "69d96dc9-1fa1-4357-9e14-beeea93ed328"
      },
      "source": [
        "print(\"Mean maths scores are %1.2f for females and %1.2f for males\" %(df_female[\"maths_score\"].mean(), df_male[\"maths_score\"].mean()))"
      ],
      "execution_count": 12,
      "outputs": [
        {
          "output_type": "stream",
          "name": "stdout",
          "text": [
            "Mean maths scores are 63.63 for females and 68.73 for males\n"
          ]
        }
      ]
    },
    {
      "cell_type": "markdown",
      "metadata": {
        "id": "A37DxrLNbV4n"
      },
      "source": [
        "### Testing for Normal Distribution\n",
        "\n",
        "Some statistical tests assume that the samples to be tested come from a normal distribution. To be able to choose the appropriate tests, we must thus first check if our samples come from a normal distribution. We can test for normality  using a qq-plot or a normality test."
      ]
    },
    {
      "cell_type": "code",
      "metadata": {
        "colab": {
          "base_uri": "https://localhost:8080/",
          "height": 541
        },
        "id": "_Lj2iRhebrB0",
        "outputId": "3a2e2666-78bc-4f27-eae6-5fd5d07e02ca"
      },
      "source": [
        "# QQ-Plot\n",
        "# TODO: Add titles and put in one figure\n",
        "# Female maths score\n",
        "sm.qqplot(df_female['maths_score'], line='s')\n",
        "# Male maths score\n",
        "sm.qqplot(df_male['maths_score'], line='s')\n",
        "plt.show()"
      ],
      "execution_count": 13,
      "outputs": [
        {
          "output_type": "display_data",
          "data": {
            "image/png": "[encoded data removed]",
            "text/plain": [
              "<Figure size 432x288 with 1 Axes>"
            ]
          },
          "metadata": {
            "needs_background": "light"
          }
        },
        {
          "output_type": "display_data",
          "data": {
            "image/png": "[encoded data removed]",
            "text/plain": [
              "<Figure size 432x288 with 1 Axes>"
            ]
          },
          "metadata": {
            "needs_background": "light"
          }
        }
      ]
    },
    {
      "cell_type": "markdown",
      "metadata": {
        "id": "te1121_keZoR"
      },
      "source": [
        "The null hypothesis of the D'Agostino-Pearson test is normal distribution. If the resulting *p*-value is larger than 0.001 we cannot reject the normality of the distribution.\n",
        "\n",
        "**Question**: should we pick a different value for $\\alpha$?\n",
        "\n",
        "**Answer (Elias)**: $\\alpha$ is in the end an arbitrarily chosen value, but see the addition below.\n",
        "\n",
        "**Answer (Souad)**: Actually I checked the literature,  most tests use $\\alpha = 0.05$. This means that both Pearson and Shapiro reject the null hypotesis, i.e. reject normality."
      ]
    },
    {
      "cell_type": "code",
      "metadata": {
        "id": "i5vR3PLlcNjf",
        "colab": {
          "base_uri": "https://localhost:8080/"
        },
        "outputId": "d7f1aa67-aeb2-46cd-dbf6-f6cac8f957d0"
      },
      "source": [
        "# Normality test female maths score\n",
        "# D Agostino-Pearson. The method returns the test statistic value and the p-value\n",
        "k2, p = stats.normaltest(df_female['maths_score']) \n",
        "alpha = 0.05 # Rejection criterion defined by you\n",
        "print('Alpha = ', alpha)\n",
        "print('p = ', p)\n",
        "if p < alpha:  # null hypothesis: x comes from a normal distribution\n",
        "     print(\"We can reject the null hypothesis of normality of female maths score\")\n",
        "else:\n",
        "  print(\"We cannot reject the null hypothesis of normality of female maths score\")"
      ],
      "execution_count": 14,
      "outputs": [
        {
          "output_type": "stream",
          "name": "stdout",
          "text": [
            "Alpha =  0.05\n",
            "p =  0.0007002831165387053\n",
            "We can reject the null hypothesis of normality of female maths score\n"
          ]
        }
      ]
    },
    {
      "cell_type": "code",
      "metadata": {
        "colab": {
          "base_uri": "https://localhost:8080/"
        },
        "id": "OTFeZ2B6f3gK",
        "outputId": "42c6f19f-1875-46c3-a13f-d62d8f36832d"
      },
      "source": [
        "# Normality test male maths score\n",
        "k2, p = stats.normaltest(df_male['maths_score']) \n",
        "alpha = 0.05 # Rejection criterion defined by you\n",
        "print('Alpha = ', alpha)\n",
        "print('p = ', p)\n",
        "if p < alpha:  # null hypothesis: x comes from a normal distribution\n",
        "     print(\"We can reject the null hypothesis of normality of male maths score\")\n",
        "else:\n",
        "  print(\"We cannot reject the null hypothesis of normality of male maths score\")"
      ],
      "execution_count": 15,
      "outputs": [
        {
          "output_type": "stream",
          "name": "stdout",
          "text": [
            "Alpha =  0.05\n",
            "p =  0.06459355656271938\n",
            "We cannot reject the null hypothesis of normality of male maths score\n"
          ]
        }
      ]
    },
    {
      "cell_type": "markdown",
      "metadata": {
        "id": "rPYuS6GHZvjX"
      },
      "source": [
        "It looks like the normality assumption for the female maths score does not hold.\n"
      ]
    },
    {
      "cell_type": "markdown",
      "metadata": {
        "id": "JLmEv2odYEao"
      },
      "source": [
        "Note, however, also the *p*-values for both samples in question retrieved from the Shapiro-Wilk test for normality (this test can be used for samples between 3 $\\leq$ n $\\leq$ 5000): "
      ]
    },
    {
      "cell_type": "code",
      "metadata": {
        "colab": {
          "base_uri": "https://localhost:8080/"
        },
        "id": "FjfiHh7gVlhz",
        "outputId": "26a61796-f9ec-4ed8-efa9-7ea7fe6490b8"
      },
      "source": [
        "s,p = stats.shapiro(df_female['maths_score'])\n",
        "print('Test statistic = %.2f, p-value = %.2e' %(s, p))"
      ],
      "execution_count": 16,
      "outputs": [
        {
          "output_type": "stream",
          "name": "stdout",
          "text": [
            "Test statistic = 0.99, p-value = 3.52e-03\n"
          ]
        }
      ]
    },
    {
      "cell_type": "code",
      "metadata": {
        "colab": {
          "base_uri": "https://localhost:8080/"
        },
        "id": "ddH9ss5EYjUo",
        "outputId": "76e5d3ec-17c9-4463-ca20-19c77c291cf4"
      },
      "source": [
        "s,p = stats.shapiro(df_male['maths_score'])\n",
        "print('Test statistic = %.2f, p-value = %.2e' %(s, p))"
      ],
      "execution_count": 17,
      "outputs": [
        {
          "output_type": "stream",
          "name": "stdout",
          "text": [
            "Test statistic = 0.99, p-value = 3.80e-02\n"
          ]
        }
      ]
    },
    {
      "cell_type": "markdown",
      "metadata": {
        "id": "kXrp45NrbA6j"
      },
      "source": [
        "These *p*-values suggest that the normality assumptions do not hold for neither males nor females.\n"
      ]
    },
    {
      "cell_type": "markdown",
      "metadata": {
        "id": "pGK5BNGWgdJ-"
      },
      "source": [
        "### Mann-Whitney U test\n",
        "It appears that the most apporpriate test is the Mann-Whitney U test for two independent samples, non-normally distributed.\n",
        "\n",
        "Note that this test should only be used with at least 20 data points.\n"
      ]
    },
    {
      "cell_type": "code",
      "metadata": {
        "colab": {
          "base_uri": "https://localhost:8080/"
        },
        "id": "3wbP_3NkhT5q",
        "outputId": "3fcc37f9-e813-42c7-9bd0-81c418bdfe54"
      },
      "source": [
        "df_female['maths_score'].size"
      ],
      "execution_count": 18,
      "outputs": [
        {
          "output_type": "execute_result",
          "data": {
            "text/plain": [
              "518"
            ]
          },
          "metadata": {},
          "execution_count": 18
        }
      ]
    },
    {
      "cell_type": "code",
      "metadata": {
        "colab": {
          "base_uri": "https://localhost:8080/"
        },
        "id": "puoKRUvMev0S",
        "outputId": "d89bac38-a287-40f4-ed3d-53d7778ec1fa"
      },
      "source": [
        "df_male['maths_score'].size"
      ],
      "execution_count": 19,
      "outputs": [
        {
          "output_type": "execute_result",
          "data": {
            "text/plain": [
              "482"
            ]
          },
          "metadata": {},
          "execution_count": 19
        }
      ]
    },
    {
      "cell_type": "code",
      "metadata": {
        "colab": {
          "base_uri": "https://localhost:8080/"
        },
        "id": "qB8fCF0xhchb",
        "outputId": "b3fc751c-5952-41a1-9035-9602d97dc778"
      },
      "source": [
        "t, p = stats.mannwhitneyu(df_male['maths_score'],df_female['maths_score'], alternative='greater')\n",
        "print(\"The p-value of the Mann-Whitney U test is %1.2e\" %p)"
      ],
      "execution_count": 20,
      "outputs": [
        {
          "output_type": "stream",
          "name": "stdout",
          "text": [
            "The p-value of the Mann-Whitney U test is 2.14e-07\n"
          ]
        }
      ]
    },
    {
      "cell_type": "markdown",
      "metadata": {
        "id": "ptFjbu2YiL83"
      },
      "source": [
        "The *p*-value is $2.14 \\times 10^{-7}$, therefore we can reject the null hypothesis: it is very unlikely that male maths scores are lower than female maths scores or equal. \n",
        "\n",
        "Did you write this **Elias**? \n",
        "\n",
        "*Thus, our working hypothesis (alternative hypothesis) is confirmed that the math scores of male students are higher than those of female students.*\n",
        "\n",
        "A hypothesis test does **not** confirm the working hypothesis. It merely allows us to reject the null hypothesis with a certain confidence.\n",
        "I suggest replacing the above with:\n",
        "\n",
        "*There is strong evidence that male students perform better in maths test than their female counterparts.*"
      ]
    },
    {
      "cell_type": "markdown",
      "metadata": {
        "id": "J3qsbEMjuOWF"
      },
      "source": [
        "## Hypothesis 2: Test Performance and Parental University Education\n",
        "\n",
        "Here we make the hypothesis that there is no relation between the students' test performance and whether their parents went to university or not.\n",
        "\n",
        "For this purpose, we created a column <code>parent_univ</code> which indicates whether the parents had go to university/college or not.\n",
        "\n",
        "In addition, we will create an additional feature <code>average_score</code> which averages the maths, reading and writing tests."
      ]
    },
    {
      "cell_type": "code",
      "metadata": {
        "colab": {
          "base_uri": "https://localhost:8080/",
          "height": 274
        },
        "id": "JfxYpxm0zqNL",
        "outputId": "beb9b022-1317-41ef-fa03-5aa74c4b960e"
      },
      "source": [
        "df['average_score'] = round(df[['maths_score', 'read_score', 'write_score']].mean(axis = 1), 2)\n",
        "df.head()"
      ],
      "execution_count": 21,
      "outputs": [
        {
          "output_type": "execute_result",
          "data": {
            "text/html": [
              "<div>\n",
              "<style scoped>\n",
              "    .dataframe tbody tr th:only-of-type {\n",
              "        vertical-align: middle;\n",
              "    }\n",
              "\n",
              "    .dataframe tbody tr th {\n",
              "        vertical-align: top;\n",
              "    }\n",
              "\n",
              "    .dataframe thead th {\n",
              "        text-align: right;\n",
              "    }\n",
              "</style>\n",
              "<table border=\"1\" class=\"dataframe\">\n",
              "  <thead>\n",
              "    <tr style=\"text-align: right;\">\n",
              "      <th></th>\n",
              "      <th>gender</th>\n",
              "      <th>race_ethn</th>\n",
              "      <th>parental_ed</th>\n",
              "      <th>lunch</th>\n",
              "      <th>test_prep</th>\n",
              "      <th>maths_score</th>\n",
              "      <th>read_score</th>\n",
              "      <th>write_score</th>\n",
              "      <th>parent_uni</th>\n",
              "      <th>average_score</th>\n",
              "    </tr>\n",
              "  </thead>\n",
              "  <tbody>\n",
              "    <tr>\n",
              "      <th>0</th>\n",
              "      <td>female</td>\n",
              "      <td>group B</td>\n",
              "      <td>bachelor's degree</td>\n",
              "      <td>standard</td>\n",
              "      <td>none</td>\n",
              "      <td>72</td>\n",
              "      <td>72</td>\n",
              "      <td>74</td>\n",
              "      <td>yes</td>\n",
              "      <td>72.67</td>\n",
              "    </tr>\n",
              "    <tr>\n",
              "      <th>1</th>\n",
              "      <td>female</td>\n",
              "      <td>group C</td>\n",
              "      <td>some college</td>\n",
              "      <td>standard</td>\n",
              "      <td>completed</td>\n",
              "      <td>69</td>\n",
              "      <td>90</td>\n",
              "      <td>88</td>\n",
              "      <td>yes</td>\n",
              "      <td>82.33</td>\n",
              "    </tr>\n",
              "    <tr>\n",
              "      <th>2</th>\n",
              "      <td>female</td>\n",
              "      <td>group B</td>\n",
              "      <td>master's degree</td>\n",
              "      <td>standard</td>\n",
              "      <td>none</td>\n",
              "      <td>90</td>\n",
              "      <td>95</td>\n",
              "      <td>93</td>\n",
              "      <td>yes</td>\n",
              "      <td>92.67</td>\n",
              "    </tr>\n",
              "    <tr>\n",
              "      <th>3</th>\n",
              "      <td>male</td>\n",
              "      <td>group A</td>\n",
              "      <td>associate's degree</td>\n",
              "      <td>free/reduced</td>\n",
              "      <td>none</td>\n",
              "      <td>47</td>\n",
              "      <td>57</td>\n",
              "      <td>44</td>\n",
              "      <td>yes</td>\n",
              "      <td>49.33</td>\n",
              "    </tr>\n",
              "    <tr>\n",
              "      <th>4</th>\n",
              "      <td>male</td>\n",
              "      <td>group C</td>\n",
              "      <td>some college</td>\n",
              "      <td>standard</td>\n",
              "      <td>none</td>\n",
              "      <td>76</td>\n",
              "      <td>78</td>\n",
              "      <td>75</td>\n",
              "      <td>yes</td>\n",
              "      <td>76.33</td>\n",
              "    </tr>\n",
              "  </tbody>\n",
              "</table>\n",
              "</div>"
            ],
            "text/plain": [
              "   gender race_ethn         parental_ed  ... write_score parent_uni  average_score\n",
              "0  female   group B   bachelor's degree  ...          74        yes          72.67\n",
              "1  female   group C        some college  ...          88        yes          82.33\n",
              "2  female   group B     master's degree  ...          93        yes          92.67\n",
              "3    male   group A  associate's degree  ...          44        yes          49.33\n",
              "4    male   group C        some college  ...          75        yes          76.33\n",
              "\n",
              "[5 rows x 10 columns]"
            ]
          },
          "metadata": {},
          "execution_count": 21
        }
      ]
    },
    {
      "cell_type": "markdown",
      "metadata": {
        "id": "Yz_abls61jTv"
      },
      "source": [
        "### Defining Hypothesis\n",
        "\n",
        "**H<sub>1</sub>**: There is no relation between overall student performance and whether their parents went to university.\n",
        "\n",
        "**H<sub>0</sub>**: There is a relation between the overall student performance and whether their parents went to university.\n",
        "\n",
        "So we have two samples: Students whose parents went to university and those whose parents did not attend university."
      ]
    },
    {
      "cell_type": "code",
      "metadata": {
        "id": "mmeqVnnr1hwD"
      },
      "source": [
        "df_uni = df.loc[df['parent_uni'] == \"yes\", 'average_score']\n",
        "df_no_uni = df.loc[df['parent_uni'] != \"yes\",  'average_score']"
      ],
      "execution_count": 22,
      "outputs": []
    },
    {
      "cell_type": "code",
      "metadata": {
        "colab": {
          "base_uri": "https://localhost:8080/"
        },
        "id": "zAPC64qA4WOV",
        "outputId": "49a5d656-cf2b-40b3-8bdb-dff1b13dad0e"
      },
      "source": [
        "df_no_uni.head()"
      ],
      "execution_count": 23,
      "outputs": [
        {
          "output_type": "execute_result",
          "data": {
            "text/plain": [
              "8     65.00\n",
              "9     49.33\n",
              "12    73.00\n",
              "15    74.00\n",
              "16    87.67\n",
              "Name: average_score, dtype: float64"
            ]
          },
          "metadata": {},
          "execution_count": 23
        }
      ]
    },
    {
      "cell_type": "code",
      "metadata": {
        "colab": {
          "base_uri": "https://localhost:8080/"
        },
        "id": "K2v_bEuT4US8",
        "outputId": "298c0277-8a3d-40cb-fcaa-288a8294e27a"
      },
      "source": [
        "df_uni.head()"
      ],
      "execution_count": 24,
      "outputs": [
        {
          "output_type": "execute_result",
          "data": {
            "text/plain": [
              "0    72.67\n",
              "1    82.33\n",
              "2    92.67\n",
              "3    49.33\n",
              "4    76.33\n",
              "Name: average_score, dtype: float64"
            ]
          },
          "metadata": {},
          "execution_count": 24
        }
      ]
    },
    {
      "cell_type": "markdown",
      "metadata": {
        "id": "ZHNkFyn24q2s"
      },
      "source": [
        "### Testing for Normal Distribution\n",
        "\n"
      ]
    },
    {
      "cell_type": "code",
      "metadata": {
        "id": "zCcv6GqQ48kr"
      },
      "source": [
        "# Normality test students with parents who went to uni\n"
      ],
      "execution_count": 25,
      "outputs": []
    },
    {
      "cell_type": "code",
      "metadata": {
        "id": "3ip89gmr5RRo"
      },
      "source": [
        "# Normality test students with parents who did not attend uni\n"
      ],
      "execution_count": 26,
      "outputs": []
    },
    {
      "cell_type": "markdown",
      "metadata": {
        "id": "w7fNk64p5YDf"
      },
      "source": [
        "It looks like the normality assumption $\\ldots$"
      ]
    },
    {
      "cell_type": "code",
      "metadata": {
        "id": "0ipX2Mq65pAD"
      },
      "source": [
        "# Hypothesis test"
      ],
      "execution_count": 27,
      "outputs": []
    },
    {
      "cell_type": "markdown",
      "metadata": {
        "id": "5rGsM7_D52RE"
      },
      "source": [
        "We can therefore $\\ldots$\n",
        "\n",
        "Now, we can check another working hypothesis: students whose parents went to university perform better in general comapred to those whose parents did not attend university.\n",
        "\n",
        "At a first glance:"
      ]
    },
    {
      "cell_type": "code",
      "metadata": {
        "colab": {
          "base_uri": "https://localhost:8080/"
        },
        "id": "qn0RF8if6I2L",
        "outputId": "3e1ebbdc-a652-4013-cb73-f5c944009eb3"
      },
      "source": [
        "# Mean 1\n",
        "print(\"Average performance of students whose parents went to university is on average:\" )"
      ],
      "execution_count": 28,
      "outputs": [
        {
          "output_type": "stream",
          "name": "stdout",
          "text": [
            "Average performance of students whose parents went to university is on average:\n"
          ]
        }
      ]
    },
    {
      "cell_type": "code",
      "metadata": {
        "colab": {
          "base_uri": "https://localhost:8080/"
        },
        "id": "EG7ADHdj4qFC",
        "outputId": "10fb47b9-cd0e-493b-bc3c-ce145608bbd1"
      },
      "source": [
        "print(\"Average performance of students whose parents did not attend university is on average:\" )"
      ],
      "execution_count": 29,
      "outputs": [
        {
          "output_type": "stream",
          "name": "stdout",
          "text": [
            "Average performance of students whose parents did not attend university is on average:\n"
          ]
        }
      ]
    },
    {
      "cell_type": "markdown",
      "metadata": {
        "id": "HDf8Rdel7FTh"
      },
      "source": [
        "### Hypothesis Test (replace with name)\n",
        "\n"
      ]
    },
    {
      "cell_type": "code",
      "metadata": {
        "id": "1zzsxX3Y7JVz"
      },
      "source": [
        "# Hypothesis test"
      ],
      "execution_count": 30,
      "outputs": []
    },
    {
      "cell_type": "markdown",
      "metadata": {
        "id": "ohhrcfAS8Vtr"
      },
      "source": [
        "The *p*-value is $\\ldots$ This means $\\ldots$"
      ]
    },
    {
      "cell_type": "markdown",
      "metadata": {
        "id": "mnshiG8dCB7S"
      },
      "source": [
        "## Hypothesis 3: Test Performance and Preparation\n",
        "\n"
      ]
    },
    {
      "cell_type": "markdown",
      "metadata": {
        "id": "F2wfwyuuFwZ4"
      },
      "source": [
        "### Defining Hypothesis\n",
        "\n",
        "**H<sub>1</sub>**: Students who had completed the preparation test performed better than those who did not.\n",
        "\n",
        "**H<sub>0</sub>**: Students who completed the preparation test did not perform better than those who did not.\n",
        "\n",
        "Let us plot a histogram of the overall performance of students who completed the test preparation and those who did not, and the respective probability denstiy function estimations."
      ]
    },
    {
      "cell_type": "code",
      "metadata": {
        "colab": {
          "base_uri": "https://localhost:8080/",
          "height": 462
        },
        "id": "3Dr2c3ILGJky",
        "outputId": "b048c715-bccc-4e76-e323-341878832bae"
      },
      "source": [
        "fig = plt.figure(figsize=(12, 12))\n",
        "plt.subplot(221)\n",
        "df.groupby('test_prep')['average_score'].plot(kind='hist', fill = False, legend=True, histtype='step')\n",
        "plt.xlabel('Overall performance')\n",
        "plt.subplot(222)\n",
        "df.groupby('test_prep')['average_score'].plot.kde()\n",
        "plt.xlabel('Overall test performance')\n",
        "plt.legend()\n",
        "fig.suptitle('Overall performance vs. test preparation')\n"
      ],
      "execution_count": 31,
      "outputs": [
        {
          "output_type": "execute_result",
          "data": {
            "text/plain": [
              "Text(0.5, 0.98, 'Overall performance vs. test preparation')"
            ]
          },
          "metadata": {},
          "execution_count": 31
        },
        {
          "output_type": "display_data",
          "data": {
            "image/png": "[encoded data removed]",
            "text/plain": [
              "<Figure size 864x864 with 2 Axes>"
            ]
          },
          "metadata": {
            "needs_background": "light"
          }
        }
      ]
    },
    {
      "cell_type": "markdown",
      "metadata": {
        "id": "bIAtMy1cOSz3"
      },
      "source": [
        "Upon inspection, students who completed the preparation course scored better on average than those who did not."
      ]
    },
    {
      "cell_type": "code",
      "metadata": {
        "colab": {
          "base_uri": "https://localhost:8080/"
        },
        "id": "Pp7tJ-mTNiK_",
        "outputId": "d7a758ef-8a9a-4dcf-9a2c-a55ca3beea35"
      },
      "source": [
        "df.groupby('test_prep')['average_score'].mean()"
      ],
      "execution_count": 32,
      "outputs": [
        {
          "output_type": "execute_result",
          "data": {
            "text/plain": [
              "test_prep\n",
              "completed    72.669469\n",
              "none         65.038801\n",
              "Name: average_score, dtype: float64"
            ]
          },
          "metadata": {},
          "execution_count": 32
        }
      ]
    },
    {
      "cell_type": "markdown",
      "metadata": {
        "id": "1o5W5qhPO_Nz"
      },
      "source": [
        "### Testing for Normal Distribution\n",
        "\n",
        "There are two samples with unequal sizes."
      ]
    },
    {
      "cell_type": "code",
      "metadata": {
        "colab": {
          "base_uri": "https://localhost:8080/"
        },
        "id": "q6YBwowgPEvd",
        "outputId": "ae42ccc9-3bf7-44f8-b01c-4d17f60c6e0c"
      },
      "source": [
        "df0 = df[df['test_prep'] == 'none']['average_score']\n",
        "df1 = df[df['test_prep'] != 'none']['average_score']\n",
        "df0.size, df1.size"
      ],
      "execution_count": 33,
      "outputs": [
        {
          "output_type": "execute_result",
          "data": {
            "text/plain": [
              "(642, 358)"
            ]
          },
          "metadata": {},
          "execution_count": 33
        }
      ]
    },
    {
      "cell_type": "code",
      "metadata": {
        "id": "g7JK_DmnQqb5"
      },
      "source": [
        "# Normality test 1"
      ],
      "execution_count": 34,
      "outputs": []
    },
    {
      "cell_type": "code",
      "metadata": {
        "id": "_JKMBY4PRI8B"
      },
      "source": [
        "# Normality test 2"
      ],
      "execution_count": 35,
      "outputs": []
    },
    {
      "cell_type": "markdown",
      "metadata": {
        "id": "kfQZP76fRTkZ"
      },
      "source": [
        "It looks like the normality assumption $\\ldots$"
      ]
    },
    {
      "cell_type": "markdown",
      "metadata": {
        "id": "2G872_3rmeDk"
      },
      "source": [
        "### Hypothesis Test (replace with name)"
      ]
    },
    {
      "cell_type": "code",
      "metadata": {
        "id": "WF3EZPLEmN2W"
      },
      "source": [
        "# Hypothesis test"
      ],
      "execution_count": 36,
      "outputs": []
    },
    {
      "cell_type": "markdown",
      "metadata": {
        "id": "_zEZBfoG9RT9"
      },
      "source": [
        "## Machine Learning Models\n",
        "\n",
        "We would like to predict test scores based on demographic and socioeconomic factors.\n",
        "\n",
        "### Outcomes\n",
        "- average test score\n",
        "- maths score\n",
        "- reading score \n",
        "-writing score\n",
        "\n",
        "### Predictors\n",
        "- gender\n",
        "- race/ethnicity\n",
        "- lunch\n",
        "- parental level of education\n",
        "- test preparation course.\n",
        "\n"
      ]
    },
    {
      "cell_type": "markdown",
      "metadata": {
        "id": "11KL-eDjBbjW"
      },
      "source": [
        "### Outcomes and Predictors\n",
        "\n",
        "Note that <code>parent_uni</code> was derived from <code>parental_ed</code> so only one of these two variables should be used in the prediction models."
      ]
    },
    {
      "cell_type": "code",
      "metadata": {
        "colab": {
          "base_uri": "https://localhost:8080/",
          "height": 203
        },
        "id": "a2FQNaXhBx8n",
        "outputId": "153bf69f-3cd1-499d-b771-f1497dfba450"
      },
      "source": [
        "# Define outcomes\n",
        "average_score = df[\"average_score\"]\n",
        "maths_score = df[\"maths_score\"]\n",
        "reading_score = df[\"read_score\"]\n",
        "writing_score = df[\"write_score\"]\n",
        "\n",
        "# Define predictors\n",
        "df_predictors = df.drop([\"average_score\", \"maths_score\", \"read_score\", \"write_score\", \"parental_ed\"], axis = 1)\n",
        "df_predictors.head()"
      ],
      "execution_count": 37,
      "outputs": [
        {
          "output_type": "execute_result",
          "data": {
            "text/html": [
              "<div>\n",
              "<style scoped>\n",
              "    .dataframe tbody tr th:only-of-type {\n",
              "        vertical-align: middle;\n",
              "    }\n",
              "\n",
              "    .dataframe tbody tr th {\n",
              "        vertical-align: top;\n",
              "    }\n",
              "\n",
              "    .dataframe thead th {\n",
              "        text-align: right;\n",
              "    }\n",
              "</style>\n",
              "<table border=\"1\" class=\"dataframe\">\n",
              "  <thead>\n",
              "    <tr style=\"text-align: right;\">\n",
              "      <th></th>\n",
              "      <th>gender</th>\n",
              "      <th>race_ethn</th>\n",
              "      <th>lunch</th>\n",
              "      <th>test_prep</th>\n",
              "      <th>parent_uni</th>\n",
              "    </tr>\n",
              "  </thead>\n",
              "  <tbody>\n",
              "    <tr>\n",
              "      <th>0</th>\n",
              "      <td>female</td>\n",
              "      <td>group B</td>\n",
              "      <td>standard</td>\n",
              "      <td>none</td>\n",
              "      <td>yes</td>\n",
              "    </tr>\n",
              "    <tr>\n",
              "      <th>1</th>\n",
              "      <td>female</td>\n",
              "      <td>group C</td>\n",
              "      <td>standard</td>\n",
              "      <td>completed</td>\n",
              "      <td>yes</td>\n",
              "    </tr>\n",
              "    <tr>\n",
              "      <th>2</th>\n",
              "      <td>female</td>\n",
              "      <td>group B</td>\n",
              "      <td>standard</td>\n",
              "      <td>none</td>\n",
              "      <td>yes</td>\n",
              "    </tr>\n",
              "    <tr>\n",
              "      <th>3</th>\n",
              "      <td>male</td>\n",
              "      <td>group A</td>\n",
              "      <td>free/reduced</td>\n",
              "      <td>none</td>\n",
              "      <td>yes</td>\n",
              "    </tr>\n",
              "    <tr>\n",
              "      <th>4</th>\n",
              "      <td>male</td>\n",
              "      <td>group C</td>\n",
              "      <td>standard</td>\n",
              "      <td>none</td>\n",
              "      <td>yes</td>\n",
              "    </tr>\n",
              "  </tbody>\n",
              "</table>\n",
              "</div>"
            ],
            "text/plain": [
              "   gender race_ethn         lunch  test_prep parent_uni\n",
              "0  female   group B      standard       none        yes\n",
              "1  female   group C      standard  completed        yes\n",
              "2  female   group B      standard       none        yes\n",
              "3    male   group A  free/reduced       none        yes\n",
              "4    male   group C      standard       none        yes"
            ]
          },
          "metadata": {},
          "execution_count": 37
        }
      ]
    },
    {
      "cell_type": "markdown",
      "metadata": {
        "id": "yFWs-k5KC0zN"
      },
      "source": [
        "### Dummy Encoding\n",
        "\n",
        "We first turn each *object* predictor into a *categorical* variable and then *one-hot encode* them."
      ]
    },
    {
      "cell_type": "code",
      "metadata": {
        "id": "e81zO8nWDFBm",
        "outputId": "b805ce54-d0c6-4988-802d-ebafa4c7e964",
        "colab": {
          "base_uri": "https://localhost:8080/"
        }
      },
      "source": [
        "df_predictors.dtypes"
      ],
      "execution_count": 38,
      "outputs": [
        {
          "output_type": "execute_result",
          "data": {
            "text/plain": [
              "gender        object\n",
              "race_ethn     object\n",
              "lunch         object\n",
              "test_prep     object\n",
              "parent_uni    object\n",
              "dtype: object"
            ]
          },
          "metadata": {},
          "execution_count": 38
        }
      ]
    },
    {
      "cell_type": "code",
      "metadata": {
        "id": "6w_jSWZ0C_bm",
        "outputId": "31c16768-e471-4e8b-b1b2-60478eb56dca",
        "colab": {
          "base_uri": "https://localhost:8080/"
        }
      },
      "source": [
        "# Convert non-numerical predictors into categorical variables\n",
        "# Apply a lambda function instead of a loop\n",
        "# The lambda function turns each column into a categorical variable\n",
        "df_predictors_encoded = df_predictors.apply(lambda x: x.astype('category')) \n",
        "df_predictors_encoded.dtypes"
      ],
      "execution_count": 39,
      "outputs": [
        {
          "output_type": "execute_result",
          "data": {
            "text/plain": [
              "gender        category\n",
              "race_ethn     category\n",
              "lunch         category\n",
              "test_prep     category\n",
              "parent_uni    category\n",
              "dtype: object"
            ]
          },
          "metadata": {},
          "execution_count": 39
        }
      ]
    },
    {
      "cell_type": "markdown",
      "metadata": {
        "id": "P5uaHD_LC-cb"
      },
      "source": [
        ""
      ]
    }
  ]
}