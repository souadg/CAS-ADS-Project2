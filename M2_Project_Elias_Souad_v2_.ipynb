{
  "nbformat": 4,
  "nbformat_minor": 0,
  "metadata": {
    "colab": {
      "name": "M2 Project Elias Souad. v2 .ipynb",
      "provenance": [],
      "collapsed_sections": [],
      "toc_visible": true,
      "include_colab_link": true
    },
    "kernelspec": {
      "name": "python3",
      "display_name": "Python 3"
    },
    "language_info": {
      "name": "python"
    }
  },
  "cells": [
    {
      "cell_type": "markdown",
      "metadata": {
        "id": "view-in-github",
        "colab_type": "text"
      },
      "source": [
        "<a href=\"https://colab.research.google.com/github/souadg/CAS-ADS-Project2/blob/machine_learning/M2_Project_Elias_Souad_v2_.ipynb\" target=\"_parent\"><img src=\"https://colab.research.google.com/assets/colab-badge.svg\" alt=\"Open In Colab\"/></a>"
      ]
    },
    {
      "cell_type": "markdown",
      "metadata": {
        "id": "mLP8FTHIr_i5"
      },
      "source": [
        "# Module 2 Project: Student Performance\n"
      ]
    },
    {
      "cell_type": "markdown",
      "metadata": {
        "id": "I5lphhuwAFD2"
      },
      "source": [
        "## Importing Libraries"
      ]
    },
    {
      "cell_type": "code",
      "metadata": {
        "id": "kcB11Cv3d01E",
        "colab": {
          "base_uri": "https://localhost:8080/"
        },
        "outputId": "d52d785a-8c0e-4624-8f5d-340f67ffed50"
      },
      "source": [
        "# Import libraries\n",
        "\n",
        "# Basic libraries\n",
        "import pandas as pd\n",
        "import numpy as np\n",
        "\n",
        "# Plotting\n",
        "import matplotlib.pyplot as plt\n",
        "\n",
        "# Stats\n",
        "import statsmodels.api as sm\n",
        "from scipy import stats\n",
        "import statsmodels.stats.api as sms # Goldfeld Quandt Test\n",
        "\n",
        "# Models\n",
        "from sklearn.linear_model import LinearRegression\n",
        "from sklearn.ensemble import RandomForestRegressor\n",
        "import xgboost as xg\n",
        "from sklearn.metrics import mean_squared_error, mean_absolute_error, r2_score"
      ],
      "execution_count": 2,
      "outputs": [
        {
          "output_type": "stream",
          "name": "stderr",
          "text": [
            "/usr/local/lib/python3.7/dist-packages/statsmodels/tools/_testing.py:19: FutureWarning: pandas.util.testing is deprecated. Use the functions in the public API at pandas.testing instead.\n",
            "  import pandas.util.testing as tm\n"
          ]
        }
      ]
    },
    {
      "cell_type": "markdown",
      "metadata": {
        "id": "_TIlOjzSsM8y"
      },
      "source": [
        "## Load Data Set"
      ]
    },
    {
      "cell_type": "code",
      "metadata": {
        "id": "lFjYK3ztBTf3"
      },
      "source": [
        "# Display more rows in head\n",
        "pd.set_option('display.max_rows', 6) "
      ],
      "execution_count": 3,
      "outputs": []
    },
    {
      "cell_type": "code",
      "metadata": {
        "id": "3Qw-KmsPeh3T",
        "colab": {
          "base_uri": "https://localhost:8080/",
          "height": 203
        },
        "outputId": "d45c3a18-e351-4a41-8f6e-9dc460256161"
      },
      "source": [
        "# Read comma separated value file\n",
        "url = \"https://raw.githubusercontent.com/souadg/CAS-ADS-Project2/main/StudentsPerformance.csv\"\n",
        "df = pd.read_csv(url)\n",
        "df.head()"
      ],
      "execution_count": 4,
      "outputs": [
        {
          "output_type": "execute_result",
          "data": {
            "text/html": [
              "<div>\n",
              "<style scoped>\n",
              "    .dataframe tbody tr th:only-of-type {\n",
              "        vertical-align: middle;\n",
              "    }\n",
              "\n",
              "    .dataframe tbody tr th {\n",
              "        vertical-align: top;\n",
              "    }\n",
              "\n",
              "    .dataframe thead th {\n",
              "        text-align: right;\n",
              "    }\n",
              "</style>\n",
              "<table border=\"1\" class=\"dataframe\">\n",
              "  <thead>\n",
              "    <tr style=\"text-align: right;\">\n",
              "      <th></th>\n",
              "      <th>gender</th>\n",
              "      <th>race/ethnicity</th>\n",
              "      <th>parental level of education</th>\n",
              "      <th>lunch</th>\n",
              "      <th>test preparation course</th>\n",
              "      <th>math score</th>\n",
              "      <th>reading score</th>\n",
              "      <th>writing score</th>\n",
              "    </tr>\n",
              "  </thead>\n",
              "  <tbody>\n",
              "    <tr>\n",
              "      <th>0</th>\n",
              "      <td>female</td>\n",
              "      <td>group B</td>\n",
              "      <td>bachelor's degree</td>\n",
              "      <td>standard</td>\n",
              "      <td>none</td>\n",
              "      <td>72</td>\n",
              "      <td>72</td>\n",
              "      <td>74</td>\n",
              "    </tr>\n",
              "    <tr>\n",
              "      <th>1</th>\n",
              "      <td>female</td>\n",
              "      <td>group C</td>\n",
              "      <td>some college</td>\n",
              "      <td>standard</td>\n",
              "      <td>completed</td>\n",
              "      <td>69</td>\n",
              "      <td>90</td>\n",
              "      <td>88</td>\n",
              "    </tr>\n",
              "    <tr>\n",
              "      <th>2</th>\n",
              "      <td>female</td>\n",
              "      <td>group B</td>\n",
              "      <td>master's degree</td>\n",
              "      <td>standard</td>\n",
              "      <td>none</td>\n",
              "      <td>90</td>\n",
              "      <td>95</td>\n",
              "      <td>93</td>\n",
              "    </tr>\n",
              "    <tr>\n",
              "      <th>3</th>\n",
              "      <td>male</td>\n",
              "      <td>group A</td>\n",
              "      <td>associate's degree</td>\n",
              "      <td>free/reduced</td>\n",
              "      <td>none</td>\n",
              "      <td>47</td>\n",
              "      <td>57</td>\n",
              "      <td>44</td>\n",
              "    </tr>\n",
              "    <tr>\n",
              "      <th>4</th>\n",
              "      <td>male</td>\n",
              "      <td>group C</td>\n",
              "      <td>some college</td>\n",
              "      <td>standard</td>\n",
              "      <td>none</td>\n",
              "      <td>76</td>\n",
              "      <td>78</td>\n",
              "      <td>75</td>\n",
              "    </tr>\n",
              "  </tbody>\n",
              "</table>\n",
              "</div>"
            ],
            "text/plain": [
              "   gender race/ethnicity  ... reading score writing score\n",
              "0  female        group B  ...            72            74\n",
              "1  female        group C  ...            90            88\n",
              "2  female        group B  ...            95            93\n",
              "3    male        group A  ...            57            44\n",
              "4    male        group C  ...            78            75\n",
              "\n",
              "[5 rows x 8 columns]"
            ]
          },
          "metadata": {},
          "execution_count": 4
        }
      ]
    },
    {
      "cell_type": "code",
      "metadata": {
        "colab": {
          "base_uri": "https://localhost:8080/"
        },
        "id": "L9AWXYeumD0U",
        "outputId": "2742229f-9469-4c01-925f-9e2614bcafa6"
      },
      "source": [
        "print(\"There are %d rows and %d columns in the data frame\" %(df.shape[0], df.shape[1]))"
      ],
      "execution_count": 5,
      "outputs": [
        {
          "output_type": "stream",
          "name": "stdout",
          "text": [
            "There are 1000 rows and 8 columns in the data frame\n"
          ]
        }
      ]
    },
    {
      "cell_type": "code",
      "metadata": {
        "id": "qDAIywrxhybP",
        "colab": {
          "base_uri": "https://localhost:8080/",
          "height": 203
        },
        "outputId": "7045d856-92c5-4016-a291-addf0c671405"
      },
      "source": [
        "# Replace spaces and slash in column names with underscore\n",
        "df.columns = ['gender', 'race_ethn', 'parental_ed', 'lunch', 'test_prep', 'maths_score', 'read_score', 'write_score']\n",
        "df.head()"
      ],
      "execution_count": 6,
      "outputs": [
        {
          "output_type": "execute_result",
          "data": {
            "text/html": [
              "<div>\n",
              "<style scoped>\n",
              "    .dataframe tbody tr th:only-of-type {\n",
              "        vertical-align: middle;\n",
              "    }\n",
              "\n",
              "    .dataframe tbody tr th {\n",
              "        vertical-align: top;\n",
              "    }\n",
              "\n",
              "    .dataframe thead th {\n",
              "        text-align: right;\n",
              "    }\n",
              "</style>\n",
              "<table border=\"1\" class=\"dataframe\">\n",
              "  <thead>\n",
              "    <tr style=\"text-align: right;\">\n",
              "      <th></th>\n",
              "      <th>gender</th>\n",
              "      <th>race_ethn</th>\n",
              "      <th>parental_ed</th>\n",
              "      <th>lunch</th>\n",
              "      <th>test_prep</th>\n",
              "      <th>maths_score</th>\n",
              "      <th>read_score</th>\n",
              "      <th>write_score</th>\n",
              "    </tr>\n",
              "  </thead>\n",
              "  <tbody>\n",
              "    <tr>\n",
              "      <th>0</th>\n",
              "      <td>female</td>\n",
              "      <td>group B</td>\n",
              "      <td>bachelor's degree</td>\n",
              "      <td>standard</td>\n",
              "      <td>none</td>\n",
              "      <td>72</td>\n",
              "      <td>72</td>\n",
              "      <td>74</td>\n",
              "    </tr>\n",
              "    <tr>\n",
              "      <th>1</th>\n",
              "      <td>female</td>\n",
              "      <td>group C</td>\n",
              "      <td>some college</td>\n",
              "      <td>standard</td>\n",
              "      <td>completed</td>\n",
              "      <td>69</td>\n",
              "      <td>90</td>\n",
              "      <td>88</td>\n",
              "    </tr>\n",
              "    <tr>\n",
              "      <th>2</th>\n",
              "      <td>female</td>\n",
              "      <td>group B</td>\n",
              "      <td>master's degree</td>\n",
              "      <td>standard</td>\n",
              "      <td>none</td>\n",
              "      <td>90</td>\n",
              "      <td>95</td>\n",
              "      <td>93</td>\n",
              "    </tr>\n",
              "    <tr>\n",
              "      <th>3</th>\n",
              "      <td>male</td>\n",
              "      <td>group A</td>\n",
              "      <td>associate's degree</td>\n",
              "      <td>free/reduced</td>\n",
              "      <td>none</td>\n",
              "      <td>47</td>\n",
              "      <td>57</td>\n",
              "      <td>44</td>\n",
              "    </tr>\n",
              "    <tr>\n",
              "      <th>4</th>\n",
              "      <td>male</td>\n",
              "      <td>group C</td>\n",
              "      <td>some college</td>\n",
              "      <td>standard</td>\n",
              "      <td>none</td>\n",
              "      <td>76</td>\n",
              "      <td>78</td>\n",
              "      <td>75</td>\n",
              "    </tr>\n",
              "  </tbody>\n",
              "</table>\n",
              "</div>"
            ],
            "text/plain": [
              "   gender race_ethn         parental_ed  ... maths_score read_score  write_score\n",
              "0  female   group B   bachelor's degree  ...          72         72           74\n",
              "1  female   group C        some college  ...          69         90           88\n",
              "2  female   group B     master's degree  ...          90         95           93\n",
              "3    male   group A  associate's degree  ...          47         57           44\n",
              "4    male   group C        some college  ...          76         78           75\n",
              "\n",
              "[5 rows x 8 columns]"
            ]
          },
          "metadata": {},
          "execution_count": 6
        }
      ]
    },
    {
      "cell_type": "code",
      "metadata": {
        "id": "94SLc48fC3Yw",
        "colab": {
          "base_uri": "https://localhost:8080/",
          "height": 203
        },
        "outputId": "a1a81ee3-dc0b-41a8-fda2-9a69e1f03df7"
      },
      "source": [
        "df.tail()"
      ],
      "execution_count": 7,
      "outputs": [
        {
          "output_type": "execute_result",
          "data": {
            "text/html": [
              "<div>\n",
              "<style scoped>\n",
              "    .dataframe tbody tr th:only-of-type {\n",
              "        vertical-align: middle;\n",
              "    }\n",
              "\n",
              "    .dataframe tbody tr th {\n",
              "        vertical-align: top;\n",
              "    }\n",
              "\n",
              "    .dataframe thead th {\n",
              "        text-align: right;\n",
              "    }\n",
              "</style>\n",
              "<table border=\"1\" class=\"dataframe\">\n",
              "  <thead>\n",
              "    <tr style=\"text-align: right;\">\n",
              "      <th></th>\n",
              "      <th>gender</th>\n",
              "      <th>race_ethn</th>\n",
              "      <th>parental_ed</th>\n",
              "      <th>lunch</th>\n",
              "      <th>test_prep</th>\n",
              "      <th>maths_score</th>\n",
              "      <th>read_score</th>\n",
              "      <th>write_score</th>\n",
              "    </tr>\n",
              "  </thead>\n",
              "  <tbody>\n",
              "    <tr>\n",
              "      <th>995</th>\n",
              "      <td>female</td>\n",
              "      <td>group E</td>\n",
              "      <td>master's degree</td>\n",
              "      <td>standard</td>\n",
              "      <td>completed</td>\n",
              "      <td>88</td>\n",
              "      <td>99</td>\n",
              "      <td>95</td>\n",
              "    </tr>\n",
              "    <tr>\n",
              "      <th>996</th>\n",
              "      <td>male</td>\n",
              "      <td>group C</td>\n",
              "      <td>high school</td>\n",
              "      <td>free/reduced</td>\n",
              "      <td>none</td>\n",
              "      <td>62</td>\n",
              "      <td>55</td>\n",
              "      <td>55</td>\n",
              "    </tr>\n",
              "    <tr>\n",
              "      <th>997</th>\n",
              "      <td>female</td>\n",
              "      <td>group C</td>\n",
              "      <td>high school</td>\n",
              "      <td>free/reduced</td>\n",
              "      <td>completed</td>\n",
              "      <td>59</td>\n",
              "      <td>71</td>\n",
              "      <td>65</td>\n",
              "    </tr>\n",
              "    <tr>\n",
              "      <th>998</th>\n",
              "      <td>female</td>\n",
              "      <td>group D</td>\n",
              "      <td>some college</td>\n",
              "      <td>standard</td>\n",
              "      <td>completed</td>\n",
              "      <td>68</td>\n",
              "      <td>78</td>\n",
              "      <td>77</td>\n",
              "    </tr>\n",
              "    <tr>\n",
              "      <th>999</th>\n",
              "      <td>female</td>\n",
              "      <td>group D</td>\n",
              "      <td>some college</td>\n",
              "      <td>free/reduced</td>\n",
              "      <td>none</td>\n",
              "      <td>77</td>\n",
              "      <td>86</td>\n",
              "      <td>86</td>\n",
              "    </tr>\n",
              "  </tbody>\n",
              "</table>\n",
              "</div>"
            ],
            "text/plain": [
              "     gender race_ethn      parental_ed  ... maths_score read_score  write_score\n",
              "995  female   group E  master's degree  ...          88         99           95\n",
              "996    male   group C      high school  ...          62         55           55\n",
              "997  female   group C      high school  ...          59         71           65\n",
              "998  female   group D     some college  ...          68         78           77\n",
              "999  female   group D     some college  ...          77         86           86\n",
              "\n",
              "[5 rows x 8 columns]"
            ]
          },
          "metadata": {},
          "execution_count": 7
        }
      ]
    },
    {
      "cell_type": "code",
      "metadata": {
        "id": "KishyqSOn5zE",
        "colab": {
          "base_uri": "https://localhost:8080/"
        },
        "outputId": "fbd38ad1-090a-441b-c945-67d56b222f8b"
      },
      "source": [
        "# Types of variables, number of rows, columns\n",
        "df.info()"
      ],
      "execution_count": 8,
      "outputs": [
        {
          "output_type": "stream",
          "name": "stdout",
          "text": [
            "<class 'pandas.core.frame.DataFrame'>\n",
            "RangeIndex: 1000 entries, 0 to 999\n",
            "Data columns (total 8 columns):\n",
            " #   Column       Non-Null Count  Dtype \n",
            "---  ------       --------------  ----- \n",
            " 0   gender       1000 non-null   object\n",
            " 1   race_ethn    1000 non-null   object\n",
            " 2   parental_ed  1000 non-null   object\n",
            " 3   lunch        1000 non-null   object\n",
            " 4   test_prep    1000 non-null   object\n",
            " 5   maths_score  1000 non-null   int64 \n",
            " 6   read_score   1000 non-null   int64 \n",
            " 7   write_score  1000 non-null   int64 \n",
            "dtypes: int64(3), object(5)\n",
            "memory usage: 62.6+ KB\n"
          ]
        }
      ]
    },
    {
      "cell_type": "markdown",
      "metadata": {
        "id": "7Lf8hw07Eu6-"
      },
      "source": [
        "## Descriptive Statistics\n"
      ]
    },
    {
      "cell_type": "code",
      "metadata": {
        "colab": {
          "base_uri": "https://localhost:8080/",
          "height": 294
        },
        "id": "JVMajFSxjqUr",
        "outputId": "da3085ef-f89c-409b-bc16-b4cab07be5fa"
      },
      "source": [
        "# Get general information on descriptive statistics\n",
        "df.describe()"
      ],
      "execution_count": 9,
      "outputs": [
        {
          "output_type": "execute_result",
          "data": {
            "text/html": [
              "<div>\n",
              "<style scoped>\n",
              "    .dataframe tbody tr th:only-of-type {\n",
              "        vertical-align: middle;\n",
              "    }\n",
              "\n",
              "    .dataframe tbody tr th {\n",
              "        vertical-align: top;\n",
              "    }\n",
              "\n",
              "    .dataframe thead th {\n",
              "        text-align: right;\n",
              "    }\n",
              "</style>\n",
              "<table border=\"1\" class=\"dataframe\">\n",
              "  <thead>\n",
              "    <tr style=\"text-align: right;\">\n",
              "      <th></th>\n",
              "      <th>maths_score</th>\n",
              "      <th>read_score</th>\n",
              "      <th>write_score</th>\n",
              "    </tr>\n",
              "  </thead>\n",
              "  <tbody>\n",
              "    <tr>\n",
              "      <th>count</th>\n",
              "      <td>1000.00000</td>\n",
              "      <td>1000.000000</td>\n",
              "      <td>1000.000000</td>\n",
              "    </tr>\n",
              "    <tr>\n",
              "      <th>mean</th>\n",
              "      <td>66.08900</td>\n",
              "      <td>69.169000</td>\n",
              "      <td>68.054000</td>\n",
              "    </tr>\n",
              "    <tr>\n",
              "      <th>std</th>\n",
              "      <td>15.16308</td>\n",
              "      <td>14.600192</td>\n",
              "      <td>15.195657</td>\n",
              "    </tr>\n",
              "    <tr>\n",
              "      <th>...</th>\n",
              "      <td>...</td>\n",
              "      <td>...</td>\n",
              "      <td>...</td>\n",
              "    </tr>\n",
              "    <tr>\n",
              "      <th>50%</th>\n",
              "      <td>66.00000</td>\n",
              "      <td>70.000000</td>\n",
              "      <td>69.000000</td>\n",
              "    </tr>\n",
              "    <tr>\n",
              "      <th>75%</th>\n",
              "      <td>77.00000</td>\n",
              "      <td>79.000000</td>\n",
              "      <td>79.000000</td>\n",
              "    </tr>\n",
              "    <tr>\n",
              "      <th>max</th>\n",
              "      <td>100.00000</td>\n",
              "      <td>100.000000</td>\n",
              "      <td>100.000000</td>\n",
              "    </tr>\n",
              "  </tbody>\n",
              "</table>\n",
              "<p>8 rows × 3 columns</p>\n",
              "</div>"
            ],
            "text/plain": [
              "       maths_score   read_score  write_score\n",
              "count   1000.00000  1000.000000  1000.000000\n",
              "mean      66.08900    69.169000    68.054000\n",
              "std       15.16308    14.600192    15.195657\n",
              "...            ...          ...          ...\n",
              "50%       66.00000    70.000000    69.000000\n",
              "75%       77.00000    79.000000    79.000000\n",
              "max      100.00000   100.000000   100.000000\n",
              "\n",
              "[8 rows x 3 columns]"
            ]
          },
          "metadata": {},
          "execution_count": 9
        }
      ]
    },
    {
      "cell_type": "markdown",
      "metadata": {
        "id": "lywdkp5B5ZaS"
      },
      "source": [
        "An idea would be to consolidate the parental education background into two categories: \n",
        "\n",
        "- up to and including high school\n",
        "- university\n",
        "\n",
        "[Associate's degree](https://en.wikipedia.org/wiki/Associate_degree) is obtained after graduating from high school."
      ]
    },
    {
      "cell_type": "code",
      "metadata": {
        "id": "K-GICUaUkfYQ",
        "colab": {
          "base_uri": "https://localhost:8080/",
          "height": 203
        },
        "outputId": "2ceee5bd-ad4d-4da0-b17c-d2972500995a"
      },
      "source": [
        "# List of values for high school\n",
        "lst_hs = ['some high school', 'high school']\n",
        "df.loc[df['parental_ed'].isin(lst_hs), 'parent_uni'] = \"no\"\n",
        "\n",
        "# Complement of high school list\n",
        "df.loc[~df['parental_ed'].isin(lst_hs), 'parent_uni'] = \"yes\"\n",
        "df.head()"
      ],
      "execution_count": 10,
      "outputs": [
        {
          "output_type": "execute_result",
          "data": {
            "text/html": [
              "<div>\n",
              "<style scoped>\n",
              "    .dataframe tbody tr th:only-of-type {\n",
              "        vertical-align: middle;\n",
              "    }\n",
              "\n",
              "    .dataframe tbody tr th {\n",
              "        vertical-align: top;\n",
              "    }\n",
              "\n",
              "    .dataframe thead th {\n",
              "        text-align: right;\n",
              "    }\n",
              "</style>\n",
              "<table border=\"1\" class=\"dataframe\">\n",
              "  <thead>\n",
              "    <tr style=\"text-align: right;\">\n",
              "      <th></th>\n",
              "      <th>gender</th>\n",
              "      <th>race_ethn</th>\n",
              "      <th>parental_ed</th>\n",
              "      <th>lunch</th>\n",
              "      <th>test_prep</th>\n",
              "      <th>maths_score</th>\n",
              "      <th>read_score</th>\n",
              "      <th>write_score</th>\n",
              "      <th>parent_uni</th>\n",
              "    </tr>\n",
              "  </thead>\n",
              "  <tbody>\n",
              "    <tr>\n",
              "      <th>0</th>\n",
              "      <td>female</td>\n",
              "      <td>group B</td>\n",
              "      <td>bachelor's degree</td>\n",
              "      <td>standard</td>\n",
              "      <td>none</td>\n",
              "      <td>72</td>\n",
              "      <td>72</td>\n",
              "      <td>74</td>\n",
              "      <td>yes</td>\n",
              "    </tr>\n",
              "    <tr>\n",
              "      <th>1</th>\n",
              "      <td>female</td>\n",
              "      <td>group C</td>\n",
              "      <td>some college</td>\n",
              "      <td>standard</td>\n",
              "      <td>completed</td>\n",
              "      <td>69</td>\n",
              "      <td>90</td>\n",
              "      <td>88</td>\n",
              "      <td>yes</td>\n",
              "    </tr>\n",
              "    <tr>\n",
              "      <th>2</th>\n",
              "      <td>female</td>\n",
              "      <td>group B</td>\n",
              "      <td>master's degree</td>\n",
              "      <td>standard</td>\n",
              "      <td>none</td>\n",
              "      <td>90</td>\n",
              "      <td>95</td>\n",
              "      <td>93</td>\n",
              "      <td>yes</td>\n",
              "    </tr>\n",
              "    <tr>\n",
              "      <th>3</th>\n",
              "      <td>male</td>\n",
              "      <td>group A</td>\n",
              "      <td>associate's degree</td>\n",
              "      <td>free/reduced</td>\n",
              "      <td>none</td>\n",
              "      <td>47</td>\n",
              "      <td>57</td>\n",
              "      <td>44</td>\n",
              "      <td>yes</td>\n",
              "    </tr>\n",
              "    <tr>\n",
              "      <th>4</th>\n",
              "      <td>male</td>\n",
              "      <td>group C</td>\n",
              "      <td>some college</td>\n",
              "      <td>standard</td>\n",
              "      <td>none</td>\n",
              "      <td>76</td>\n",
              "      <td>78</td>\n",
              "      <td>75</td>\n",
              "      <td>yes</td>\n",
              "    </tr>\n",
              "  </tbody>\n",
              "</table>\n",
              "</div>"
            ],
            "text/plain": [
              "   gender race_ethn         parental_ed  ... read_score write_score  parent_uni\n",
              "0  female   group B   bachelor's degree  ...         72          74         yes\n",
              "1  female   group C        some college  ...         90          88         yes\n",
              "2  female   group B     master's degree  ...         95          93         yes\n",
              "3    male   group A  associate's degree  ...         57          44         yes\n",
              "4    male   group C        some college  ...         78          75         yes\n",
              "\n",
              "[5 rows x 9 columns]"
            ]
          },
          "metadata": {},
          "execution_count": 10
        }
      ]
    },
    {
      "cell_type": "code",
      "metadata": {
        "colab": {
          "base_uri": "https://localhost:8080/",
          "height": 699
        },
        "id": "lwwD537OsZER",
        "outputId": "99300d0c-e631-4368-af3a-0270fd0d7ac1"
      },
      "source": [
        "plt.figure(figsize=(12, 12))\n",
        "plt.subplot(321)\n",
        "ax1 = df.groupby('gender').size().plot(kind = 'pie', autopct = '%.2f')\n",
        "ax1.title.set_text(\"Gender\")\n",
        "plt.ylabel(\"\")\n",
        "plt.subplot(322)\n",
        "ax2 = df.groupby('race_ethn').size().plot(kind = \"pie\", autopct = \"%.2f\")\n",
        "ax2.title.set_text(\"Race/Ethnicity\")\n",
        "plt.ylabel(\"\")\n",
        "plt.subplot(323)\n",
        "ax3 = df.groupby('parent_uni').size().plot(kind = \"pie\", autopct = \"%.2f\")\n",
        "ax3.title.set_text(\"Parental University Education\")\n",
        "plt.ylabel(\"\")\n",
        "plt.subplot(324)\n",
        "ax4 = df.groupby('parental_ed').size().plot(kind = \"pie\", autopct = \"%.2f\")\n",
        "ax4.title.set_text(\"Parental Education Details\")\n",
        "plt.ylabel(\"\")\n",
        "plt.subplot(325)\n",
        "ax5 = df.groupby('lunch').size().plot(kind = \"pie\", autopct = \"%.2f\")\n",
        "ax5.title.set_text(\"School Lunch Status\")\n",
        "plt.ylabel(\"\")\n",
        "plt.subplot(326)\n",
        "ax6 = df.groupby('test_prep').size().plot(kind = \"pie\", autopct = \"%.2f\")\n",
        "ax6.title.set_text(\"Test Preparation Course\")\n",
        "plt.ylabel(\"\")\n",
        "plt.show()"
      ],
      "execution_count": 11,
      "outputs": [
        {
          "output_type": "display_data",
          "data": {
            "image/png": "[encoded data removed]",
            "text/plain": [
              "<Figure size 864x864 with 6 Axes>"
            ]
          },
          "metadata": {}
        }
      ]
    },
    {
      "cell_type": "markdown",
      "metadata": {
        "id": "oyytLkdXuZVi"
      },
      "source": [
        "We can use histograms to see how the exam scores differ for a categorical variable such as gender. Similar histograms could be generated for lunch, race, parental level of education, and test preparation course."
      ]
    },
    {
      "cell_type": "code",
      "metadata": {
        "colab": {
          "base_uri": "https://localhost:8080/",
          "height": 449
        },
        "id": "_ER94GUFu-GV",
        "outputId": "264596de-97bd-4af9-cc51-b39330746e20"
      },
      "source": [
        "# Filter data frame by gender\n",
        "df_female = df[df['gender']=='female']\n",
        "df_male = df[df['gender']=='male']\n",
        "\n",
        "# Plot female scores\n",
        "plt.figure(figsize=(15, 15))\n",
        "plt.subplot(221)\n",
        "df_female['maths_score'].plot(kind=\"hist\", fill= False,histtype='step',title = 'Females', label = 'maths')\n",
        "df_female['write_score'].plot(kind=\"hist\", fill= False,histtype='step',title = 'Females', label = 'writing')\n",
        "ax = df_female['read_score'].plot(kind=\"hist\", fill= False, histtype='step', label=\"reading\")\n",
        "ax.set_xlabel('Grade out 100')\n",
        "ax.set_ylabel('Absolute frequency')\n",
        "plt.legend()\n",
        "\n",
        "# Plot male scores\n",
        "plt.subplot(222)\n",
        "df_male['maths_score'].plot(kind=\"hist\", fill= False,histtype='step',title = 'Males', label = 'maths')\n",
        "df_male['write_score'].plot(kind=\"hist\", fill= False,histtype='step',title = 'Males', label = 'writing')\n",
        "ax = df_male['read_score'].plot(kind=\"hist\", fill= False, histtype='step', label=\"reading\")\n",
        "ax.set_xlabel('Grade out 100')\n",
        "ax.set_ylabel('Absolute frequency')\n",
        "plt.legend()\n",
        "\n",
        "plt.show()"
      ],
      "execution_count": 12,
      "outputs": [
        {
          "output_type": "display_data",
          "data": {
            "image/png": "[encoded data removed]",
            "text/plain": [
              "<Figure size 1080x1080 with 2 Axes>"
            ]
          },
          "metadata": {
            "needs_background": "light"
          }
        }
      ]
    },
    {
      "cell_type": "markdown",
      "metadata": {
        "id": "Wr5rmLEU5a32"
      },
      "source": [
        "## Hypothesis 1: Maths Score and Gender\n",
        "\n",
        "We denote the working hypothesis as H<sub>1</sub> and the null hypothesis as H<sub>0</sub>.\n"
      ]
    },
    {
      "cell_type": "markdown",
      "metadata": {
        "id": "cO1G2v31FVwv"
      },
      "source": [
        "### Defining Hypothesis\n",
        "\n",
        "**H<sub>1</sub>**: male students have higher maths scores than female students.\n",
        "\n",
        "**H<sub>0</sub>**: male students have $\\leq$ maths scores than female students.\n",
        "\n",
        "On inspection, we find that the mean of the male maths score is higher than that of the female maths score."
      ]
    },
    {
      "cell_type": "code",
      "metadata": {
        "id": "Pog1o4_H7krY",
        "colab": {
          "base_uri": "https://localhost:8080/"
        },
        "outputId": "92577c12-6db1-43ae-d6d5-351f9a90e046"
      },
      "source": [
        "print(\"Mean maths scores are %1.2f for females and %1.2f for males\" %(df_female[\"maths_score\"].mean(), df_male[\"maths_score\"].mean()))"
      ],
      "execution_count": 13,
      "outputs": [
        {
          "output_type": "stream",
          "name": "stdout",
          "text": [
            "Mean maths scores are 63.63 for females and 68.73 for males\n"
          ]
        }
      ]
    },
    {
      "cell_type": "markdown",
      "metadata": {
        "id": "A37DxrLNbV4n"
      },
      "source": [
        "### Testing for Normal Distribution\n",
        "\n",
        "Some statistical tests assume that the samples to be tested come from a normal distribution. To be able to choose the appropriate tests, we must thus first check if our samples come from a normal distribution. We can test for normality  using a qq-plot or a normality test."
      ]
    },
    {
      "cell_type": "code",
      "metadata": {
        "colab": {
          "base_uri": "https://localhost:8080/",
          "height": 541
        },
        "id": "_Lj2iRhebrB0",
        "outputId": "8303b9d5-e5ee-4cd5-f255-24c9161255fb"
      },
      "source": [
        "# QQ-Plot\n",
        "# TODO: Add titles and put in one figure\n",
        "# Female maths score\n",
        "sm.qqplot(df_female['maths_score'], line='s')\n",
        "# Male maths score\n",
        "sm.qqplot(df_male['maths_score'], line='s')\n",
        "plt.show()"
      ],
      "execution_count": 14,
      "outputs": [
        {
          "output_type": "display_data",
          "data": {
            "image/png": "[encoded data removed]",
            "text/plain": [
              "<Figure size 432x288 with 1 Axes>"
            ]
          },
          "metadata": {
            "needs_background": "light"
          }
        },
        {
          "output_type": "display_data",
          "data": {
            "image/png": "[encoded data removed]",
            "text/plain": [
              "<Figure size 432x288 with 1 Axes>"
            ]
          },
          "metadata": {
            "needs_background": "light"
          }
        }
      ]
    },
    {
      "cell_type": "markdown",
      "metadata": {
        "id": "te1121_keZoR"
      },
      "source": [
        "The null hypothesis of the D'Agostino-Pearson test is normal distribution. If the resulting *p*-value is larger than 0.001 we cannot reject the normality of the distribution.\n",
        "\n",
        "**Question**: should we pick a different value for $\\alpha$?\n",
        "\n",
        "**Answer (Elias)**: $\\alpha$ is in the end an arbitrarily chosen value, but see the addition below.\n",
        "\n",
        "**Answer (Souad)**: Actually I checked the literature,  most tests use $\\alpha = 0.05$. This means that both Pearson and Shapiro reject the null hypotesis, i.e. reject normality."
      ]
    },
    {
      "cell_type": "code",
      "metadata": {
        "id": "i5vR3PLlcNjf",
        "colab": {
          "base_uri": "https://localhost:8080/"
        },
        "outputId": "cd541826-2669-4af8-cb8b-177a34d08426"
      },
      "source": [
        "# Normality test female maths score\n",
        "# D Agostino-Pearson. The method returns the test statistic value and the p-value\n",
        "k2, p = stats.normaltest(df_female['maths_score']) \n",
        "alpha = 0.05 # Rejection criterion defined by you\n",
        "print('Alpha = ', alpha)\n",
        "print('p = ', p)\n",
        "if p < alpha:  # null hypothesis: x comes from a normal distribution\n",
        "     print(\"We can reject the null hypothesis of normality of female maths score\")\n",
        "else:\n",
        "  print(\"We cannot reject the null hypothesis of normality of female maths score\")"
      ],
      "execution_count": 15,
      "outputs": [
        {
          "output_type": "stream",
          "name": "stdout",
          "text": [
            "Alpha =  0.05\n",
            "p =  0.0007002831165387053\n",
            "We can reject the null hypothesis of normality of female maths score\n"
          ]
        }
      ]
    },
    {
      "cell_type": "code",
      "metadata": {
        "colab": {
          "base_uri": "https://localhost:8080/"
        },
        "id": "OTFeZ2B6f3gK",
        "outputId": "12ef2e25-3bda-4097-b438-201c33c289ce"
      },
      "source": [
        "# Normality test male maths score\n",
        "k2, p = stats.normaltest(df_male['maths_score']) \n",
        "alpha = 0.05 # Rejection criterion defined by you\n",
        "print('Alpha = ', alpha)\n",
        "print('p = ', p)\n",
        "if p < alpha:  # null hypothesis: x comes from a normal distribution\n",
        "     print(\"We can reject the null hypothesis of normality of male maths score\")\n",
        "else:\n",
        "  print(\"We cannot reject the null hypothesis of normality of male maths score\")"
      ],
      "execution_count": 16,
      "outputs": [
        {
          "output_type": "stream",
          "name": "stdout",
          "text": [
            "Alpha =  0.05\n",
            "p =  0.06459355656271938\n",
            "We cannot reject the null hypothesis of normality of male maths score\n"
          ]
        }
      ]
    },
    {
      "cell_type": "markdown",
      "metadata": {
        "id": "rPYuS6GHZvjX"
      },
      "source": [
        "It looks like the normality assumption for the female maths score does not hold.\n"
      ]
    },
    {
      "cell_type": "markdown",
      "metadata": {
        "id": "JLmEv2odYEao"
      },
      "source": [
        "Note, however, also the *p*-values for both samples in question retrieved from the Shapiro-Wilk test for normality (this test can be used for samples between 3 $\\leq$ n $\\leq$ 5000): "
      ]
    },
    {
      "cell_type": "code",
      "metadata": {
        "colab": {
          "base_uri": "https://localhost:8080/"
        },
        "id": "FjfiHh7gVlhz",
        "outputId": "a3adfbef-a375-473e-c0c5-5006df80b5d3"
      },
      "source": [
        "s,p = stats.shapiro(df_female['maths_score'])\n",
        "print('Test statistic = %.2f, p-value = %.2e' %(s, p))"
      ],
      "execution_count": 17,
      "outputs": [
        {
          "output_type": "stream",
          "name": "stdout",
          "text": [
            "Test statistic = 0.99, p-value = 3.52e-03\n"
          ]
        }
      ]
    },
    {
      "cell_type": "code",
      "metadata": {
        "colab": {
          "base_uri": "https://localhost:8080/"
        },
        "id": "ddH9ss5EYjUo",
        "outputId": "f8d3ccb5-0589-46eb-9265-9ba1e97f0baa"
      },
      "source": [
        "s,p = stats.shapiro(df_male['maths_score'])\n",
        "print('Test statistic = %.2f, p-value = %.2e' %(s, p))"
      ],
      "execution_count": 18,
      "outputs": [
        {
          "output_type": "stream",
          "name": "stdout",
          "text": [
            "Test statistic = 0.99, p-value = 3.80e-02\n"
          ]
        }
      ]
    },
    {
      "cell_type": "markdown",
      "metadata": {
        "id": "kXrp45NrbA6j"
      },
      "source": [
        "These *p*-values suggest that the normality assumptions do not hold for neither males nor females.\n"
      ]
    },
    {
      "cell_type": "markdown",
      "metadata": {
        "id": "pGK5BNGWgdJ-"
      },
      "source": [
        "### Mann-Whitney U test\n",
        "It appears that the most apporpriate test is the Mann-Whitney U test for two independent samples, non-normally distributed.\n",
        "\n",
        "Note that this test should only be used with at least 20 data points.\n"
      ]
    },
    {
      "cell_type": "code",
      "metadata": {
        "colab": {
          "base_uri": "https://localhost:8080/"
        },
        "id": "3wbP_3NkhT5q",
        "outputId": "197338cd-21ce-4b59-a88b-6da59fc8d2c7"
      },
      "source": [
        "df_female['maths_score'].size"
      ],
      "execution_count": 19,
      "outputs": [
        {
          "output_type": "execute_result",
          "data": {
            "text/plain": [
              "518"
            ]
          },
          "metadata": {},
          "execution_count": 19
        }
      ]
    },
    {
      "cell_type": "code",
      "metadata": {
        "colab": {
          "base_uri": "https://localhost:8080/"
        },
        "id": "puoKRUvMev0S",
        "outputId": "8ab17ca6-45e2-4017-c139-b50973b66aa9"
      },
      "source": [
        "df_male['maths_score'].size"
      ],
      "execution_count": 20,
      "outputs": [
        {
          "output_type": "execute_result",
          "data": {
            "text/plain": [
              "482"
            ]
          },
          "metadata": {},
          "execution_count": 20
        }
      ]
    },
    {
      "cell_type": "code",
      "metadata": {
        "colab": {
          "base_uri": "https://localhost:8080/"
        },
        "id": "qB8fCF0xhchb",
        "outputId": "f8507dee-435c-48fb-f367-1aca243252e4"
      },
      "source": [
        "t, p = stats.mannwhitneyu(df_male['maths_score'],df_female['maths_score'], alternative='greater')\n",
        "print(\"The p-value of the Mann-Whitney U test is %1.2e\" %p)"
      ],
      "execution_count": 21,
      "outputs": [
        {
          "output_type": "stream",
          "name": "stdout",
          "text": [
            "The p-value of the Mann-Whitney U test is 2.14e-07\n"
          ]
        }
      ]
    },
    {
      "cell_type": "markdown",
      "metadata": {
        "id": "ptFjbu2YiL83"
      },
      "source": [
        "The *p*-value is $2.14 \\times 10^{-7}$, therefore we can reject the null hypothesis: it is very unlikely that male maths scores are lower than female maths scores or equal. \n",
        "\n",
        "Did you write this **Elias**? \n",
        "\n",
        "*Thus, our working hypothesis (alternative hypothesis) is confirmed that the math scores of male students are higher than those of female students.*\n",
        "\n",
        "A hypothesis test does **not** confirm the working hypothesis. It merely allows us to reject the null hypothesis with a certain confidence.\n",
        "I suggest replacing the above with:\n",
        "\n",
        "*There is strong evidence that male students perform better in maths test than their female counterparts.*"
      ]
    },
    {
      "cell_type": "markdown",
      "metadata": {
        "id": "J3qsbEMjuOWF"
      },
      "source": [
        "## Hypothesis 2: Test Performance and Parental University Education\n",
        "\n",
        "Here we make the hypothesis that there is no relation between the students' test performance and whether their parents went to university or not.\n",
        "\n",
        "For this purpose, we created a column <code>parent_univ</code> which indicates whether the parents had go to university/college or not.\n",
        "\n",
        "In addition, we will create an additional feature <code>average_score</code> which averages the maths, reading and writing tests."
      ]
    },
    {
      "cell_type": "code",
      "metadata": {
        "colab": {
          "base_uri": "https://localhost:8080/",
          "height": 203
        },
        "id": "JfxYpxm0zqNL",
        "outputId": "5a03c997-8b2e-428e-fcc2-8ccd2290d628"
      },
      "source": [
        "df['average_score'] = round(df[['maths_score', 'read_score', 'write_score']].mean(axis = 1), 2)\n",
        "df.head()"
      ],
      "execution_count": 22,
      "outputs": [
        {
          "output_type": "execute_result",
          "data": {
            "text/html": [
              "<div>\n",
              "<style scoped>\n",
              "    .dataframe tbody tr th:only-of-type {\n",
              "        vertical-align: middle;\n",
              "    }\n",
              "\n",
              "    .dataframe tbody tr th {\n",
              "        vertical-align: top;\n",
              "    }\n",
              "\n",
              "    .dataframe thead th {\n",
              "        text-align: right;\n",
              "    }\n",
              "</style>\n",
              "<table border=\"1\" class=\"dataframe\">\n",
              "  <thead>\n",
              "    <tr style=\"text-align: right;\">\n",
              "      <th></th>\n",
              "      <th>gender</th>\n",
              "      <th>race_ethn</th>\n",
              "      <th>parental_ed</th>\n",
              "      <th>lunch</th>\n",
              "      <th>test_prep</th>\n",
              "      <th>maths_score</th>\n",
              "      <th>read_score</th>\n",
              "      <th>write_score</th>\n",
              "      <th>parent_uni</th>\n",
              "      <th>average_score</th>\n",
              "    </tr>\n",
              "  </thead>\n",
              "  <tbody>\n",
              "    <tr>\n",
              "      <th>0</th>\n",
              "      <td>female</td>\n",
              "      <td>group B</td>\n",
              "      <td>bachelor's degree</td>\n",
              "      <td>standard</td>\n",
              "      <td>none</td>\n",
              "      <td>72</td>\n",
              "      <td>72</td>\n",
              "      <td>74</td>\n",
              "      <td>yes</td>\n",
              "      <td>72.67</td>\n",
              "    </tr>\n",
              "    <tr>\n",
              "      <th>1</th>\n",
              "      <td>female</td>\n",
              "      <td>group C</td>\n",
              "      <td>some college</td>\n",
              "      <td>standard</td>\n",
              "      <td>completed</td>\n",
              "      <td>69</td>\n",
              "      <td>90</td>\n",
              "      <td>88</td>\n",
              "      <td>yes</td>\n",
              "      <td>82.33</td>\n",
              "    </tr>\n",
              "    <tr>\n",
              "      <th>2</th>\n",
              "      <td>female</td>\n",
              "      <td>group B</td>\n",
              "      <td>master's degree</td>\n",
              "      <td>standard</td>\n",
              "      <td>none</td>\n",
              "      <td>90</td>\n",
              "      <td>95</td>\n",
              "      <td>93</td>\n",
              "      <td>yes</td>\n",
              "      <td>92.67</td>\n",
              "    </tr>\n",
              "    <tr>\n",
              "      <th>3</th>\n",
              "      <td>male</td>\n",
              "      <td>group A</td>\n",
              "      <td>associate's degree</td>\n",
              "      <td>free/reduced</td>\n",
              "      <td>none</td>\n",
              "      <td>47</td>\n",
              "      <td>57</td>\n",
              "      <td>44</td>\n",
              "      <td>yes</td>\n",
              "      <td>49.33</td>\n",
              "    </tr>\n",
              "    <tr>\n",
              "      <th>4</th>\n",
              "      <td>male</td>\n",
              "      <td>group C</td>\n",
              "      <td>some college</td>\n",
              "      <td>standard</td>\n",
              "      <td>none</td>\n",
              "      <td>76</td>\n",
              "      <td>78</td>\n",
              "      <td>75</td>\n",
              "      <td>yes</td>\n",
              "      <td>76.33</td>\n",
              "    </tr>\n",
              "  </tbody>\n",
              "</table>\n",
              "</div>"
            ],
            "text/plain": [
              "   gender race_ethn         parental_ed  ... write_score parent_uni  average_score\n",
              "0  female   group B   bachelor's degree  ...          74        yes          72.67\n",
              "1  female   group C        some college  ...          88        yes          82.33\n",
              "2  female   group B     master's degree  ...          93        yes          92.67\n",
              "3    male   group A  associate's degree  ...          44        yes          49.33\n",
              "4    male   group C        some college  ...          75        yes          76.33\n",
              "\n",
              "[5 rows x 10 columns]"
            ]
          },
          "metadata": {},
          "execution_count": 22
        }
      ]
    },
    {
      "cell_type": "markdown",
      "metadata": {
        "id": "Yz_abls61jTv"
      },
      "source": [
        "### Defining Hypothesis\n",
        "\n",
        "**H<sub>1</sub>**: There is no relation between overall student performance and whether their parents went to university.\n",
        "\n",
        "**H<sub>0</sub>**: There is a relation between the overall student performance and whether their parents went to university.\n",
        "\n",
        "So we have two samples: Students whose parents went to university and those whose parents did not attend university."
      ]
    },
    {
      "cell_type": "code",
      "metadata": {
        "id": "mmeqVnnr1hwD"
      },
      "source": [
        "df_uni = df.loc[df['parent_uni'] == \"yes\", 'average_score']\n",
        "df_no_uni = df.loc[df['parent_uni'] != \"yes\",  'average_score']"
      ],
      "execution_count": 23,
      "outputs": []
    },
    {
      "cell_type": "code",
      "metadata": {
        "colab": {
          "base_uri": "https://localhost:8080/"
        },
        "id": "zAPC64qA4WOV",
        "outputId": "a71812db-258a-4035-a82b-58755cd80689"
      },
      "source": [
        "df_no_uni.head()"
      ],
      "execution_count": 24,
      "outputs": [
        {
          "output_type": "execute_result",
          "data": {
            "text/plain": [
              "8     65.00\n",
              "9     49.33\n",
              "12    73.00\n",
              "15    74.00\n",
              "16    87.67\n",
              "Name: average_score, dtype: float64"
            ]
          },
          "metadata": {},
          "execution_count": 24
        }
      ]
    },
    {
      "cell_type": "code",
      "metadata": {
        "colab": {
          "base_uri": "https://localhost:8080/"
        },
        "id": "K2v_bEuT4US8",
        "outputId": "03c7a108-2215-4693-a069-dbb71a791ba6"
      },
      "source": [
        "df_uni.head()"
      ],
      "execution_count": 25,
      "outputs": [
        {
          "output_type": "execute_result",
          "data": {
            "text/plain": [
              "0    72.67\n",
              "1    82.33\n",
              "2    92.67\n",
              "3    49.33\n",
              "4    76.33\n",
              "Name: average_score, dtype: float64"
            ]
          },
          "metadata": {},
          "execution_count": 25
        }
      ]
    },
    {
      "cell_type": "markdown",
      "metadata": {
        "id": "ZHNkFyn24q2s"
      },
      "source": [
        "### Testing for Normal Distribution\n",
        "\n"
      ]
    },
    {
      "cell_type": "code",
      "metadata": {
        "id": "zCcv6GqQ48kr"
      },
      "source": [
        "# Normality test students with parents who went to uni\n"
      ],
      "execution_count": 26,
      "outputs": []
    },
    {
      "cell_type": "code",
      "metadata": {
        "id": "3ip89gmr5RRo"
      },
      "source": [
        "# Normality test students with parents who did not attend uni\n"
      ],
      "execution_count": 27,
      "outputs": []
    },
    {
      "cell_type": "markdown",
      "metadata": {
        "id": "w7fNk64p5YDf"
      },
      "source": [
        "It looks like the normality assumption $\\ldots$"
      ]
    },
    {
      "cell_type": "code",
      "metadata": {
        "id": "0ipX2Mq65pAD"
      },
      "source": [
        "# Hypothesis test"
      ],
      "execution_count": 28,
      "outputs": []
    },
    {
      "cell_type": "markdown",
      "metadata": {
        "id": "5rGsM7_D52RE"
      },
      "source": [
        "We can therefore $\\ldots$\n",
        "\n",
        "Now, we can check another working hypothesis: students whose parents went to university perform better in general comapred to those whose parents did not attend university.\n",
        "\n",
        "At a first glance:"
      ]
    },
    {
      "cell_type": "code",
      "metadata": {
        "colab": {
          "base_uri": "https://localhost:8080/"
        },
        "id": "qn0RF8if6I2L",
        "outputId": "1e9f7688-87a5-4f5c-d36a-94ac1fec7f7b"
      },
      "source": [
        "# Mean 1\n",
        "print(\"Average performance of students whose parents went to university is on average:\" )"
      ],
      "execution_count": 29,
      "outputs": [
        {
          "output_type": "stream",
          "name": "stdout",
          "text": [
            "Average performance of students whose parents went to university is on average:\n"
          ]
        }
      ]
    },
    {
      "cell_type": "code",
      "metadata": {
        "colab": {
          "base_uri": "https://localhost:8080/"
        },
        "id": "EG7ADHdj4qFC",
        "outputId": "11af5f52-cc5a-40d1-c1bc-c2cc8c3ac753"
      },
      "source": [
        "print(\"Average performance of students whose parents did not attend university is on average:\" )"
      ],
      "execution_count": 30,
      "outputs": [
        {
          "output_type": "stream",
          "name": "stdout",
          "text": [
            "Average performance of students whose parents did not attend university is on average:\n"
          ]
        }
      ]
    },
    {
      "cell_type": "markdown",
      "metadata": {
        "id": "HDf8Rdel7FTh"
      },
      "source": [
        "### Hypothesis Test (replace with name)\n",
        "\n"
      ]
    },
    {
      "cell_type": "code",
      "metadata": {
        "id": "1zzsxX3Y7JVz"
      },
      "source": [
        "# Hypothesis test"
      ],
      "execution_count": 31,
      "outputs": []
    },
    {
      "cell_type": "markdown",
      "metadata": {
        "id": "ohhrcfAS8Vtr"
      },
      "source": [
        "The *p*-value is $\\ldots$ This means $\\ldots$"
      ]
    },
    {
      "cell_type": "markdown",
      "metadata": {
        "id": "mnshiG8dCB7S"
      },
      "source": [
        "## Hypothesis 3: Test Performance and Preparation\n",
        "\n"
      ]
    },
    {
      "cell_type": "markdown",
      "metadata": {
        "id": "F2wfwyuuFwZ4"
      },
      "source": [
        "### Defining Hypothesis\n",
        "\n",
        "**H<sub>1</sub>**: Students who had completed the preparation test performed better than those who did not.\n",
        "\n",
        "**H<sub>0</sub>**: Students who completed the preparation test did not perform better than those who did not.\n",
        "\n",
        "Let us plot a histogram of the overall performance of students who completed the test preparation and those who did not, and the respective probability denstiy function estimations."
      ]
    },
    {
      "cell_type": "code",
      "metadata": {
        "colab": {
          "base_uri": "https://localhost:8080/",
          "height": 462
        },
        "id": "3Dr2c3ILGJky",
        "outputId": "f6290b4e-e22a-402e-aef9-b26c6fcad0d6"
      },
      "source": [
        "fig = plt.figure(figsize=(12, 12))\n",
        "plt.subplot(221)\n",
        "df.groupby('test_prep')['average_score'].plot(kind='hist', fill = False, legend=True, histtype='step')\n",
        "plt.xlabel('Overall performance')\n",
        "plt.subplot(222)\n",
        "df.groupby('test_prep')['average_score'].plot.kde()\n",
        "plt.xlabel('Overall test performance')\n",
        "plt.legend()\n",
        "fig.suptitle('Overall performance vs. test preparation')\n"
      ],
      "execution_count": 32,
      "outputs": [
        {
          "output_type": "execute_result",
          "data": {
            "text/plain": [
              "Text(0.5, 0.98, 'Overall performance vs. test preparation')"
            ]
          },
          "metadata": {},
          "execution_count": 32
        },
        {
          "output_type": "display_data",
          "data": {
            "image/png": "[encoded data removed]",
            "text/plain": [
              "<Figure size 864x864 with 2 Axes>"
            ]
          },
          "metadata": {
            "needs_background": "light"
          }
        }
      ]
    },
    {
      "cell_type": "markdown",
      "metadata": {
        "id": "bIAtMy1cOSz3"
      },
      "source": [
        "Upon inspection, students who completed the preparation course scored better on average than those who did not."
      ]
    },
    {
      "cell_type": "code",
      "metadata": {
        "colab": {
          "base_uri": "https://localhost:8080/"
        },
        "id": "Pp7tJ-mTNiK_",
        "outputId": "b4423d7e-0ccf-42da-f174-9a977e477eab"
      },
      "source": [
        "df.groupby('test_prep')['average_score'].mean()"
      ],
      "execution_count": 33,
      "outputs": [
        {
          "output_type": "execute_result",
          "data": {
            "text/plain": [
              "test_prep\n",
              "completed    72.669469\n",
              "none         65.038801\n",
              "Name: average_score, dtype: float64"
            ]
          },
          "metadata": {},
          "execution_count": 33
        }
      ]
    },
    {
      "cell_type": "markdown",
      "metadata": {
        "id": "1o5W5qhPO_Nz"
      },
      "source": [
        "### Testing for Normal Distribution\n",
        "\n",
        "There are two samples with unequal sizes."
      ]
    },
    {
      "cell_type": "code",
      "metadata": {
        "colab": {
          "base_uri": "https://localhost:8080/"
        },
        "id": "q6YBwowgPEvd",
        "outputId": "1337a8a6-03d6-4222-f7ee-33321a771290"
      },
      "source": [
        "df0 = df[df['test_prep'] == 'none']['average_score']\n",
        "df1 = df[df['test_prep'] != 'none']['average_score']\n",
        "df0.size, df1.size"
      ],
      "execution_count": 34,
      "outputs": [
        {
          "output_type": "execute_result",
          "data": {
            "text/plain": [
              "(642, 358)"
            ]
          },
          "metadata": {},
          "execution_count": 34
        }
      ]
    },
    {
      "cell_type": "code",
      "metadata": {
        "id": "g7JK_DmnQqb5"
      },
      "source": [
        "# Normality test 1"
      ],
      "execution_count": 35,
      "outputs": []
    },
    {
      "cell_type": "code",
      "metadata": {
        "id": "_JKMBY4PRI8B"
      },
      "source": [
        "# Normality test 2"
      ],
      "execution_count": 36,
      "outputs": []
    },
    {
      "cell_type": "markdown",
      "metadata": {
        "id": "kfQZP76fRTkZ"
      },
      "source": [
        "It looks like the normality assumption $\\ldots$"
      ]
    },
    {
      "cell_type": "markdown",
      "metadata": {
        "id": "2G872_3rmeDk"
      },
      "source": [
        "### Hypothesis Test (replace with name)"
      ]
    },
    {
      "cell_type": "code",
      "metadata": {
        "id": "WF3EZPLEmN2W"
      },
      "source": [
        "# Hypothesis test"
      ],
      "execution_count": 37,
      "outputs": []
    },
    {
      "cell_type": "markdown",
      "metadata": {
        "id": "_zEZBfoG9RT9"
      },
      "source": [
        "## Machine Learning Models\n",
        "\n",
        "We would like to predict test scores based on demographic and socioeconomic factors.\n",
        "\n",
        "### Outcomes\n",
        "- average test score\n",
        "- maths score\n",
        "- reading score \n",
        "-writing score\n",
        "\n",
        "### Predictors\n",
        "- gender\n",
        "- race/ethnicity\n",
        "- lunch\n",
        "- parental level of education\n",
        "- test preparation course.\n",
        "\n"
      ]
    },
    {
      "cell_type": "markdown",
      "metadata": {
        "id": "11KL-eDjBbjW"
      },
      "source": [
        "### Outcomes and Predictors\n",
        "\n",
        "Note that <code>parent_uni</code> was derived from <code>parental_ed</code> so only one of these two variables should be used in the prediction models."
      ]
    },
    {
      "cell_type": "code",
      "metadata": {
        "colab": {
          "base_uri": "https://localhost:8080/",
          "height": 203
        },
        "id": "a2FQNaXhBx8n",
        "outputId": "569adb6e-1678-4781-beb8-d7e6f2f5f328"
      },
      "source": [
        "# Define outcomes\n",
        "average_score = df[\"average_score\"]\n",
        "maths_score = df[\"maths_score\"]\n",
        "reading_score = df[\"read_score\"]\n",
        "writing_score = df[\"write_score\"]\n",
        "\n",
        "# Define predictors\n",
        "df_predictors = df.drop([\"average_score\", \"maths_score\", \"read_score\", \"write_score\", \"parental_ed\"], axis = 1)\n",
        "df_predictors.head()"
      ],
      "execution_count": 38,
      "outputs": [
        {
          "output_type": "execute_result",
          "data": {
            "text/html": [
              "<div>\n",
              "<style scoped>\n",
              "    .dataframe tbody tr th:only-of-type {\n",
              "        vertical-align: middle;\n",
              "    }\n",
              "\n",
              "    .dataframe tbody tr th {\n",
              "        vertical-align: top;\n",
              "    }\n",
              "\n",
              "    .dataframe thead th {\n",
              "        text-align: right;\n",
              "    }\n",
              "</style>\n",
              "<table border=\"1\" class=\"dataframe\">\n",
              "  <thead>\n",
              "    <tr style=\"text-align: right;\">\n",
              "      <th></th>\n",
              "      <th>gender</th>\n",
              "      <th>race_ethn</th>\n",
              "      <th>lunch</th>\n",
              "      <th>test_prep</th>\n",
              "      <th>parent_uni</th>\n",
              "    </tr>\n",
              "  </thead>\n",
              "  <tbody>\n",
              "    <tr>\n",
              "      <th>0</th>\n",
              "      <td>female</td>\n",
              "      <td>group B</td>\n",
              "      <td>standard</td>\n",
              "      <td>none</td>\n",
              "      <td>yes</td>\n",
              "    </tr>\n",
              "    <tr>\n",
              "      <th>1</th>\n",
              "      <td>female</td>\n",
              "      <td>group C</td>\n",
              "      <td>standard</td>\n",
              "      <td>completed</td>\n",
              "      <td>yes</td>\n",
              "    </tr>\n",
              "    <tr>\n",
              "      <th>2</th>\n",
              "      <td>female</td>\n",
              "      <td>group B</td>\n",
              "      <td>standard</td>\n",
              "      <td>none</td>\n",
              "      <td>yes</td>\n",
              "    </tr>\n",
              "    <tr>\n",
              "      <th>3</th>\n",
              "      <td>male</td>\n",
              "      <td>group A</td>\n",
              "      <td>free/reduced</td>\n",
              "      <td>none</td>\n",
              "      <td>yes</td>\n",
              "    </tr>\n",
              "    <tr>\n",
              "      <th>4</th>\n",
              "      <td>male</td>\n",
              "      <td>group C</td>\n",
              "      <td>standard</td>\n",
              "      <td>none</td>\n",
              "      <td>yes</td>\n",
              "    </tr>\n",
              "  </tbody>\n",
              "</table>\n",
              "</div>"
            ],
            "text/plain": [
              "   gender race_ethn         lunch  test_prep parent_uni\n",
              "0  female   group B      standard       none        yes\n",
              "1  female   group C      standard  completed        yes\n",
              "2  female   group B      standard       none        yes\n",
              "3    male   group A  free/reduced       none        yes\n",
              "4    male   group C      standard       none        yes"
            ]
          },
          "metadata": {},
          "execution_count": 38
        }
      ]
    },
    {
      "cell_type": "markdown",
      "metadata": {
        "id": "yFWs-k5KC0zN"
      },
      "source": [
        "### Dummy Encoding\n",
        "\n",
        "We first turn each *object* predictor into a *categorical* variable and then *one-hot encode* them."
      ]
    },
    {
      "cell_type": "code",
      "metadata": {
        "colab": {
          "base_uri": "https://localhost:8080/"
        },
        "id": "e81zO8nWDFBm",
        "outputId": "96d541de-8568-4244-9ad5-b12676f97c20"
      },
      "source": [
        "df_predictors.dtypes"
      ],
      "execution_count": 39,
      "outputs": [
        {
          "output_type": "execute_result",
          "data": {
            "text/plain": [
              "gender        object\n",
              "race_ethn     object\n",
              "lunch         object\n",
              "test_prep     object\n",
              "parent_uni    object\n",
              "dtype: object"
            ]
          },
          "metadata": {},
          "execution_count": 39
        }
      ]
    },
    {
      "cell_type": "code",
      "metadata": {
        "colab": {
          "base_uri": "https://localhost:8080/"
        },
        "id": "6w_jSWZ0C_bm",
        "outputId": "1c7ef431-04e7-4d06-e3de-a5f15161e601"
      },
      "source": [
        "# Convert non-numerical predictors into categorical variables\n",
        "# Apply a lambda function instead of a loop\n",
        "# The lambda function turns each column into a categorical variable\n",
        "df_predictors_encoded = df_predictors.apply(lambda x: x.astype('category')) \n",
        "df_predictors_encoded.dtypes"
      ],
      "execution_count": 40,
      "outputs": [
        {
          "output_type": "execute_result",
          "data": {
            "text/plain": [
              "gender        category\n",
              "race_ethn     category\n",
              "lunch         category\n",
              "test_prep     category\n",
              "parent_uni    category\n",
              "dtype: object"
            ]
          },
          "metadata": {},
          "execution_count": 40
        }
      ]
    },
    {
      "cell_type": "code",
      "metadata": {
        "colab": {
          "base_uri": "https://localhost:8080/",
          "height": 310
        },
        "id": "90FBblIyEB0P",
        "outputId": "48bea9c0-25c4-4cfe-c386-10683239e274"
      },
      "source": [
        "# One-hot encode categorical variables\n",
        "df_predictors_encoded = pd.get_dummies(df_predictors_encoded, drop_first = True)\n",
        "df_predictors_encoded.head(10)"
      ],
      "execution_count": 41,
      "outputs": [
        {
          "output_type": "execute_result",
          "data": {
            "text/html": [
              "<div>\n",
              "<style scoped>\n",
              "    .dataframe tbody tr th:only-of-type {\n",
              "        vertical-align: middle;\n",
              "    }\n",
              "\n",
              "    .dataframe tbody tr th {\n",
              "        vertical-align: top;\n",
              "    }\n",
              "\n",
              "    .dataframe thead th {\n",
              "        text-align: right;\n",
              "    }\n",
              "</style>\n",
              "<table border=\"1\" class=\"dataframe\">\n",
              "  <thead>\n",
              "    <tr style=\"text-align: right;\">\n",
              "      <th></th>\n",
              "      <th>gender_male</th>\n",
              "      <th>race_ethn_group B</th>\n",
              "      <th>race_ethn_group C</th>\n",
              "      <th>race_ethn_group D</th>\n",
              "      <th>race_ethn_group E</th>\n",
              "      <th>lunch_standard</th>\n",
              "      <th>test_prep_none</th>\n",
              "      <th>parent_uni_yes</th>\n",
              "    </tr>\n",
              "  </thead>\n",
              "  <tbody>\n",
              "    <tr>\n",
              "      <th>0</th>\n",
              "      <td>0</td>\n",
              "      <td>1</td>\n",
              "      <td>0</td>\n",
              "      <td>0</td>\n",
              "      <td>0</td>\n",
              "      <td>1</td>\n",
              "      <td>1</td>\n",
              "      <td>1</td>\n",
              "    </tr>\n",
              "    <tr>\n",
              "      <th>1</th>\n",
              "      <td>0</td>\n",
              "      <td>0</td>\n",
              "      <td>1</td>\n",
              "      <td>0</td>\n",
              "      <td>0</td>\n",
              "      <td>1</td>\n",
              "      <td>0</td>\n",
              "      <td>1</td>\n",
              "    </tr>\n",
              "    <tr>\n",
              "      <th>2</th>\n",
              "      <td>0</td>\n",
              "      <td>1</td>\n",
              "      <td>0</td>\n",
              "      <td>0</td>\n",
              "      <td>0</td>\n",
              "      <td>1</td>\n",
              "      <td>1</td>\n",
              "      <td>1</td>\n",
              "    </tr>\n",
              "    <tr>\n",
              "      <th>...</th>\n",
              "      <td>...</td>\n",
              "      <td>...</td>\n",
              "      <td>...</td>\n",
              "      <td>...</td>\n",
              "      <td>...</td>\n",
              "      <td>...</td>\n",
              "      <td>...</td>\n",
              "      <td>...</td>\n",
              "    </tr>\n",
              "    <tr>\n",
              "      <th>7</th>\n",
              "      <td>1</td>\n",
              "      <td>1</td>\n",
              "      <td>0</td>\n",
              "      <td>0</td>\n",
              "      <td>0</td>\n",
              "      <td>0</td>\n",
              "      <td>1</td>\n",
              "      <td>1</td>\n",
              "    </tr>\n",
              "    <tr>\n",
              "      <th>8</th>\n",
              "      <td>1</td>\n",
              "      <td>0</td>\n",
              "      <td>0</td>\n",
              "      <td>1</td>\n",
              "      <td>0</td>\n",
              "      <td>0</td>\n",
              "      <td>0</td>\n",
              "      <td>0</td>\n",
              "    </tr>\n",
              "    <tr>\n",
              "      <th>9</th>\n",
              "      <td>0</td>\n",
              "      <td>1</td>\n",
              "      <td>0</td>\n",
              "      <td>0</td>\n",
              "      <td>0</td>\n",
              "      <td>0</td>\n",
              "      <td>1</td>\n",
              "      <td>0</td>\n",
              "    </tr>\n",
              "  </tbody>\n",
              "</table>\n",
              "<p>10 rows × 8 columns</p>\n",
              "</div>"
            ],
            "text/plain": [
              "    gender_male  race_ethn_group B  ...  test_prep_none  parent_uni_yes\n",
              "0             0                  1  ...               1               1\n",
              "1             0                  0  ...               0               1\n",
              "2             0                  1  ...               1               1\n",
              "..          ...                ...  ...             ...             ...\n",
              "7             1                  1  ...               1               1\n",
              "8             1                  0  ...               0               0\n",
              "9             0                  1  ...               1               0\n",
              "\n",
              "[10 rows x 8 columns]"
            ]
          },
          "metadata": {},
          "execution_count": 41
        }
      ]
    },
    {
      "cell_type": "markdown",
      "metadata": {
        "id": "fRVXa6EAELpB"
      },
      "source": [
        "### Build Models\n",
        "\n",
        "We can build different machine learning algorithms and compare their performances on this data set.\n",
        "\n",
        "We will build the following models:\n",
        "- linear regression\n",
        "- random forest\n",
        "- eXtreme Gradient Boost (XGBoost)"
      ]
    },
    {
      "cell_type": "code",
      "metadata": {
        "id": "RnxetsBuEK_j"
      },
      "source": [
        "# Define a function to evaluate models\n",
        "def evaluateModel(true, predicted):\n",
        "    MSE = mean_squared_error(true,predicted,squared = True)\n",
        "    MAE = mean_absolute_error(true,predicted)\n",
        "    RMSE = mean_squared_error(true,predicted,squared = False)\n",
        "    R_squared = r2_score(true,predicted)\n",
        "    print(\"MSE: %1.2f\" %MSE)\n",
        "    print(\"MAE: %1.2f\" %MAE)\n",
        "    print(\"RMSE: %1.2f\" %RMSE)\n",
        "    print(\"R-squared: %1.2f\" %R_squared)"
      ],
      "execution_count": 42,
      "outputs": []
    },
    {
      "cell_type": "code",
      "metadata": {
        "id": "PGOhy_JdFcLt"
      },
      "source": [
        "# Linear regression\n",
        "model_linreg = LinearRegression(normalize = True).fit(df_predictors_encoded, average_score)\n",
        "\n",
        "# Random forest\n",
        "model_rf = RandomForestRegressor(random_state = 0).fit(df_predictors_encoded, average_score)\n",
        "\n",
        "# XGBoost\n",
        "model_xgb = xg.XGBRegressor(objective = 'reg:squarederror', seed = 1, verbosity = 0).fit(df_predictors_encoded, average_score)"
      ],
      "execution_count": 43,
      "outputs": []
    },
    {
      "cell_type": "code",
      "metadata": {
        "id": "GQLIjAYr_hE4",
        "colab": {
          "base_uri": "https://localhost:8080/",
          "height": 575
        },
        "outputId": "24c459af-f5fe-48fe-bcfd-ced3a6c512d6"
      },
      "source": [
        "# Alternative linear regression method using statsmodels.formula.api.ols\n",
        "# ols: ordinary least squares\n",
        "import statsmodels.formula.api as smf\n",
        "model_linreg2 = smf.ols('average_score ~ gender + race_ethn + lunch + test_prep + parent_uni', data=df).fit()\n",
        "model_linreg2.summary()"
      ],
      "execution_count": 44,
      "outputs": [
        {
          "output_type": "execute_result",
          "data": {
            "text/html": [
              "<table class=\"simpletable\">\n",
              "<caption>OLS Regression Results</caption>\n",
              "<tr>\n",
              "  <th>Dep. Variable:</th>      <td>average_score</td>  <th>  R-squared:         </th> <td>   0.233</td>\n",
              "</tr>\n",
              "<tr>\n",
              "  <th>Model:</th>                   <td>OLS</td>       <th>  Adj. R-squared:    </th> <td>   0.227</td>\n",
              "</tr>\n",
              "<tr>\n",
              "  <th>Method:</th>             <td>Least Squares</td>  <th>  F-statistic:       </th> <td>   37.72</td>\n",
              "</tr>\n",
              "<tr>\n",
              "  <th>Date:</th>             <td>Wed, 08 Sep 2021</td> <th>  Prob (F-statistic):</th> <td>1.67e-52</td>\n",
              "</tr>\n",
              "<tr>\n",
              "  <th>Time:</th>                 <td>18:22:01</td>     <th>  Log-Likelihood:    </th> <td> -3942.8</td>\n",
              "</tr>\n",
              "<tr>\n",
              "  <th>No. Observations:</th>      <td>  1000</td>      <th>  AIC:               </th> <td>   7904.</td>\n",
              "</tr>\n",
              "<tr>\n",
              "  <th>Df Residuals:</th>          <td>   991</td>      <th>  BIC:               </th> <td>   7948.</td>\n",
              "</tr>\n",
              "<tr>\n",
              "  <th>Df Model:</th>              <td>     8</td>      <th>                     </th>     <td> </td>   \n",
              "</tr>\n",
              "<tr>\n",
              "  <th>Covariance Type:</th>      <td>nonrobust</td>    <th>                     </th>     <td> </td>   \n",
              "</tr>\n",
              "</table>\n",
              "<table class=\"simpletable\">\n",
              "<tr>\n",
              "            <td></td>              <th>coef</th>     <th>std err</th>      <th>t</th>      <th>P>|t|</th>  <th>[0.025</th>    <th>0.975]</th>  \n",
              "</tr>\n",
              "<tr>\n",
              "  <th>Intercept</th>            <td>   62.2621</td> <td>    1.650</td> <td>   37.742</td> <td> 0.000</td> <td>   59.025</td> <td>   65.499</td>\n",
              "</tr>\n",
              "<tr>\n",
              "  <th>gender[T.male]</th>       <td>   -3.8205</td> <td>    0.798</td> <td>   -4.790</td> <td> 0.000</td> <td>   -5.386</td> <td>   -2.255</td>\n",
              "</tr>\n",
              "<tr>\n",
              "  <th>race_ethn[T.group B]</th> <td>    1.3928</td> <td>    1.614</td> <td>    0.863</td> <td> 0.388</td> <td>   -1.775</td> <td>    4.561</td>\n",
              "</tr>\n",
              "<tr>\n",
              "  <th>race_ethn[T.group C]</th> <td>    2.3416</td> <td>    1.511</td> <td>    1.549</td> <td> 0.122</td> <td>   -0.624</td> <td>    5.307</td>\n",
              "</tr>\n",
              "<tr>\n",
              "  <th>race_ethn[T.group D]</th> <td>    5.1492</td> <td>    1.543</td> <td>    3.338</td> <td> 0.001</td> <td>    2.122</td> <td>    8.177</td>\n",
              "</tr>\n",
              "<tr>\n",
              "  <th>race_ethn[T.group E]</th> <td>    6.8268</td> <td>    1.711</td> <td>    3.989</td> <td> 0.000</td> <td>    3.468</td> <td>   10.185</td>\n",
              "</tr>\n",
              "<tr>\n",
              "  <th>lunch[T.standard]</th>    <td>    8.7077</td> <td>    0.830</td> <td>   10.489</td> <td> 0.000</td> <td>    7.079</td> <td>   10.337</td>\n",
              "</tr>\n",
              "<tr>\n",
              "  <th>test_prep[T.none]</th>    <td>   -7.7159</td> <td>    0.829</td> <td>   -9.305</td> <td> 0.000</td> <td>   -9.343</td> <td>   -6.089</td>\n",
              "</tr>\n",
              "<tr>\n",
              "  <th>parent_uni[T.yes]</th>    <td>    5.3930</td> <td>    0.825</td> <td>    6.536</td> <td> 0.000</td> <td>    3.774</td> <td>    7.012</td>\n",
              "</tr>\n",
              "</table>\n",
              "<table class=\"simpletable\">\n",
              "<tr>\n",
              "  <th>Omnibus:</th>       <td>11.346</td> <th>  Durbin-Watson:     </th> <td>   2.040</td>\n",
              "</tr>\n",
              "<tr>\n",
              "  <th>Prob(Omnibus):</th> <td> 0.003</td> <th>  Jarque-Bera (JB):  </th> <td>  11.622</td>\n",
              "</tr>\n",
              "<tr>\n",
              "  <th>Skew:</th>          <td>-0.258</td> <th>  Prob(JB):          </th> <td> 0.00299</td>\n",
              "</tr>\n",
              "<tr>\n",
              "  <th>Kurtosis:</th>      <td> 2.892</td> <th>  Cond. No.          </th> <td>    13.2</td>\n",
              "</tr>\n",
              "</table><br/><br/>Warnings:<br/>[1] Standard Errors assume that the covariance matrix of the errors is correctly specified."
            ],
            "text/plain": [
              "<class 'statsmodels.iolib.summary.Summary'>\n",
              "\"\"\"\n",
              "                            OLS Regression Results                            \n",
              "==============================================================================\n",
              "Dep. Variable:          average_score   R-squared:                       0.233\n",
              "Model:                            OLS   Adj. R-squared:                  0.227\n",
              "Method:                 Least Squares   F-statistic:                     37.72\n",
              "Date:                Wed, 08 Sep 2021   Prob (F-statistic):           1.67e-52\n",
              "Time:                        18:22:01   Log-Likelihood:                -3942.8\n",
              "No. Observations:                1000   AIC:                             7904.\n",
              "Df Residuals:                     991   BIC:                             7948.\n",
              "Df Model:                           8                                         \n",
              "Covariance Type:            nonrobust                                         \n",
              "========================================================================================\n",
              "                           coef    std err          t      P>|t|      [0.025      0.975]\n",
              "----------------------------------------------------------------------------------------\n",
              "Intercept               62.2621      1.650     37.742      0.000      59.025      65.499\n",
              "gender[T.male]          -3.8205      0.798     -4.790      0.000      -5.386      -2.255\n",
              "race_ethn[T.group B]     1.3928      1.614      0.863      0.388      -1.775       4.561\n",
              "race_ethn[T.group C]     2.3416      1.511      1.549      0.122      -0.624       5.307\n",
              "race_ethn[T.group D]     5.1492      1.543      3.338      0.001       2.122       8.177\n",
              "race_ethn[T.group E]     6.8268      1.711      3.989      0.000       3.468      10.185\n",
              "lunch[T.standard]        8.7077      0.830     10.489      0.000       7.079      10.337\n",
              "test_prep[T.none]       -7.7159      0.829     -9.305      0.000      -9.343      -6.089\n",
              "parent_uni[T.yes]        5.3930      0.825      6.536      0.000       3.774       7.012\n",
              "==============================================================================\n",
              "Omnibus:                       11.346   Durbin-Watson:                   2.040\n",
              "Prob(Omnibus):                  0.003   Jarque-Bera (JB):               11.622\n",
              "Skew:                          -0.258   Prob(JB):                      0.00299\n",
              "Kurtosis:                       2.892   Cond. No.                         13.2\n",
              "==============================================================================\n",
              "\n",
              "Warnings:\n",
              "[1] Standard Errors assume that the covariance matrix of the errors is correctly specified.\n",
              "\"\"\""
            ]
          },
          "metadata": {},
          "execution_count": 44
        }
      ]
    },
    {
      "cell_type": "code",
      "metadata": {
        "id": "su0b7v7gpEUS",
        "outputId": "6cb13a5f-7a70-46b3-a306-ddba4dd126d6",
        "colab": {
          "base_uri": "https://localhost:8080/",
          "height": 425
        }
      },
      "source": [
        "# Alternative linear regression method using statsmodels.formula.api.ols\n",
        "# glm: generalised linear models\n",
        "# import statsmodels.formula.api as smf\n",
        "model_linreg3 = smf.glm('average_score ~ gender + race_ethn + lunch + test_prep + parent_uni', data=df).fit()\n",
        "model_linreg3.summary()"
      ],
      "execution_count": 45,
      "outputs": [
        {
          "output_type": "execute_result",
          "data": {
            "text/html": [
              "<table class=\"simpletable\">\n",
              "<caption>Generalized Linear Model Regression Results</caption>\n",
              "<tr>\n",
              "  <th>Dep. Variable:</th>     <td>average_score</td>  <th>  No. Observations:  </th>   <td>  1000</td>  \n",
              "</tr>\n",
              "<tr>\n",
              "  <th>Model:</th>                  <td>GLM</td>       <th>  Df Residuals:      </th>   <td>   991</td>  \n",
              "</tr>\n",
              "<tr>\n",
              "  <th>Model Family:</th>        <td>Gaussian</td>     <th>  Df Model:          </th>   <td>     8</td>  \n",
              "</tr>\n",
              "<tr>\n",
              "  <th>Link Function:</th>       <td>identity</td>     <th>  Scale:             </th>  <td>  157.08</td> \n",
              "</tr>\n",
              "<tr>\n",
              "  <th>Method:</th>                <td>IRLS</td>       <th>  Log-Likelihood:    </th>  <td> -3942.8</td> \n",
              "</tr>\n",
              "<tr>\n",
              "  <th>Date:</th>            <td>Wed, 08 Sep 2021</td> <th>  Deviance:          </th> <td>1.5567e+05</td>\n",
              "</tr>\n",
              "<tr>\n",
              "  <th>Time:</th>                <td>18:22:05</td>     <th>  Pearson chi2:      </th>  <td>1.56e+05</td> \n",
              "</tr>\n",
              "<tr>\n",
              "  <th>No. Iterations:</th>          <td>3</td>        <th>                     </th>      <td> </td>    \n",
              "</tr>\n",
              "<tr>\n",
              "  <th>Covariance Type:</th>     <td>nonrobust</td>    <th>                     </th>      <td> </td>    \n",
              "</tr>\n",
              "</table>\n",
              "<table class=\"simpletable\">\n",
              "<tr>\n",
              "            <td></td>              <th>coef</th>     <th>std err</th>      <th>z</th>      <th>P>|z|</th>  <th>[0.025</th>    <th>0.975]</th>  \n",
              "</tr>\n",
              "<tr>\n",
              "  <th>Intercept</th>            <td>   62.2621</td> <td>    1.650</td> <td>   37.742</td> <td> 0.000</td> <td>   59.029</td> <td>   65.495</td>\n",
              "</tr>\n",
              "<tr>\n",
              "  <th>gender[T.male]</th>       <td>   -3.8205</td> <td>    0.798</td> <td>   -4.790</td> <td> 0.000</td> <td>   -5.384</td> <td>   -2.257</td>\n",
              "</tr>\n",
              "<tr>\n",
              "  <th>race_ethn[T.group B]</th> <td>    1.3928</td> <td>    1.614</td> <td>    0.863</td> <td> 0.388</td> <td>   -1.771</td> <td>    4.557</td>\n",
              "</tr>\n",
              "<tr>\n",
              "  <th>race_ethn[T.group C]</th> <td>    2.3416</td> <td>    1.511</td> <td>    1.549</td> <td> 0.121</td> <td>   -0.621</td> <td>    5.304</td>\n",
              "</tr>\n",
              "<tr>\n",
              "  <th>race_ethn[T.group D]</th> <td>    5.1492</td> <td>    1.543</td> <td>    3.338</td> <td> 0.001</td> <td>    2.126</td> <td>    8.173</td>\n",
              "</tr>\n",
              "<tr>\n",
              "  <th>race_ethn[T.group E]</th> <td>    6.8268</td> <td>    1.711</td> <td>    3.989</td> <td> 0.000</td> <td>    3.473</td> <td>   10.181</td>\n",
              "</tr>\n",
              "<tr>\n",
              "  <th>lunch[T.standard]</th>    <td>    8.7077</td> <td>    0.830</td> <td>   10.489</td> <td> 0.000</td> <td>    7.081</td> <td>   10.335</td>\n",
              "</tr>\n",
              "<tr>\n",
              "  <th>test_prep[T.none]</th>    <td>   -7.7159</td> <td>    0.829</td> <td>   -9.305</td> <td> 0.000</td> <td>   -9.341</td> <td>   -6.091</td>\n",
              "</tr>\n",
              "<tr>\n",
              "  <th>parent_uni[T.yes]</th>    <td>    5.3930</td> <td>    0.825</td> <td>    6.536</td> <td> 0.000</td> <td>    3.776</td> <td>    7.010</td>\n",
              "</tr>\n",
              "</table>"
            ],
            "text/plain": [
              "<class 'statsmodels.iolib.summary.Summary'>\n",
              "\"\"\"\n",
              "                 Generalized Linear Model Regression Results                  \n",
              "==============================================================================\n",
              "Dep. Variable:          average_score   No. Observations:                 1000\n",
              "Model:                            GLM   Df Residuals:                      991\n",
              "Model Family:                Gaussian   Df Model:                            8\n",
              "Link Function:               identity   Scale:                          157.08\n",
              "Method:                          IRLS   Log-Likelihood:                -3942.8\n",
              "Date:                Wed, 08 Sep 2021   Deviance:                   1.5567e+05\n",
              "Time:                        18:22:05   Pearson chi2:                 1.56e+05\n",
              "No. Iterations:                     3                                         \n",
              "Covariance Type:            nonrobust                                         \n",
              "========================================================================================\n",
              "                           coef    std err          z      P>|z|      [0.025      0.975]\n",
              "----------------------------------------------------------------------------------------\n",
              "Intercept               62.2621      1.650     37.742      0.000      59.029      65.495\n",
              "gender[T.male]          -3.8205      0.798     -4.790      0.000      -5.384      -2.257\n",
              "race_ethn[T.group B]     1.3928      1.614      0.863      0.388      -1.771       4.557\n",
              "race_ethn[T.group C]     2.3416      1.511      1.549      0.121      -0.621       5.304\n",
              "race_ethn[T.group D]     5.1492      1.543      3.338      0.001       2.126       8.173\n",
              "race_ethn[T.group E]     6.8268      1.711      3.989      0.000       3.473      10.181\n",
              "lunch[T.standard]        8.7077      0.830     10.489      0.000       7.081      10.335\n",
              "test_prep[T.none]       -7.7159      0.829     -9.305      0.000      -9.341      -6.091\n",
              "parent_uni[T.yes]        5.3930      0.825      6.536      0.000       3.776       7.010\n",
              "========================================================================================\n",
              "\"\"\""
            ]
          },
          "metadata": {},
          "execution_count": 45
        }
      ]
    },
    {
      "cell_type": "code",
      "metadata": {
        "colab": {
          "base_uri": "https://localhost:8080/"
        },
        "id": "5AiMXp4OHYl3",
        "outputId": "a8ae10a2-3645-49e8-f033-3e851f2a21ee"
      },
      "source": [
        "# Evaluate models\n",
        "\n",
        "print(\"Linear Regression\")\n",
        "y_pred = model_linreg.predict(df_predictors_encoded)\n",
        "evaluateModel(average_score, y_pred)\n",
        "print(\"\\n\")\n",
        "\n",
        "print(\"Random Forest\")\n",
        "y_pred = model_rf.predict(df_predictors_encoded)\n",
        "evaluateModel(average_score, y_pred)\n",
        "print(\"\\n\")\n",
        "\n",
        "print(\"XGBoost\")\n",
        "y_pred = model_xgb.predict(df_predictors_encoded)\n",
        "evaluateModel(average_score, y_pred)\n"
      ],
      "execution_count": null,
      "outputs": [
        {
          "output_type": "stream",
          "name": "stdout",
          "text": [
            "Linear Regression\n",
            "MSE: 155.67\n",
            "MAE: 10.06\n",
            "RMSE: 12.48\n",
            "R-squared: 0.23\n",
            "\n",
            "\n",
            "Random Forest\n",
            "MSE: 147.07\n",
            "MAE: 9.71\n",
            "RMSE: 12.13\n",
            "R-squared: 0.28\n",
            "\n",
            "\n",
            "XGBoost\n",
            "MSE: 151.51\n",
            "MAE: 9.87\n",
            "RMSE: 12.31\n",
            "R-squared: 0.25\n"
          ]
        }
      ]
    },
    {
      "cell_type": "code",
      "metadata": {
        "colab": {
          "base_uri": "https://localhost:8080/",
          "height": 730
        },
        "id": "s2XCXWYlKGU8",
        "outputId": "06c6e762-6977-4e47-c8aa-8237e66d00f1"
      },
      "source": [
        "x = average_score\n",
        "\n",
        "plt.figure(figsize=(12, 12))\n",
        "ax10 = plt.subplot(221)\n",
        "y = model_linreg.predict(df_predictors_encoded)\n",
        "plt.scatter(x, y, marker='*')\n",
        "plt.xlabel(\"True average score\")\n",
        "plt.ylabel(\"Predicted average score\")\n",
        "ax10.title.set_text(\"Linear Regression\")\n",
        "\n",
        "ax11 = plt.subplot(222)\n",
        "y = model_rf.predict(df_predictors_encoded)\n",
        "plt.scatter(x, y, marker='*')\n",
        "plt.xlabel(\"True average score\")\n",
        "plt.ylabel(\"Predicted average score\")\n",
        "ax11.title.set_text(\"Random Forest\")\n",
        "\n",
        "ax12 = plt.subplot(223)\n",
        "y = model_xgb.predict(df_predictors_encoded)\n",
        "plt.scatter(x, y, marker='*')\n",
        "plt.xlabel(\"True average score\")\n",
        "plt.ylabel(\"Predicted average score\")\n",
        "ax12.title.set_text(\"XGBoost\")\n",
        "plt.show()"
      ],
      "execution_count": null,
      "outputs": [
        {
          "output_type": "display_data",
          "data": {
            "image/png": "[encoded data removed]",
            "text/plain": [
              "<Figure size 864x864 with 3 Axes>"
            ]
          },
          "metadata": {
            "needs_background": "light"
          }
        }
      ]
    },
    {
      "cell_type": "markdown",
      "metadata": {
        "id": "P5uaHD_LC-cb"
      },
      "source": [
        ""
      ]
    },
    {
      "cell_type": "markdown",
      "metadata": {
        "id": "CtXYEff0NBW3"
      },
      "source": [
        "**TO DO**:\n",
        "- Separate into train and test sets\n",
        "- Tune XGBoost\n",
        "- Check [linear regression assumptions](https://www.kaggle.com/shrutimechlearn/step-by-step-assumptions-linear-regression) or here for [statsmodels.stats.api.ols](https://www.statsmodels.org/stable/examples/notebooks/generated/regression_diagnostics.html)"
      ]
    },
    {
      "cell_type": "markdown",
      "metadata": {
        "id": "X2EjIf5_vlqu"
      },
      "source": [
        "### Check Linear Regression Assumptions"
      ]
    },
    {
      "cell_type": "markdown",
      "metadata": {
        "id": "eqNyPN00x5a7"
      },
      "source": [
        "#### Linearity"
      ]
    },
    {
      "cell_type": "code",
      "metadata": {
        "colab": {
          "base_uri": "https://localhost:8080/",
          "height": 569
        },
        "id": "BhWtO0LswTgK",
        "outputId": "034e147f-9fe8-4c24-f339-b3d78cd6815d"
      },
      "source": [
        "import seaborn as sns\n",
        "\n",
        "# Visualise the relationship between the features and the response using scatterplots\n",
        "p = sns.pairplot(df, x_vars=['gender', 'race_ethn', 'lunch', 'test_prep', 'parent_uni'], y_vars='average_score', size=7, aspect=0.7)"
      ],
      "execution_count": null,
      "outputs": [
        {
          "output_type": "stream",
          "name": "stderr",
          "text": [
            "/usr/local/lib/python3.7/dist-packages/seaborn/axisgrid.py:1969: UserWarning: The `size` parameter has been renamed to `height`; please update your code.\n",
            "  warnings.warn(msg, UserWarning)\n"
          ]
        },
        {
          "output_type": "display_data",
          "data": {
            "image/png": "[encoded data removed]",
            "text/plain": [
              "<Figure size 1764x504 with 5 Axes>"
            ]
          },
          "metadata": {
            "needs_background": "light"
          }
        }
      ]
    },
    {
      "cell_type": "markdown",
      "metadata": {
        "id": "ubyY-6rOzOBE"
      },
      "source": [
        "Difficult to see a linear relation given features are categorical..."
      ]
    },
    {
      "cell_type": "markdown",
      "metadata": {
        "id": "3ECSiQKHxznH"
      },
      "source": [
        "#### Mean of Residuals\n",
        "\n"
      ]
    },
    {
      "cell_type": "code",
      "metadata": {
        "colab": {
          "base_uri": "https://localhost:8080/"
        },
        "id": "2qw2IToAx7vb",
        "outputId": "24e42674-841d-48af-ac03-a664eb968997"
      },
      "source": [
        "# Calculate residuals\n",
        "y_pred = model_linreg.predict(df_predictors_encoded)\n",
        "y = average_score\n",
        "residuals = y - y_pred\n",
        "mean_residuals = np.mean(residuals)\n",
        "print(\"Mean of Residuals {m:.2e}\".format(m = mean_residuals))"
      ],
      "execution_count": null,
      "outputs": [
        {
          "output_type": "stream",
          "name": "stdout",
          "text": [
            "Mean of Residuals 1.85e-14\n"
          ]
        }
      ]
    },
    {
      "cell_type": "markdown",
      "metadata": {
        "id": "gpHt_h-fzBq1"
      },
      "source": [
        "The mean of residuals is virtually 0, so all good here."
      ]
    },
    {
      "cell_type": "markdown",
      "metadata": {
        "id": "iJoQfSB2zeQu"
      },
      "source": [
        "#### Checking for Homoscedasticity\n",
        "Homoscedasticity means that the residuals have equal or almost equal variance across the regression line.\n",
        "\n",
        "We plot the error terms against the predicted values $\\hat{Y}_i$. If there is a definite pattern, like linear, quadratic or funnel shaped obtained from the scatter plot then heteroscedasticity is present."
      ]
    },
    {
      "cell_type": "code",
      "metadata": {
        "colab": {
          "base_uri": "https://localhost:8080/",
          "height": 382
        },
        "id": "shgN99JF1Now",
        "outputId": "7fef3060-0c3b-4c48-95d1-12f80874122b"
      },
      "source": [
        "p = sns.scatterplot(y_pred, residuals, color = 'red')\n",
        "plt.xlabel('Predicted values')\n",
        "plt.ylabel('Residuals')\n",
        "plt.ylim(-50,50)\n",
        "plt.xlim(40,90)\n",
        "p = sns.lineplot([40,90], [0,0], color='blue')\n",
        "p = plt.title('Residuals vs fitted values plot for homoscedasticity check')\n"
      ],
      "execution_count": null,
      "outputs": [
        {
          "output_type": "stream",
          "name": "stderr",
          "text": [
            "/usr/local/lib/python3.7/dist-packages/seaborn/_decorators.py:43: FutureWarning: Pass the following variables as keyword args: x, y. From version 0.12, the only valid positional argument will be `data`, and passing other arguments without an explicit keyword will result in an error or misinterpretation.\n",
            "  FutureWarning\n",
            "/usr/local/lib/python3.7/dist-packages/seaborn/_decorators.py:43: FutureWarning: Pass the following variables as keyword args: x, y. From version 0.12, the only valid positional argument will be `data`, and passing other arguments without an explicit keyword will result in an error or misinterpretation.\n",
            "  FutureWarning\n"
          ]
        },
        {
          "output_type": "display_data",
          "data": {
            "image/png": "[encoded data removed]",
            "text/plain": [
              "<Figure size 432x288 with 1 Axes>"
            ]
          },
          "metadata": {
            "needs_background": "light"
          }
        }
      ]
    },
    {
      "cell_type": "markdown",
      "metadata": {
        "id": "GgNmVWt62qnl"
      },
      "source": [
        "Next we use a test to check for homoscedasticity.\n",
        "\n",
        "Using **Goldfeld Quandt**, we test for heteroscedasticity.\n",
        "\n",
        "- Null Hypothesis: Error terms are homoscedastic.\n",
        "- Alternative Hypothesis: Error terms are heteroscedastic."
      ]
    },
    {
      "cell_type": "code",
      "metadata": {
        "colab": {
          "base_uri": "https://localhost:8080/"
        },
        "id": "eoJ95wbF3Ejq",
        "outputId": "4e71fe80-04b6-4397-dd9e-86f97e9b5dab"
      },
      "source": [
        "alpha = 0.05\n",
        "name = ['F statistic', 'p-value']\n",
        "f2, p, o = sms.het_goldfeldquandt(residuals, df_predictors_encoded)\n",
        "f2, p ,o \n",
        "print('Alpha = ', alpha)\n",
        "print('p = %1.2f' %p)\n",
        "if p < alpha:\n",
        "     print(\"We can reject the null hypothesis: Error terms are heteroscedastic\")\n",
        "else:\n",
        "  print(\"We cannot reject the null hypothesis: Error terms are homoscedastic\")"
      ],
      "execution_count": null,
      "outputs": [
        {
          "output_type": "stream",
          "name": "stdout",
          "text": [
            "Alpha =  0.05\n",
            "p = 0.32\n",
            "We cannot reject the null hypothesis: Error terms are homoscedastic\n"
          ]
        }
      ]
    },
    {
      "cell_type": "markdown",
      "metadata": {
        "id": "qcopwqDf3p3i"
      },
      "source": [
        "Since the *p*-value is more than 0.05 in Goldfeld Quandt Test, we can't reject its null hypothesis that error terms are homoscedastic. Good!"
      ]
    },
    {
      "cell_type": "code",
      "metadata": {
        "id": "18cTJ8JIwFTB"
      },
      "source": [
        ""
      ],
      "execution_count": null,
      "outputs": []
    }
  ]
}