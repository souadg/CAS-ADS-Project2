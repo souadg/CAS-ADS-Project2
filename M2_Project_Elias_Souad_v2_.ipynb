{
  "nbformat": 4,
  "nbformat_minor": 0,
  "metadata": {
    "colab": {
      "name": "M2 Project Elias Souad. v2 .ipynb",
      "provenance": [],
      "collapsed_sections": [],
      "toc_visible": true,
      "include_colab_link": true
    },
    "kernelspec": {
      "name": "python3",
      "display_name": "Python 3"
    },
    "language_info": {
      "name": "python"
    }
  },
  "cells": [
    {
      "cell_type": "markdown",
      "metadata": {
        "id": "view-in-github",
        "colab_type": "text"
      },
      "source": [
        "<a href=\"https://colab.research.google.com/github/souadg/CAS-ADS-Project2/blob/main/M2_Project_Elias_Souad_v2_.ipynb\" target=\"_parent\"><img src=\"https://colab.research.google.com/assets/colab-badge.svg\" alt=\"Open In Colab\"/></a>"
      ]
    },
    {
      "cell_type": "markdown",
      "metadata": {
        "id": "mLP8FTHIr_i5"
      },
      "source": [
        "# Module 2 Project Work\n",
        "\n"
      ]
    },
    {
      "cell_type": "markdown",
      "metadata": {
        "id": "_TIlOjzSsM8y"
      },
      "source": [
        "## Load the data set"
      ]
    },
    {
      "cell_type": "code",
      "metadata": {
        "id": "kcB11Cv3d01E"
      },
      "source": [
        "# Import libraries\n",
        "import pandas as pd\n",
        "from google.colab import files\n",
        "import matplotlib.pyplot as plt\n",
        "import statsmodels.api as sm\n",
        "from scipy import stats\n"
      ],
      "execution_count": 21,
      "outputs": []
    },
    {
      "cell_type": "code",
      "metadata": {
        "id": "lFjYK3ztBTf3"
      },
      "source": [
        "pd.set_option('display.max_rows', 100) #Display more rows than the defaul value of 5"
      ],
      "execution_count": 22,
      "outputs": []
    },
    {
      "cell_type": "code",
      "metadata": {
        "colab": {
          "resources": {
            "http://localhost:8080/nbextensions/google.colab/files.js": {
              "data": "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",
              "ok": true,
              "headers": [
                [
                  "content-type",
                  "application/javascript"
                ]
              ],
              "status": 200,
              "status_text": ""
            }
          },
          "base_uri": "https://localhost:8080/",
          "height": 78
        },
        "id": "OqGruprzg6Py",
        "outputId": "e9a19c1e-94b8-4a54-d561-a3c10a2de4bb"
      },
      "source": [
        "# Load a file from local drive\n",
        "uploaded = files.upload()"
      ],
      "execution_count": 25,
      "outputs": [
        {
          "output_type": "display_data",
          "data": {
            "text/html": [
              "\n",
              "     <input type=\"file\" id=\"files-013c2b8c-7fb7-420d-b936-7f5f7886b3ac\" name=\"files[]\" multiple disabled\n",
              "        style=\"border:none\" />\n",
              "     <output id=\"result-013c2b8c-7fb7-420d-b936-7f5f7886b3ac\">\n",
              "      Upload widget is only available when the cell has been executed in the\n",
              "      current browser session. Please rerun this cell to enable.\n",
              "      </output>\n",
              "      <script src=\"/nbextensions/google.colab/files.js\"></script> "
            ],
            "text/plain": [
              "<IPython.core.display.HTML object>"
            ]
          },
          "metadata": {}
        },
        {
          "output_type": "stream",
          "name": "stdout",
          "text": [
            "Saving StudentsPerformance.csv to StudentsPerformance (2).csv\n"
          ]
        }
      ]
    },
    {
      "cell_type": "code",
      "metadata": {
        "id": "3Qw-KmsPeh3T"
      },
      "source": [
        "# Read comma separated value file\n",
        "df = pd.read_csv('StudentsPerformance.csv')"
      ],
      "execution_count": 26,
      "outputs": []
    },
    {
      "cell_type": "code",
      "metadata": {
        "id": "qDAIywrxhybP",
        "colab": {
          "base_uri": "https://localhost:8080/",
          "height": 203
        },
        "outputId": "b04a6b38-cc20-4291-abf0-9174e77d8699"
      },
      "source": [
        "# Rename the columns to make them more easier to process for Python\n",
        "df.columns = ['gender', 'race_ethn', 'parental_ed', 'lunch', 'test_prep', 'math_score', 'reading_score', 'writing_score']\n",
        "df.head()"
      ],
      "execution_count": 27,
      "outputs": [
        {
          "output_type": "execute_result",
          "data": {
            "text/html": [
              "<div>\n",
              "<style scoped>\n",
              "    .dataframe tbody tr th:only-of-type {\n",
              "        vertical-align: middle;\n",
              "    }\n",
              "\n",
              "    .dataframe tbody tr th {\n",
              "        vertical-align: top;\n",
              "    }\n",
              "\n",
              "    .dataframe thead th {\n",
              "        text-align: right;\n",
              "    }\n",
              "</style>\n",
              "<table border=\"1\" class=\"dataframe\">\n",
              "  <thead>\n",
              "    <tr style=\"text-align: right;\">\n",
              "      <th></th>\n",
              "      <th>gender</th>\n",
              "      <th>race_ethn</th>\n",
              "      <th>parental_ed</th>\n",
              "      <th>lunch</th>\n",
              "      <th>test_prep</th>\n",
              "      <th>math_score</th>\n",
              "      <th>reading_score</th>\n",
              "      <th>writing_score</th>\n",
              "    </tr>\n",
              "  </thead>\n",
              "  <tbody>\n",
              "    <tr>\n",
              "      <th>0</th>\n",
              "      <td>female</td>\n",
              "      <td>group B</td>\n",
              "      <td>bachelor's degree</td>\n",
              "      <td>standard</td>\n",
              "      <td>none</td>\n",
              "      <td>72</td>\n",
              "      <td>72</td>\n",
              "      <td>74</td>\n",
              "    </tr>\n",
              "    <tr>\n",
              "      <th>1</th>\n",
              "      <td>female</td>\n",
              "      <td>group C</td>\n",
              "      <td>some college</td>\n",
              "      <td>standard</td>\n",
              "      <td>completed</td>\n",
              "      <td>69</td>\n",
              "      <td>90</td>\n",
              "      <td>88</td>\n",
              "    </tr>\n",
              "    <tr>\n",
              "      <th>2</th>\n",
              "      <td>female</td>\n",
              "      <td>group B</td>\n",
              "      <td>master's degree</td>\n",
              "      <td>standard</td>\n",
              "      <td>none</td>\n",
              "      <td>90</td>\n",
              "      <td>95</td>\n",
              "      <td>93</td>\n",
              "    </tr>\n",
              "    <tr>\n",
              "      <th>3</th>\n",
              "      <td>male</td>\n",
              "      <td>group A</td>\n",
              "      <td>associate's degree</td>\n",
              "      <td>free/reduced</td>\n",
              "      <td>none</td>\n",
              "      <td>47</td>\n",
              "      <td>57</td>\n",
              "      <td>44</td>\n",
              "    </tr>\n",
              "    <tr>\n",
              "      <th>4</th>\n",
              "      <td>male</td>\n",
              "      <td>group C</td>\n",
              "      <td>some college</td>\n",
              "      <td>standard</td>\n",
              "      <td>none</td>\n",
              "      <td>76</td>\n",
              "      <td>78</td>\n",
              "      <td>75</td>\n",
              "    </tr>\n",
              "  </tbody>\n",
              "</table>\n",
              "</div>"
            ],
            "text/plain": [
              "   gender race_ethn  ... reading_score writing_score\n",
              "0  female   group B  ...            72            74\n",
              "1  female   group C  ...            90            88\n",
              "2  female   group B  ...            95            93\n",
              "3    male   group A  ...            57            44\n",
              "4    male   group C  ...            78            75\n",
              "\n",
              "[5 rows x 8 columns]"
            ]
          },
          "metadata": {},
          "execution_count": 27
        }
      ]
    },
    {
      "cell_type": "code",
      "metadata": {
        "id": "94SLc48fC3Yw"
      },
      "source": [
        "df.tail()"
      ],
      "execution_count": null,
      "outputs": []
    },
    {
      "cell_type": "code",
      "metadata": {
        "id": "KishyqSOn5zE",
        "colab": {
          "base_uri": "https://localhost:8080/"
        },
        "outputId": "118529bf-96f6-4954-ace9-109c13682bd2"
      },
      "source": [
        "# Types of variables, number of rows, columns\n",
        "df.info()"
      ],
      "execution_count": 35,
      "outputs": [
        {
          "output_type": "stream",
          "name": "stdout",
          "text": [
            "<class 'pandas.core.frame.DataFrame'>\n",
            "RangeIndex: 1000 entries, 0 to 999\n",
            "Data columns (total 9 columns):\n",
            " #   Column         Non-Null Count  Dtype \n",
            "---  ------         --------------  ----- \n",
            " 0   gender         1000 non-null   object\n",
            " 1   race_ethn      1000 non-null   object\n",
            " 2   parental_ed    1000 non-null   object\n",
            " 3   lunch          1000 non-null   object\n",
            " 4   test_prep      1000 non-null   object\n",
            " 5   math_score     1000 non-null   int64 \n",
            " 6   reading_score  1000 non-null   int64 \n",
            " 7   writing_score  1000 non-null   int64 \n",
            " 8   parent_uni     1000 non-null   object\n",
            "dtypes: int64(3), object(6)\n",
            "memory usage: 70.4+ KB\n"
          ]
        }
      ]
    },
    {
      "cell_type": "markdown",
      "metadata": {
        "id": "7Lf8hw07Eu6-"
      },
      "source": [
        "## Descriptive statistics\n"
      ]
    },
    {
      "cell_type": "code",
      "metadata": {
        "colab": {
          "base_uri": "https://localhost:8080/",
          "height": 295
        },
        "id": "JVMajFSxjqUr",
        "outputId": "276f42c0-54a5-4541-88ce-a1dfc7a1b42d"
      },
      "source": [
        "# Get general information on descriptive statistics\n",
        "df.describe()"
      ],
      "execution_count": 34,
      "outputs": [
        {
          "output_type": "execute_result",
          "data": {
            "text/html": [
              "<div>\n",
              "<style scoped>\n",
              "    .dataframe tbody tr th:only-of-type {\n",
              "        vertical-align: middle;\n",
              "    }\n",
              "\n",
              "    .dataframe tbody tr th {\n",
              "        vertical-align: top;\n",
              "    }\n",
              "\n",
              "    .dataframe thead th {\n",
              "        text-align: right;\n",
              "    }\n",
              "</style>\n",
              "<table border=\"1\" class=\"dataframe\">\n",
              "  <thead>\n",
              "    <tr style=\"text-align: right;\">\n",
              "      <th></th>\n",
              "      <th>math_score</th>\n",
              "      <th>reading_score</th>\n",
              "      <th>writing_score</th>\n",
              "    </tr>\n",
              "  </thead>\n",
              "  <tbody>\n",
              "    <tr>\n",
              "      <th>count</th>\n",
              "      <td>1000.00000</td>\n",
              "      <td>1000.000000</td>\n",
              "      <td>1000.000000</td>\n",
              "    </tr>\n",
              "    <tr>\n",
              "      <th>mean</th>\n",
              "      <td>66.08900</td>\n",
              "      <td>69.169000</td>\n",
              "      <td>68.054000</td>\n",
              "    </tr>\n",
              "    <tr>\n",
              "      <th>std</th>\n",
              "      <td>15.16308</td>\n",
              "      <td>14.600192</td>\n",
              "      <td>15.195657</td>\n",
              "    </tr>\n",
              "    <tr>\n",
              "      <th>min</th>\n",
              "      <td>0.00000</td>\n",
              "      <td>17.000000</td>\n",
              "      <td>10.000000</td>\n",
              "    </tr>\n",
              "    <tr>\n",
              "      <th>25%</th>\n",
              "      <td>57.00000</td>\n",
              "      <td>59.000000</td>\n",
              "      <td>57.750000</td>\n",
              "    </tr>\n",
              "    <tr>\n",
              "      <th>50%</th>\n",
              "      <td>66.00000</td>\n",
              "      <td>70.000000</td>\n",
              "      <td>69.000000</td>\n",
              "    </tr>\n",
              "    <tr>\n",
              "      <th>75%</th>\n",
              "      <td>77.00000</td>\n",
              "      <td>79.000000</td>\n",
              "      <td>79.000000</td>\n",
              "    </tr>\n",
              "    <tr>\n",
              "      <th>max</th>\n",
              "      <td>100.00000</td>\n",
              "      <td>100.000000</td>\n",
              "      <td>100.000000</td>\n",
              "    </tr>\n",
              "  </tbody>\n",
              "</table>\n",
              "</div>"
            ],
            "text/plain": [
              "       math_score  reading_score  writing_score\n",
              "count  1000.00000    1000.000000    1000.000000\n",
              "mean     66.08900      69.169000      68.054000\n",
              "std      15.16308      14.600192      15.195657\n",
              "min       0.00000      17.000000      10.000000\n",
              "25%      57.00000      59.000000      57.750000\n",
              "50%      66.00000      70.000000      69.000000\n",
              "75%      77.00000      79.000000      79.000000\n",
              "max     100.00000     100.000000     100.000000"
            ]
          },
          "metadata": {},
          "execution_count": 34
        }
      ]
    },
    {
      "cell_type": "markdown",
      "metadata": {
        "id": "lywdkp5B5ZaS"
      },
      "source": [
        "An idea would be to consolidate the parental education background into two categories: \n",
        "\n",
        "- up to and including high school\n",
        "- university\n",
        "\n",
        "[Associate's degree](https://en.wikipedia.org/wiki/Associate_degree) is obtained after graduating from high school."
      ]
    },
    {
      "cell_type": "code",
      "metadata": {
        "id": "K-GICUaUkfYQ"
      },
      "source": [
        "# List of values for high school\n",
        "lst_hs = ['some high school', 'high school']\n",
        "df.loc[df['parental_ed'].isin(lst_hs), 'parent_uni'] = \"no_university\"\n",
        "\n",
        "# Complement of high school list\n",
        "df.loc[~df['parental_ed'].isin(lst_hs), 'parent_uni'] = \"university\"\n",
        "df.head(10)"
      ],
      "execution_count": null,
      "outputs": []
    },
    {
      "cell_type": "markdown",
      "metadata": {
        "id": "oyytLkdXuZVi"
      },
      "source": [
        "We can use histogrammes to see how the exam scores differ for a categorical variable such as gender. (Similar histogrammes could be generated for lunch, race, parental level of education, and test preparation course.) "
      ]
    },
    {
      "cell_type": "code",
      "metadata": {
        "colab": {
          "base_uri": "https://localhost:8080/",
          "height": 699
        },
        "id": "lwwD537OsZER",
        "outputId": "0c3b7828-b869-46fa-ce33-2c93a004127d"
      },
      "source": [
        "plt.figure(figsize=(12, 12))\n",
        "plt.subplot(321)\n",
        "ax1 = df.groupby('gender').size().plot(kind = 'pie', autopct = '%.2f')\n",
        "ax1.title.set_text(\"Gender\")\n",
        "plt.ylabel(\"\")\n",
        "plt.subplot(322)\n",
        "ax2 = df.groupby('race_ethn').size().plot(kind = \"pie\", autopct = \"%.2f\")\n",
        "ax2.title.set_text(\"Race/Ethnicity\")\n",
        "plt.ylabel(\"\")\n",
        "plt.subplot(323)\n",
        "ax3 = df.groupby('parent_uni').size().plot(kind = \"pie\", autopct = \"%.2f\")\n",
        "ax3.title.set_text(\"Parental University Education\")\n",
        "plt.ylabel(\"\")\n",
        "plt.subplot(324)\n",
        "ax4 = df.groupby('parental_ed').size().plot(kind = \"pie\", autopct = \"%.2f\")\n",
        "ax4.title.set_text(\"Parental Education Details\")\n",
        "plt.ylabel(\"\")\n",
        "plt.subplot(325)\n",
        "ax5 = df.groupby('lunch').size().plot(kind = \"pie\", autopct = \"%.2f\")\n",
        "ax5.title.set_text(\"School Lunch Status\")\n",
        "plt.ylabel(\"\")\n",
        "plt.subplot(326)\n",
        "ax6 = df.groupby('test_prep').size().plot(kind = \"pie\", autopct = \"%.2f\")\n",
        "ax6.title.set_text(\"Test Preparation Course\")\n",
        "plt.ylabel(\"\")\n",
        "plt.show()"
      ],
      "execution_count": 46,
      "outputs": [
        {
          "output_type": "display_data",
          "data": {
            "image/png": "[encoded data removed]",
            "text/plain": [
              "<Figure size 864x864 with 6 Axes>"
            ]
          },
          "metadata": {}
        }
      ]
    },
    {
      "cell_type": "markdown",
      "metadata": {
        "id": "VcD135pDMxi9"
      },
      "source": [
        "We can compare test scores by gender."
      ]
    },
    {
      "cell_type": "code",
      "metadata": {
        "colab": {
          "base_uri": "https://localhost:8080/",
          "height": 449
        },
        "id": "_ER94GUFu-GV",
        "outputId": "27891dd3-86df-43fc-f5e4-e699ffb72b73"
      },
      "source": [
        "# Filter data frame by gender\n",
        "df_female = df[df['gender']=='female']\n",
        "df_male = df[df['gender']=='male']\n",
        "\n",
        "# Plot female scores\n",
        "plt.figure(figsize=(15, 15))\n",
        "plt.subplot(221)\n",
        "df_female['math_score'].plot(kind=\"hist\", fill= False,histtype='step',title = 'Females', label = 'maths')\n",
        "df_female['writing_score'].plot(kind=\"hist\", fill= False,histtype='step',title = 'Females', label = 'writing')\n",
        "ax = df_female['reading_score'].plot(kind=\"hist\", fill= False, histtype='step', label=\"reading\")\n",
        "ax.set_xlabel('Grade out 100')\n",
        "ax.set_ylabel('Absolute frequency')\n",
        "plt.legend()\n",
        "\n",
        "# Plot male scores\n",
        "plt.subplot(222)\n",
        "df_male['math_score'].plot(kind=\"hist\", fill= False,histtype='step',title = 'Males', label = 'maths')\n",
        "df_male['writing_score'].plot(kind=\"hist\", fill= False,histtype='step',title = 'Males', label = 'writing')\n",
        "ax = df_male['reading_score'].plot(kind=\"hist\", fill= False, histtype='step', label=\"reading\")\n",
        "ax.set_xlabel('Grade out 100')\n",
        "ax.set_ylabel('Absolute frequency')\n",
        "plt.legend()\n",
        "\n",
        "plt.show()"
      ],
      "execution_count": 47,
      "outputs": [
        {
          "output_type": "display_data",
          "data": {
            "image/png": "[encoded data removed]",
            "text/plain": [
              "<Figure size 1080x1080 with 2 Axes>"
            ]
          },
          "metadata": {
            "needs_background": "light"
          }
        }
      ]
    },
    {
      "cell_type": "markdown",
      "metadata": {
        "id": "Wr5rmLEU5a32"
      },
      "source": [
        "## Hypothesis testing\n",
        "Our **working hypothesis** is that **males have higher maths scores than females**.\n",
        "\n",
        "Our **null hypothesis** is that **males have lower maths scores than females or equal**.\n",
        "\n",
        "The present working hypothesis is suggested among other things by the mean of male and female math scores:"
      ]
    },
    {
      "cell_type": "code",
      "metadata": {
        "id": "Pog1o4_H7krY",
        "colab": {
          "base_uri": "https://localhost:8080/"
        },
        "outputId": "f78bf658-d4a8-4214-9e67-32ceb86aa152"
      },
      "source": [
        "print(\"Mean maths scores are %1.2f for females and %1.2f for males\" %(df_female[\"math_score\"].mean(), df_male[\"math_score\"].mean()))"
      ],
      "execution_count": 48,
      "outputs": [
        {
          "output_type": "stream",
          "name": "stdout",
          "text": [
            "Mean maths scores are 63.63 for females and 68.73 for males\n"
          ]
        }
      ]
    },
    {
      "cell_type": "markdown",
      "metadata": {
        "id": "sCjO-YsC6ELL"
      },
      "source": [
        "To get a general idea on the scores, we compare first the mean for the maths scores of males and females:"
      ]
    },
    {
      "cell_type": "code",
      "metadata": {
        "colab": {
          "base_uri": "https://localhost:8080/"
        },
        "id": "L_TgyFbs26X0",
        "outputId": "5a82b2f7-5091-4cfb-8fe1-5530d9616a4b"
      },
      "source": [
        "df_female['math_score'].describe()\n"
      ],
      "execution_count": 49,
      "outputs": [
        {
          "output_type": "execute_result",
          "data": {
            "text/plain": [
              "count    518.000000\n",
              "mean      63.633205\n",
              "std       15.491453\n",
              "min        0.000000\n",
              "25%       54.000000\n",
              "50%       65.000000\n",
              "75%       74.000000\n",
              "max      100.000000\n",
              "Name: math_score, dtype: float64"
            ]
          },
          "metadata": {},
          "execution_count": 49
        }
      ]
    },
    {
      "cell_type": "code",
      "metadata": {
        "colab": {
          "base_uri": "https://localhost:8080/"
        },
        "id": "-Kvq4Esy7MIB",
        "outputId": "8d9d8fb0-255d-4535-df32-c5140c1e8b03"
      },
      "source": [
        "df_male['math_score'].describe()"
      ],
      "execution_count": 50,
      "outputs": [
        {
          "output_type": "execute_result",
          "data": {
            "text/plain": [
              "count    482.000000\n",
              "mean      68.728216\n",
              "std       14.356277\n",
              "min       27.000000\n",
              "25%       59.000000\n",
              "50%       69.000000\n",
              "75%       79.000000\n",
              "max      100.000000\n",
              "Name: math_score, dtype: float64"
            ]
          },
          "metadata": {},
          "execution_count": 50
        }
      ]
    },
    {
      "cell_type": "markdown",
      "metadata": {
        "id": "A37DxrLNbV4n"
      },
      "source": [
        "### Testing for normal distribution\n",
        "\n",
        "Some statistical tests assume that the samples to be tested come from a normal distribution. To be able to choose the appropriate tests, we must thus first check if our samples come from a normal distribution. We can test for normality  using a qq-plot or a normality test."
      ]
    },
    {
      "cell_type": "code",
      "metadata": {
        "colab": {
          "base_uri": "https://localhost:8080/",
          "height": 541
        },
        "id": "_Lj2iRhebrB0",
        "outputId": "36d26c32-0b0b-4318-fafc-64170df55026"
      },
      "source": [
        "# QQ-Plot\n",
        "# TODO: Add titles and put in one figure\n",
        "# Female maths score\n",
        "sm.qqplot(df_female['math_score'], line='s')\n",
        "# Male maths score\n",
        "sm.qqplot(df_male['math_score'], line='s')\n",
        "plt.show()"
      ],
      "execution_count": 51,
      "outputs": [
        {
          "output_type": "display_data",
          "data": {
            "image/png": "[encoded data removed]",
            "text/plain": [
              "<Figure size 432x288 with 1 Axes>"
            ]
          },
          "metadata": {
            "needs_background": "light"
          }
        },
        {
          "output_type": "display_data",
          "data": {
            "image/png": "[encoded data removed]",
            "text/plain": [
              "<Figure size 432x288 with 1 Axes>"
            ]
          },
          "metadata": {
            "needs_background": "light"
          }
        }
      ]
    },
    {
      "cell_type": "markdown",
      "metadata": {
        "id": "te1121_keZoR"
      },
      "source": [
        "The null hypothesis of the D'Agostino-Pearson test is normal distribution. If the resulting *p*-value is larger than 0.001 we cannot reject the normality of the distribution.\n",
        "\n",
        "**Question**: should we pick a different value for $\\alpha$?\n",
        "\n",
        "**Answer (Elias)**: $\\alpha$ is in the end an arbitrarily chosen value, but see the addition below.\n",
        "\n",
        "**Answer (Souad)**: Actually I checked the literature,  most tests use a $\\alpha = 0.05$. This means that both Pearson and Shapiro reject the null hypotesis, i.e. reject normality."
      ]
    },
    {
      "cell_type": "code",
      "metadata": {
        "id": "i5vR3PLlcNjf",
        "colab": {
          "base_uri": "https://localhost:8080/"
        },
        "outputId": "3cb4c80e-6631-4e13-da44-a0bd34b1731e"
      },
      "source": [
        "# Normality test female maths score\n",
        "# D Agostino-Pearson. The method returns the test statistic value and the p-value\n",
        "k2, p = stats.normaltest(df_female['math_score']) \n",
        "alpha = 0.05 # Rejection criterion defined by you\n",
        "print('Alpha = ', alpha)\n",
        "print('p = ', p)\n",
        "if p < alpha:  # null hypothesis: x comes from a normal distribution\n",
        "     print(\"We can reject the null hypothesis of normality of female maths score\")\n",
        "else:\n",
        "  print(\"We cannot reject the null hypothesis of normality of female maths score\")"
      ],
      "execution_count": 56,
      "outputs": [
        {
          "output_type": "stream",
          "name": "stdout",
          "text": [
            "Alpha =  0.05\n",
            "p =  0.0007002831165387053\n",
            "We can reject the null hypothesis of normality of female maths score\n"
          ]
        }
      ]
    },
    {
      "cell_type": "code",
      "metadata": {
        "colab": {
          "base_uri": "https://localhost:8080/"
        },
        "id": "OTFeZ2B6f3gK",
        "outputId": "3437d6d3-c0bb-40cb-e7e1-8cbbc01ad5ae"
      },
      "source": [
        "# Normality test male maths score\n",
        "k2, p = stats.normaltest(df_male['math_score']) \n",
        "alpha = 0.05 # Rejection criterion defined by you\n",
        "print('Alpha = ', alpha)\n",
        "print('p = ', p)\n",
        "if p < alpha:  # null hypothesis: x comes from a normal distribution\n",
        "     print(\"We can reject the null hypothesis of normality of male maths score\")\n",
        "else:\n",
        "  print(\"We cannot reject the null hypothesis of normality of male maths score\")"
      ],
      "execution_count": 57,
      "outputs": [
        {
          "output_type": "stream",
          "name": "stdout",
          "text": [
            "Alpha =  0.05\n",
            "p =  0.06459355656271938\n",
            "We cannot reject the null hypothesis of normality of male maths score\n"
          ]
        }
      ]
    },
    {
      "cell_type": "markdown",
      "metadata": {
        "id": "rPYuS6GHZvjX"
      },
      "source": [
        "It looks like the normality assumption for the female maths score does not hold.\n"
      ]
    },
    {
      "cell_type": "markdown",
      "metadata": {
        "id": "JLmEv2odYEao"
      },
      "source": [
        "Note, however, also the *p*-values for both samples in question retrieved from the Shapiro-Wilk test for normality (this test can be used for samples between 3 $\\leq$ n $\\leq$ 5000): "
      ]
    },
    {
      "cell_type": "code",
      "metadata": {
        "colab": {
          "base_uri": "https://localhost:8080/"
        },
        "id": "FjfiHh7gVlhz",
        "outputId": "d35b2a9e-98a6-4095-ad78-82d26bf538b1"
      },
      "source": [
        "s,p = stats.shapiro(df_female['math_score'])\n",
        "print('Test statistic = %.2f, p-value = %.2e' %(s, p))"
      ],
      "execution_count": 60,
      "outputs": [
        {
          "output_type": "stream",
          "name": "stdout",
          "text": [
            "Test statistic = 0.99, p-value = 3.52e-03\n"
          ]
        }
      ]
    },
    {
      "cell_type": "code",
      "metadata": {
        "colab": {
          "base_uri": "https://localhost:8080/"
        },
        "id": "ddH9ss5EYjUo",
        "outputId": "216e835f-6af4-45ec-da5a-f4d29ccf9d72"
      },
      "source": [
        "s,p = stats.shapiro(df_male['math_score'])\n",
        "print('Test statistic = %.2f, p-value = %.2e' %(s, p))"
      ],
      "execution_count": 65,
      "outputs": [
        {
          "output_type": "stream",
          "name": "stdout",
          "text": [
            "Test statistic = 0.99, p-value = 3.80e-02\n"
          ]
        }
      ]
    },
    {
      "cell_type": "markdown",
      "metadata": {
        "id": "kXrp45NrbA6j"
      },
      "source": [
        "These *p*-values suggest that the normality assumptions do not hold for neither males nor females.\n"
      ]
    },
    {
      "cell_type": "markdown",
      "metadata": {
        "id": "pGK5BNGWgdJ-"
      },
      "source": [
        "\n",
        "### Mann-Whitney U test\n",
        "It appears that the most apporpriate test is the Mann-Whitney U test for two independent samples, non-normally distributed.\n",
        "\n",
        "Note that this test should only be used with at least 20 data points.\n"
      ]
    },
    {
      "cell_type": "code",
      "metadata": {
        "colab": {
          "base_uri": "https://localhost:8080/"
        },
        "id": "3wbP_3NkhT5q",
        "outputId": "b58f422d-7f9f-439a-c726-a0ec45ca1910"
      },
      "source": [
        "df_female['math_score'].size"
      ],
      "execution_count": 66,
      "outputs": [
        {
          "output_type": "execute_result",
          "data": {
            "text/plain": [
              "518"
            ]
          },
          "metadata": {},
          "execution_count": 66
        }
      ]
    },
    {
      "cell_type": "code",
      "metadata": {
        "colab": {
          "base_uri": "https://localhost:8080/"
        },
        "id": "puoKRUvMev0S",
        "outputId": "801a8a56-0da1-4ed6-e342-a93006d09f43"
      },
      "source": [
        "df_male['math_score'].size"
      ],
      "execution_count": 67,
      "outputs": [
        {
          "output_type": "execute_result",
          "data": {
            "text/plain": [
              "482"
            ]
          },
          "metadata": {},
          "execution_count": 67
        }
      ]
    },
    {
      "cell_type": "code",
      "metadata": {
        "colab": {
          "base_uri": "https://localhost:8080/"
        },
        "id": "qB8fCF0xhchb",
        "outputId": "e2a0824a-b47d-4b07-8260-edfebd81b16e"
      },
      "source": [
        "t, p = stats.mannwhitneyu(df_male['math_score'],df_female['math_score'], alternative='greater')\n",
        "print(\"The p-value of the Mann-Whitney U test is %1.2e\" %p)"
      ],
      "execution_count": 68,
      "outputs": [
        {
          "output_type": "stream",
          "name": "stdout",
          "text": [
            "The p-value of the Mann-Whitney U test is 2.14e-07\n"
          ]
        }
      ]
    },
    {
      "cell_type": "markdown",
      "metadata": {
        "id": "ptFjbu2YiL83"
      },
      "source": [
        "The *p*-value is $2.14 \\times 10^{-7}$, therefore we can reject the null hypothesis: it is very unlikely that male maths scores are lower than female maths scores or equal. \n",
        "\n",
        "Did you write this **Elias**? \n",
        "\n",
        "*Thus, our working hypothesis (alternative hypothesis) is confirmed that the math scores of male students are higher than those of female students.*\n",
        "\n",
        "A hypothesis test does **not** confirm the working hypothesis. It merely allows us to reject the null hypothesis."
      ]
    },
    {
      "cell_type": "markdown",
      "metadata": {
        "id": "Uun6vndnrHir"
      },
      "source": [
        ""
      ]
    }
  ]
}