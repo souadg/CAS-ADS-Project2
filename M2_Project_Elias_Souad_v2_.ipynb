{
  "nbformat": 4,
  "nbformat_minor": 0,
  "metadata": {
    "colab": {
      "name": "M2 Project Elias Souad. v2 .ipynb",
      "provenance": [],
      "collapsed_sections": [],
      "toc_visible": true,
      "include_colab_link": true
    },
    "kernelspec": {
      "name": "python3",
      "display_name": "Python 3"
    },
    "language_info": {
      "name": "python"
    }
  },
  "cells": [
    {
      "cell_type": "markdown",
      "metadata": {
        "id": "view-in-github",
        "colab_type": "text"
      },
      "source": [
        "<a href=\"https://colab.research.google.com/github/souadg/CAS-ADS-Project2/blob/main/M2_Project_Elias_Souad_v2_.ipynb\" target=\"_parent\"><img src=\"https://colab.research.google.com/assets/colab-badge.svg\" alt=\"Open In Colab\"/></a>"
      ]
    },
    {
      "cell_type": "markdown",
      "metadata": {
        "id": "mLP8FTHIr_i5"
      },
      "source": [
        "# Module 2 Project: Student Performance\n"
      ]
    },
    {
      "cell_type": "markdown",
      "metadata": {
        "id": "I5lphhuwAFD2"
      },
      "source": [
        "## Importing Libraries"
      ]
    },
    {
      "cell_type": "code",
      "metadata": {
        "id": "kcB11Cv3d01E"
      },
      "source": [
        "# Import libraries\n",
        "\n",
        "# Basic libraries\n",
        "import pandas as pd\n",
        "import numpy as np\n",
        "\n",
        "# Plotting\n",
        "import matplotlib.pyplot as plt\n",
        "import seaborn as sns\n",
        "\n",
        "# Stats\n",
        "import statsmodels.api as sm\n",
        "from scipy import stats\n",
        "import statsmodels.stats.api as sms # Goldfeld Quandt Test\n",
        "import statsmodels.formula.api as smf # ols"
      ],
      "execution_count": 251,
      "outputs": []
    },
    {
      "cell_type": "markdown",
      "metadata": {
        "id": "_TIlOjzSsM8y"
      },
      "source": [
        "## Load Data Set"
      ]
    },
    {
      "cell_type": "code",
      "metadata": {
        "id": "lFjYK3ztBTf3"
      },
      "source": [
        "# Display more rows in head\n",
        "pd.set_option('display.max_rows', 6) "
      ],
      "execution_count": 252,
      "outputs": []
    },
    {
      "cell_type": "code",
      "metadata": {
        "id": "3Qw-KmsPeh3T",
        "colab": {
          "base_uri": "https://localhost:8080/",
          "height": 203
        },
        "outputId": "d2c5899f-801a-499f-ea79-8e73c80dcc83"
      },
      "source": [
        "# Read comma separated value file\n",
        "url = \"https://raw.githubusercontent.com/souadg/CAS-ADS-Project2/main/StudentsPerformance.csv\"\n",
        "df = pd.read_csv(url)\n",
        "df.head()"
      ],
      "execution_count": 253,
      "outputs": [
        {
          "output_type": "execute_result",
          "data": {
            "text/html": [
              "<div>\n",
              "<style scoped>\n",
              "    .dataframe tbody tr th:only-of-type {\n",
              "        vertical-align: middle;\n",
              "    }\n",
              "\n",
              "    .dataframe tbody tr th {\n",
              "        vertical-align: top;\n",
              "    }\n",
              "\n",
              "    .dataframe thead th {\n",
              "        text-align: right;\n",
              "    }\n",
              "</style>\n",
              "<table border=\"1\" class=\"dataframe\">\n",
              "  <thead>\n",
              "    <tr style=\"text-align: right;\">\n",
              "      <th></th>\n",
              "      <th>gender</th>\n",
              "      <th>race/ethnicity</th>\n",
              "      <th>parental level of education</th>\n",
              "      <th>lunch</th>\n",
              "      <th>test preparation course</th>\n",
              "      <th>math score</th>\n",
              "      <th>reading score</th>\n",
              "      <th>writing score</th>\n",
              "    </tr>\n",
              "  </thead>\n",
              "  <tbody>\n",
              "    <tr>\n",
              "      <th>0</th>\n",
              "      <td>female</td>\n",
              "      <td>group B</td>\n",
              "      <td>bachelor's degree</td>\n",
              "      <td>standard</td>\n",
              "      <td>none</td>\n",
              "      <td>72</td>\n",
              "      <td>72</td>\n",
              "      <td>74</td>\n",
              "    </tr>\n",
              "    <tr>\n",
              "      <th>1</th>\n",
              "      <td>female</td>\n",
              "      <td>group C</td>\n",
              "      <td>some college</td>\n",
              "      <td>standard</td>\n",
              "      <td>completed</td>\n",
              "      <td>69</td>\n",
              "      <td>90</td>\n",
              "      <td>88</td>\n",
              "    </tr>\n",
              "    <tr>\n",
              "      <th>2</th>\n",
              "      <td>female</td>\n",
              "      <td>group B</td>\n",
              "      <td>master's degree</td>\n",
              "      <td>standard</td>\n",
              "      <td>none</td>\n",
              "      <td>90</td>\n",
              "      <td>95</td>\n",
              "      <td>93</td>\n",
              "    </tr>\n",
              "    <tr>\n",
              "      <th>3</th>\n",
              "      <td>male</td>\n",
              "      <td>group A</td>\n",
              "      <td>associate's degree</td>\n",
              "      <td>free/reduced</td>\n",
              "      <td>none</td>\n",
              "      <td>47</td>\n",
              "      <td>57</td>\n",
              "      <td>44</td>\n",
              "    </tr>\n",
              "    <tr>\n",
              "      <th>4</th>\n",
              "      <td>male</td>\n",
              "      <td>group C</td>\n",
              "      <td>some college</td>\n",
              "      <td>standard</td>\n",
              "      <td>none</td>\n",
              "      <td>76</td>\n",
              "      <td>78</td>\n",
              "      <td>75</td>\n",
              "    </tr>\n",
              "  </tbody>\n",
              "</table>\n",
              "</div>"
            ],
            "text/plain": [
              "   gender race/ethnicity  ... reading score writing score\n",
              "0  female        group B  ...            72            74\n",
              "1  female        group C  ...            90            88\n",
              "2  female        group B  ...            95            93\n",
              "3    male        group A  ...            57            44\n",
              "4    male        group C  ...            78            75\n",
              "\n",
              "[5 rows x 8 columns]"
            ]
          },
          "metadata": {},
          "execution_count": 253
        }
      ]
    },
    {
      "cell_type": "code",
      "metadata": {
        "colab": {
          "base_uri": "https://localhost:8080/"
        },
        "id": "L9AWXYeumD0U",
        "outputId": "285eae19-200b-422d-f6a7-989ad292103c"
      },
      "source": [
        "print(\"There are %d rows and %d columns in the data frame\" %(df.shape[0], df.shape[1]))"
      ],
      "execution_count": 254,
      "outputs": [
        {
          "output_type": "stream",
          "name": "stdout",
          "text": [
            "There are 1000 rows and 8 columns in the data frame\n"
          ]
        }
      ]
    },
    {
      "cell_type": "code",
      "metadata": {
        "id": "qDAIywrxhybP",
        "colab": {
          "base_uri": "https://localhost:8080/",
          "height": 203
        },
        "outputId": "ebf01a49-bb4c-49f6-9c06-061579cfea46"
      },
      "source": [
        "# Replace spaces and slash in column names with underscore\n",
        "df.columns = ['gender', 'race_ethn', 'parental_ed', 'lunch', 'test_prep', 'maths_score', 'read_score', 'write_score']\n",
        "df.head()"
      ],
      "execution_count": 255,
      "outputs": [
        {
          "output_type": "execute_result",
          "data": {
            "text/html": [
              "<div>\n",
              "<style scoped>\n",
              "    .dataframe tbody tr th:only-of-type {\n",
              "        vertical-align: middle;\n",
              "    }\n",
              "\n",
              "    .dataframe tbody tr th {\n",
              "        vertical-align: top;\n",
              "    }\n",
              "\n",
              "    .dataframe thead th {\n",
              "        text-align: right;\n",
              "    }\n",
              "</style>\n",
              "<table border=\"1\" class=\"dataframe\">\n",
              "  <thead>\n",
              "    <tr style=\"text-align: right;\">\n",
              "      <th></th>\n",
              "      <th>gender</th>\n",
              "      <th>race_ethn</th>\n",
              "      <th>parental_ed</th>\n",
              "      <th>lunch</th>\n",
              "      <th>test_prep</th>\n",
              "      <th>maths_score</th>\n",
              "      <th>read_score</th>\n",
              "      <th>write_score</th>\n",
              "    </tr>\n",
              "  </thead>\n",
              "  <tbody>\n",
              "    <tr>\n",
              "      <th>0</th>\n",
              "      <td>female</td>\n",
              "      <td>group B</td>\n",
              "      <td>bachelor's degree</td>\n",
              "      <td>standard</td>\n",
              "      <td>none</td>\n",
              "      <td>72</td>\n",
              "      <td>72</td>\n",
              "      <td>74</td>\n",
              "    </tr>\n",
              "    <tr>\n",
              "      <th>1</th>\n",
              "      <td>female</td>\n",
              "      <td>group C</td>\n",
              "      <td>some college</td>\n",
              "      <td>standard</td>\n",
              "      <td>completed</td>\n",
              "      <td>69</td>\n",
              "      <td>90</td>\n",
              "      <td>88</td>\n",
              "    </tr>\n",
              "    <tr>\n",
              "      <th>2</th>\n",
              "      <td>female</td>\n",
              "      <td>group B</td>\n",
              "      <td>master's degree</td>\n",
              "      <td>standard</td>\n",
              "      <td>none</td>\n",
              "      <td>90</td>\n",
              "      <td>95</td>\n",
              "      <td>93</td>\n",
              "    </tr>\n",
              "    <tr>\n",
              "      <th>3</th>\n",
              "      <td>male</td>\n",
              "      <td>group A</td>\n",
              "      <td>associate's degree</td>\n",
              "      <td>free/reduced</td>\n",
              "      <td>none</td>\n",
              "      <td>47</td>\n",
              "      <td>57</td>\n",
              "      <td>44</td>\n",
              "    </tr>\n",
              "    <tr>\n",
              "      <th>4</th>\n",
              "      <td>male</td>\n",
              "      <td>group C</td>\n",
              "      <td>some college</td>\n",
              "      <td>standard</td>\n",
              "      <td>none</td>\n",
              "      <td>76</td>\n",
              "      <td>78</td>\n",
              "      <td>75</td>\n",
              "    </tr>\n",
              "  </tbody>\n",
              "</table>\n",
              "</div>"
            ],
            "text/plain": [
              "   gender race_ethn         parental_ed  ... maths_score read_score  write_score\n",
              "0  female   group B   bachelor's degree  ...          72         72           74\n",
              "1  female   group C        some college  ...          69         90           88\n",
              "2  female   group B     master's degree  ...          90         95           93\n",
              "3    male   group A  associate's degree  ...          47         57           44\n",
              "4    male   group C        some college  ...          76         78           75\n",
              "\n",
              "[5 rows x 8 columns]"
            ]
          },
          "metadata": {},
          "execution_count": 255
        }
      ]
    },
    {
      "cell_type": "code",
      "metadata": {
        "id": "94SLc48fC3Yw",
        "colab": {
          "base_uri": "https://localhost:8080/",
          "height": 203
        },
        "outputId": "27304278-4cf1-433b-8a00-7ddb1ab67a01"
      },
      "source": [
        "df.tail()"
      ],
      "execution_count": 256,
      "outputs": [
        {
          "output_type": "execute_result",
          "data": {
            "text/html": [
              "<div>\n",
              "<style scoped>\n",
              "    .dataframe tbody tr th:only-of-type {\n",
              "        vertical-align: middle;\n",
              "    }\n",
              "\n",
              "    .dataframe tbody tr th {\n",
              "        vertical-align: top;\n",
              "    }\n",
              "\n",
              "    .dataframe thead th {\n",
              "        text-align: right;\n",
              "    }\n",
              "</style>\n",
              "<table border=\"1\" class=\"dataframe\">\n",
              "  <thead>\n",
              "    <tr style=\"text-align: right;\">\n",
              "      <th></th>\n",
              "      <th>gender</th>\n",
              "      <th>race_ethn</th>\n",
              "      <th>parental_ed</th>\n",
              "      <th>lunch</th>\n",
              "      <th>test_prep</th>\n",
              "      <th>maths_score</th>\n",
              "      <th>read_score</th>\n",
              "      <th>write_score</th>\n",
              "    </tr>\n",
              "  </thead>\n",
              "  <tbody>\n",
              "    <tr>\n",
              "      <th>995</th>\n",
              "      <td>female</td>\n",
              "      <td>group E</td>\n",
              "      <td>master's degree</td>\n",
              "      <td>standard</td>\n",
              "      <td>completed</td>\n",
              "      <td>88</td>\n",
              "      <td>99</td>\n",
              "      <td>95</td>\n",
              "    </tr>\n",
              "    <tr>\n",
              "      <th>996</th>\n",
              "      <td>male</td>\n",
              "      <td>group C</td>\n",
              "      <td>high school</td>\n",
              "      <td>free/reduced</td>\n",
              "      <td>none</td>\n",
              "      <td>62</td>\n",
              "      <td>55</td>\n",
              "      <td>55</td>\n",
              "    </tr>\n",
              "    <tr>\n",
              "      <th>997</th>\n",
              "      <td>female</td>\n",
              "      <td>group C</td>\n",
              "      <td>high school</td>\n",
              "      <td>free/reduced</td>\n",
              "      <td>completed</td>\n",
              "      <td>59</td>\n",
              "      <td>71</td>\n",
              "      <td>65</td>\n",
              "    </tr>\n",
              "    <tr>\n",
              "      <th>998</th>\n",
              "      <td>female</td>\n",
              "      <td>group D</td>\n",
              "      <td>some college</td>\n",
              "      <td>standard</td>\n",
              "      <td>completed</td>\n",
              "      <td>68</td>\n",
              "      <td>78</td>\n",
              "      <td>77</td>\n",
              "    </tr>\n",
              "    <tr>\n",
              "      <th>999</th>\n",
              "      <td>female</td>\n",
              "      <td>group D</td>\n",
              "      <td>some college</td>\n",
              "      <td>free/reduced</td>\n",
              "      <td>none</td>\n",
              "      <td>77</td>\n",
              "      <td>86</td>\n",
              "      <td>86</td>\n",
              "    </tr>\n",
              "  </tbody>\n",
              "</table>\n",
              "</div>"
            ],
            "text/plain": [
              "     gender race_ethn      parental_ed  ... maths_score read_score  write_score\n",
              "995  female   group E  master's degree  ...          88         99           95\n",
              "996    male   group C      high school  ...          62         55           55\n",
              "997  female   group C      high school  ...          59         71           65\n",
              "998  female   group D     some college  ...          68         78           77\n",
              "999  female   group D     some college  ...          77         86           86\n",
              "\n",
              "[5 rows x 8 columns]"
            ]
          },
          "metadata": {},
          "execution_count": 256
        }
      ]
    },
    {
      "cell_type": "code",
      "metadata": {
        "id": "KishyqSOn5zE",
        "colab": {
          "base_uri": "https://localhost:8080/"
        },
        "outputId": "e5028afe-c99d-4ec7-b462-45c742fcf1bf"
      },
      "source": [
        "# Types of variables, number of rows, columns\n",
        "df.info()"
      ],
      "execution_count": 257,
      "outputs": [
        {
          "output_type": "stream",
          "name": "stdout",
          "text": [
            "<class 'pandas.core.frame.DataFrame'>\n",
            "RangeIndex: 1000 entries, 0 to 999\n",
            "Data columns (total 8 columns):\n",
            " #   Column       Non-Null Count  Dtype \n",
            "---  ------       --------------  ----- \n",
            " 0   gender       1000 non-null   object\n",
            " 1   race_ethn    1000 non-null   object\n",
            " 2   parental_ed  1000 non-null   object\n",
            " 3   lunch        1000 non-null   object\n",
            " 4   test_prep    1000 non-null   object\n",
            " 5   maths_score  1000 non-null   int64 \n",
            " 6   read_score   1000 non-null   int64 \n",
            " 7   write_score  1000 non-null   int64 \n",
            "dtypes: int64(3), object(5)\n",
            "memory usage: 62.6+ KB\n"
          ]
        }
      ]
    },
    {
      "cell_type": "markdown",
      "metadata": {
        "id": "7Lf8hw07Eu6-"
      },
      "source": [
        "## Descriptive Statistics\n"
      ]
    },
    {
      "cell_type": "code",
      "metadata": {
        "colab": {
          "base_uri": "https://localhost:8080/",
          "height": 294
        },
        "id": "JVMajFSxjqUr",
        "outputId": "b660684c-730b-438f-a3ef-9eebea12c68f"
      },
      "source": [
        "# Get general information on descriptive statistics\n",
        "df.describe()"
      ],
      "execution_count": 258,
      "outputs": [
        {
          "output_type": "execute_result",
          "data": {
            "text/html": [
              "<div>\n",
              "<style scoped>\n",
              "    .dataframe tbody tr th:only-of-type {\n",
              "        vertical-align: middle;\n",
              "    }\n",
              "\n",
              "    .dataframe tbody tr th {\n",
              "        vertical-align: top;\n",
              "    }\n",
              "\n",
              "    .dataframe thead th {\n",
              "        text-align: right;\n",
              "    }\n",
              "</style>\n",
              "<table border=\"1\" class=\"dataframe\">\n",
              "  <thead>\n",
              "    <tr style=\"text-align: right;\">\n",
              "      <th></th>\n",
              "      <th>maths_score</th>\n",
              "      <th>read_score</th>\n",
              "      <th>write_score</th>\n",
              "    </tr>\n",
              "  </thead>\n",
              "  <tbody>\n",
              "    <tr>\n",
              "      <th>count</th>\n",
              "      <td>1000.00000</td>\n",
              "      <td>1000.000000</td>\n",
              "      <td>1000.000000</td>\n",
              "    </tr>\n",
              "    <tr>\n",
              "      <th>mean</th>\n",
              "      <td>66.08900</td>\n",
              "      <td>69.169000</td>\n",
              "      <td>68.054000</td>\n",
              "    </tr>\n",
              "    <tr>\n",
              "      <th>std</th>\n",
              "      <td>15.16308</td>\n",
              "      <td>14.600192</td>\n",
              "      <td>15.195657</td>\n",
              "    </tr>\n",
              "    <tr>\n",
              "      <th>...</th>\n",
              "      <td>...</td>\n",
              "      <td>...</td>\n",
              "      <td>...</td>\n",
              "    </tr>\n",
              "    <tr>\n",
              "      <th>50%</th>\n",
              "      <td>66.00000</td>\n",
              "      <td>70.000000</td>\n",
              "      <td>69.000000</td>\n",
              "    </tr>\n",
              "    <tr>\n",
              "      <th>75%</th>\n",
              "      <td>77.00000</td>\n",
              "      <td>79.000000</td>\n",
              "      <td>79.000000</td>\n",
              "    </tr>\n",
              "    <tr>\n",
              "      <th>max</th>\n",
              "      <td>100.00000</td>\n",
              "      <td>100.000000</td>\n",
              "      <td>100.000000</td>\n",
              "    </tr>\n",
              "  </tbody>\n",
              "</table>\n",
              "<p>8 rows × 3 columns</p>\n",
              "</div>"
            ],
            "text/plain": [
              "       maths_score   read_score  write_score\n",
              "count   1000.00000  1000.000000  1000.000000\n",
              "mean      66.08900    69.169000    68.054000\n",
              "std       15.16308    14.600192    15.195657\n",
              "...            ...          ...          ...\n",
              "50%       66.00000    70.000000    69.000000\n",
              "75%       77.00000    79.000000    79.000000\n",
              "max      100.00000   100.000000   100.000000\n",
              "\n",
              "[8 rows x 3 columns]"
            ]
          },
          "metadata": {},
          "execution_count": 258
        }
      ]
    },
    {
      "cell_type": "markdown",
      "metadata": {
        "id": "lywdkp5B5ZaS"
      },
      "source": [
        "An idea would be to consolidate the parental education background into two categories: \n",
        "\n",
        "- up to and including high school\n",
        "- university\n",
        "\n",
        "[Associate's degree](https://en.wikipedia.org/wiki/Associate_degree) is obtained after graduating from high school."
      ]
    },
    {
      "cell_type": "code",
      "metadata": {
        "id": "K-GICUaUkfYQ",
        "colab": {
          "base_uri": "https://localhost:8080/",
          "height": 203
        },
        "outputId": "dcae48e3-6734-4a5b-fb98-0627612ff69f"
      },
      "source": [
        "# List of values for high school\n",
        "lst_hs = ['some high school', 'high school']\n",
        "df.loc[df['parental_ed'].isin(lst_hs), 'parent_uni'] = \"no\"\n",
        "\n",
        "# Complement of high school list\n",
        "df.loc[~df['parental_ed'].isin(lst_hs), 'parent_uni'] = \"yes\"\n",
        "df.head()"
      ],
      "execution_count": 259,
      "outputs": [
        {
          "output_type": "execute_result",
          "data": {
            "text/html": [
              "<div>\n",
              "<style scoped>\n",
              "    .dataframe tbody tr th:only-of-type {\n",
              "        vertical-align: middle;\n",
              "    }\n",
              "\n",
              "    .dataframe tbody tr th {\n",
              "        vertical-align: top;\n",
              "    }\n",
              "\n",
              "    .dataframe thead th {\n",
              "        text-align: right;\n",
              "    }\n",
              "</style>\n",
              "<table border=\"1\" class=\"dataframe\">\n",
              "  <thead>\n",
              "    <tr style=\"text-align: right;\">\n",
              "      <th></th>\n",
              "      <th>gender</th>\n",
              "      <th>race_ethn</th>\n",
              "      <th>parental_ed</th>\n",
              "      <th>lunch</th>\n",
              "      <th>test_prep</th>\n",
              "      <th>maths_score</th>\n",
              "      <th>read_score</th>\n",
              "      <th>write_score</th>\n",
              "      <th>parent_uni</th>\n",
              "    </tr>\n",
              "  </thead>\n",
              "  <tbody>\n",
              "    <tr>\n",
              "      <th>0</th>\n",
              "      <td>female</td>\n",
              "      <td>group B</td>\n",
              "      <td>bachelor's degree</td>\n",
              "      <td>standard</td>\n",
              "      <td>none</td>\n",
              "      <td>72</td>\n",
              "      <td>72</td>\n",
              "      <td>74</td>\n",
              "      <td>yes</td>\n",
              "    </tr>\n",
              "    <tr>\n",
              "      <th>1</th>\n",
              "      <td>female</td>\n",
              "      <td>group C</td>\n",
              "      <td>some college</td>\n",
              "      <td>standard</td>\n",
              "      <td>completed</td>\n",
              "      <td>69</td>\n",
              "      <td>90</td>\n",
              "      <td>88</td>\n",
              "      <td>yes</td>\n",
              "    </tr>\n",
              "    <tr>\n",
              "      <th>2</th>\n",
              "      <td>female</td>\n",
              "      <td>group B</td>\n",
              "      <td>master's degree</td>\n",
              "      <td>standard</td>\n",
              "      <td>none</td>\n",
              "      <td>90</td>\n",
              "      <td>95</td>\n",
              "      <td>93</td>\n",
              "      <td>yes</td>\n",
              "    </tr>\n",
              "    <tr>\n",
              "      <th>3</th>\n",
              "      <td>male</td>\n",
              "      <td>group A</td>\n",
              "      <td>associate's degree</td>\n",
              "      <td>free/reduced</td>\n",
              "      <td>none</td>\n",
              "      <td>47</td>\n",
              "      <td>57</td>\n",
              "      <td>44</td>\n",
              "      <td>yes</td>\n",
              "    </tr>\n",
              "    <tr>\n",
              "      <th>4</th>\n",
              "      <td>male</td>\n",
              "      <td>group C</td>\n",
              "      <td>some college</td>\n",
              "      <td>standard</td>\n",
              "      <td>none</td>\n",
              "      <td>76</td>\n",
              "      <td>78</td>\n",
              "      <td>75</td>\n",
              "      <td>yes</td>\n",
              "    </tr>\n",
              "  </tbody>\n",
              "</table>\n",
              "</div>"
            ],
            "text/plain": [
              "   gender race_ethn         parental_ed  ... read_score write_score  parent_uni\n",
              "0  female   group B   bachelor's degree  ...         72          74         yes\n",
              "1  female   group C        some college  ...         90          88         yes\n",
              "2  female   group B     master's degree  ...         95          93         yes\n",
              "3    male   group A  associate's degree  ...         57          44         yes\n",
              "4    male   group C        some college  ...         78          75         yes\n",
              "\n",
              "[5 rows x 9 columns]"
            ]
          },
          "metadata": {},
          "execution_count": 259
        }
      ]
    },
    {
      "cell_type": "code",
      "metadata": {
        "colab": {
          "base_uri": "https://localhost:8080/",
          "height": 699
        },
        "id": "lwwD537OsZER",
        "outputId": "4f8cd1fc-f3b7-4708-b608-4563589aa325"
      },
      "source": [
        "plt.figure(figsize=(12, 12))\n",
        "plt.subplot(321)\n",
        "ax1 = df.groupby('gender').size().plot(kind = 'pie', autopct = '%.2f')\n",
        "ax1.title.set_text(\"Gender\")\n",
        "plt.ylabel(\"\")\n",
        "plt.subplot(322)\n",
        "ax2 = df.groupby('race_ethn').size().plot(kind = \"pie\", autopct = \"%.2f\")\n",
        "ax2.title.set_text(\"Race/Ethnicity\")\n",
        "plt.ylabel(\"\")\n",
        "plt.subplot(323)\n",
        "ax3 = df.groupby('parent_uni').size().plot(kind = \"pie\", autopct = \"%.2f\")\n",
        "ax3.title.set_text(\"Parental University Education\")\n",
        "plt.ylabel(\"\")\n",
        "plt.subplot(324)\n",
        "ax4 = df.groupby('parental_ed').size().plot(kind = \"pie\", autopct = \"%.2f\")\n",
        "ax4.title.set_text(\"Parental Education Details\")\n",
        "plt.ylabel(\"\")\n",
        "plt.subplot(325)\n",
        "ax5 = df.groupby('lunch').size().plot(kind = \"pie\", autopct = \"%.2f\")\n",
        "ax5.title.set_text(\"School Lunch Status\")\n",
        "plt.ylabel(\"\")\n",
        "plt.subplot(326)\n",
        "ax6 = df.groupby('test_prep').size().plot(kind = \"pie\", autopct = \"%.2f\")\n",
        "ax6.title.set_text(\"Test Preparation Course\")\n",
        "plt.ylabel(\"\")\n",
        "plt.show()"
      ],
      "execution_count": 260,
      "outputs": [
        {
          "output_type": "display_data",
          "data": {
            "image/png": "[encoded data removed]",
            "text/plain": [
              "<Figure size 864x864 with 6 Axes>"
            ]
          },
          "metadata": {}
        }
      ]
    },
    {
      "cell_type": "markdown",
      "metadata": {
        "id": "oyytLkdXuZVi"
      },
      "source": [
        "We can use histograms to see how the exam scores differ for a categorical variable such as gender. Similar histograms could be generated for lunch, race, parental level of education, and test preparation course."
      ]
    },
    {
      "cell_type": "code",
      "metadata": {
        "colab": {
          "base_uri": "https://localhost:8080/",
          "height": 449
        },
        "id": "_ER94GUFu-GV",
        "outputId": "ce28bd94-1bf1-4c14-defa-9bc384bc50a8"
      },
      "source": [
        "# Filter data frame by gender\n",
        "df_female = df[df['gender']=='female']\n",
        "df_male = df[df['gender']=='male']\n",
        "\n",
        "# Plot female scores\n",
        "plt.figure(figsize=(15, 15))\n",
        "plt.subplot(221)\n",
        "df_female['maths_score'].plot(kind=\"hist\", fill= False,histtype='step',title = 'Females', label = 'maths')\n",
        "df_female['write_score'].plot(kind=\"hist\", fill= False,histtype='step',title = 'Females', label = 'writing')\n",
        "ax = df_female['read_score'].plot(kind=\"hist\", fill= False, histtype='step', label=\"reading\")\n",
        "ax.set_xlabel('Grade out 100')\n",
        "ax.set_ylabel('Absolute frequency')\n",
        "plt.legend()\n",
        "\n",
        "# Plot male scores\n",
        "plt.subplot(222)\n",
        "df_male['maths_score'].plot(kind=\"hist\", fill= False,histtype='step',title = 'Males', label = 'maths')\n",
        "df_male['write_score'].plot(kind=\"hist\", fill= False,histtype='step',title = 'Males', label = 'writing')\n",
        "ax = df_male['read_score'].plot(kind=\"hist\", fill= False, histtype='step', label=\"reading\")\n",
        "ax.set_xlabel('Grade out 100')\n",
        "ax.set_ylabel('Absolute frequency')\n",
        "plt.legend()\n",
        "\n",
        "plt.show()"
      ],
      "execution_count": 261,
      "outputs": [
        {
          "output_type": "display_data",
          "data": {
            "image/png": "[encoded data removed]",
            "text/plain": [
              "<Figure size 1080x1080 with 2 Axes>"
            ]
          },
          "metadata": {
            "needs_background": "light"
          }
        }
      ]
    },
    {
      "cell_type": "markdown",
      "metadata": {
        "id": "Wr5rmLEU5a32"
      },
      "source": [
        "## Hypothesis 1: Maths Score and Gender\n",
        "\n",
        "We denote the working hypothesis as H<sub>1</sub> and the null hypothesis as H<sub>0</sub>.\n"
      ]
    },
    {
      "cell_type": "markdown",
      "metadata": {
        "id": "cO1G2v31FVwv"
      },
      "source": [
        "### Defining Hypothesis\n",
        "\n",
        "**H<sub>1</sub>**: male students have higher maths scores than female students.\n",
        "\n",
        "**H<sub>0</sub>**: male students have $\\leq$ maths scores than female students.\n",
        "\n",
        "On inspection, we find that the mean of the male maths score is higher than that of the female maths score."
      ]
    },
    {
      "cell_type": "code",
      "metadata": {
        "id": "Pog1o4_H7krY",
        "colab": {
          "base_uri": "https://localhost:8080/"
        },
        "outputId": "ad93a5e1-4aac-4a9f-aae1-1d5c91df7698"
      },
      "source": [
        "print(\"Mean maths scores are %1.2f for females and %1.2f for males\" %(df_female[\"maths_score\"].mean(), df_male[\"maths_score\"].mean()))"
      ],
      "execution_count": 262,
      "outputs": [
        {
          "output_type": "stream",
          "name": "stdout",
          "text": [
            "Mean maths scores are 63.63 for females and 68.73 for males\n"
          ]
        }
      ]
    },
    {
      "cell_type": "markdown",
      "metadata": {
        "id": "A37DxrLNbV4n"
      },
      "source": [
        "### Testing for Normal Distribution\n",
        "\n",
        "Some statistical tests assume that the samples to be tested come from a normal distribution. To be able to choose the appropriate tests, we must thus first check if our samples come from a normal distribution. We can test for normality  using a qq-plot or a normality test."
      ]
    },
    {
      "cell_type": "code",
      "metadata": {
        "colab": {
          "base_uri": "https://localhost:8080/",
          "height": 541
        },
        "id": "_Lj2iRhebrB0",
        "outputId": "410dc600-c116-4299-91aa-3719eb7da22b"
      },
      "source": [
        "# QQ-Plot\n",
        "# TODO: Add titles and put in one figure\n",
        "# Female maths score\n",
        "sm.qqplot(df_female['maths_score'], line='s')\n",
        "# Male maths score\n",
        "sm.qqplot(df_male['maths_score'], line='s')\n",
        "plt.show()"
      ],
      "execution_count": 263,
      "outputs": [
        {
          "output_type": "display_data",
          "data": {
            "image/png": "[encoded data removed]",
            "text/plain": [
              "<Figure size 432x288 with 1 Axes>"
            ]
          },
          "metadata": {
            "needs_background": "light"
          }
        },
        {
          "output_type": "display_data",
          "data": {
            "image/png": "[encoded data removed]",
            "text/plain": [
              "<Figure size 432x288 with 1 Axes>"
            ]
          },
          "metadata": {
            "needs_background": "light"
          }
        }
      ]
    },
    {
      "cell_type": "markdown",
      "metadata": {
        "id": "te1121_keZoR"
      },
      "source": [
        "The null hypothesis of the D'Agostino-Pearson test is normal distribution. If the resulting *p*-value is larger than 0.001 we cannot reject the normality of the distribution.\n",
        "\n",
        "**Question**: should we pick a different value for $\\alpha$?\n",
        "\n",
        "**Answer (Elias)**: $\\alpha$ is in the end an arbitrarily chosen value, but see the addition below.\n",
        "\n",
        "**Answer (Souad)**: Actually I checked the literature,  most tests use $\\alpha = 0.05$. This means that both Pearson and Shapiro reject the null hypotesis, i.e. reject normality."
      ]
    },
    {
      "cell_type": "code",
      "metadata": {
        "id": "i5vR3PLlcNjf",
        "colab": {
          "base_uri": "https://localhost:8080/"
        },
        "outputId": "8f5f5a25-b1a5-432f-e215-3fb5a13b34fa"
      },
      "source": [
        "# Normality test female maths score\n",
        "# D Agostino-Pearson. The method returns the test statistic value and the p-value\n",
        "k2, p = stats.normaltest(df_female['maths_score']) \n",
        "alpha = 0.05 # Rejection criterion defined by you\n",
        "print('Alpha = ', alpha)\n",
        "print('p = ', p)\n",
        "if p < alpha:  # null hypothesis: x comes from a normal distribution\n",
        "     print(\"We can reject the null hypothesis of normality of female maths score\")\n",
        "else:\n",
        "  print(\"We cannot reject the null hypothesis of normality of female maths score\")"
      ],
      "execution_count": 264,
      "outputs": [
        {
          "output_type": "stream",
          "name": "stdout",
          "text": [
            "Alpha =  0.05\n",
            "p =  0.0007002831165387053\n",
            "We can reject the null hypothesis of normality of female maths score\n"
          ]
        }
      ]
    },
    {
      "cell_type": "code",
      "metadata": {
        "colab": {
          "base_uri": "https://localhost:8080/"
        },
        "id": "OTFeZ2B6f3gK",
        "outputId": "457f4461-5ac0-41a9-d19c-dbed8abace53"
      },
      "source": [
        "# Normality test male maths score\n",
        "k2, p = stats.normaltest(df_male['maths_score']) \n",
        "alpha = 0.05 # Rejection criterion defined by you\n",
        "print('Alpha = ', alpha)\n",
        "print('p = ', p)\n",
        "if p < alpha:  # null hypothesis: x comes from a normal distribution\n",
        "     print(\"We can reject the null hypothesis of normality of male maths score\")\n",
        "else:\n",
        "  print(\"We cannot reject the null hypothesis of normality of male maths score\")"
      ],
      "execution_count": 265,
      "outputs": [
        {
          "output_type": "stream",
          "name": "stdout",
          "text": [
            "Alpha =  0.05\n",
            "p =  0.06459355656271938\n",
            "We cannot reject the null hypothesis of normality of male maths score\n"
          ]
        }
      ]
    },
    {
      "cell_type": "markdown",
      "metadata": {
        "id": "rPYuS6GHZvjX"
      },
      "source": [
        "It looks like the normality assumption for the female maths score does not hold.\n"
      ]
    },
    {
      "cell_type": "markdown",
      "metadata": {
        "id": "JLmEv2odYEao"
      },
      "source": [
        "Note, however, also the *p*-values for both samples in question retrieved from the Shapiro-Wilk test for normality (this test can be used for samples between 3 $\\leq$ n $\\leq$ 5000): "
      ]
    },
    {
      "cell_type": "code",
      "metadata": {
        "colab": {
          "base_uri": "https://localhost:8080/"
        },
        "id": "FjfiHh7gVlhz",
        "outputId": "bbb3f068-6dbc-471d-ca8c-b61db3a5ec66"
      },
      "source": [
        "s,p = stats.shapiro(df_female['maths_score'])\n",
        "print('Test statistic = %.2f, p-value = %.2e' %(s, p))"
      ],
      "execution_count": 266,
      "outputs": [
        {
          "output_type": "stream",
          "name": "stdout",
          "text": [
            "Test statistic = 0.99, p-value = 3.52e-03\n"
          ]
        }
      ]
    },
    {
      "cell_type": "code",
      "metadata": {
        "colab": {
          "base_uri": "https://localhost:8080/"
        },
        "id": "ddH9ss5EYjUo",
        "outputId": "4c01276e-33bf-47d4-8e83-a7f59fa30cd9"
      },
      "source": [
        "s,p = stats.shapiro(df_male['maths_score'])\n",
        "print('Test statistic = %.2f, p-value = %.2e' %(s, p))"
      ],
      "execution_count": 267,
      "outputs": [
        {
          "output_type": "stream",
          "name": "stdout",
          "text": [
            "Test statistic = 0.99, p-value = 3.80e-02\n"
          ]
        }
      ]
    },
    {
      "cell_type": "markdown",
      "metadata": {
        "id": "kXrp45NrbA6j"
      },
      "source": [
        "These *p*-values suggest that the normality assumptions do not hold for neither males nor females.\n"
      ]
    },
    {
      "cell_type": "markdown",
      "metadata": {
        "id": "pGK5BNGWgdJ-"
      },
      "source": [
        "### Mann-Whitney U test\n",
        "It appears that the most apporpriate test is the Mann-Whitney U test for two independent samples, non-normally distributed.\n",
        "\n",
        "Note that this test should only be used with at least 20 data points.\n"
      ]
    },
    {
      "cell_type": "code",
      "metadata": {
        "colab": {
          "base_uri": "https://localhost:8080/"
        },
        "id": "3wbP_3NkhT5q",
        "outputId": "2fc5ecd8-c5a6-4330-e8b8-0dd741ea9009"
      },
      "source": [
        "df_female['maths_score'].size"
      ],
      "execution_count": 268,
      "outputs": [
        {
          "output_type": "execute_result",
          "data": {
            "text/plain": [
              "518"
            ]
          },
          "metadata": {},
          "execution_count": 268
        }
      ]
    },
    {
      "cell_type": "code",
      "metadata": {
        "colab": {
          "base_uri": "https://localhost:8080/"
        },
        "id": "puoKRUvMev0S",
        "outputId": "dae1612f-3cae-436d-df37-97e8b7392ec4"
      },
      "source": [
        "df_male['maths_score'].size"
      ],
      "execution_count": 269,
      "outputs": [
        {
          "output_type": "execute_result",
          "data": {
            "text/plain": [
              "482"
            ]
          },
          "metadata": {},
          "execution_count": 269
        }
      ]
    },
    {
      "cell_type": "code",
      "metadata": {
        "colab": {
          "base_uri": "https://localhost:8080/"
        },
        "id": "qB8fCF0xhchb",
        "outputId": "cb6c6a22-759c-4cf4-9233-6746f2e7ea15"
      },
      "source": [
        "t, p = stats.mannwhitneyu(df_male['maths_score'],df_female['maths_score'], alternative='greater')\n",
        "print(\"The p-value of the Mann-Whitney U test is %1.2e\" %p)"
      ],
      "execution_count": 270,
      "outputs": [
        {
          "output_type": "stream",
          "name": "stdout",
          "text": [
            "The p-value of the Mann-Whitney U test is 2.14e-07\n"
          ]
        }
      ]
    },
    {
      "cell_type": "markdown",
      "metadata": {
        "id": "ptFjbu2YiL83"
      },
      "source": [
        "The *p*-value is $2.14 \\times 10^{-7}$, therefore we can reject the null hypothesis: it is very unlikely that male maths scores are lower than female maths scores or equal. \n",
        "\n",
        "Did you write this **Elias**? \n",
        "\n",
        "*Thus, our working hypothesis (alternative hypothesis) is confirmed that the math scores of male students are higher than those of female students.*\n",
        "\n",
        "A hypothesis test does **not** confirm the working hypothesis. It merely allows us to reject the null hypothesis with a certain confidence.\n",
        "I suggest replacing the above with:\n",
        "\n",
        "*There is strong evidence that male students perform better in maths test than their female counterparts.*"
      ]
    },
    {
      "cell_type": "markdown",
      "metadata": {
        "id": "J3qsbEMjuOWF"
      },
      "source": [
        "## Hypothesis 2: Test Performance and Parental University Education\n",
        "\n",
        "Here we make the hypothesis that there is no relation between the students' test performance and whether their parents went to university or not.\n",
        "\n",
        "For this purpose, we created a column <code>parent_univ</code> which indicates whether the parents had go to university/college or not.\n",
        "\n",
        "In addition, we will create an additional feature <code>average_score</code> which averages the maths, reading and writing tests."
      ]
    },
    {
      "cell_type": "code",
      "metadata": {
        "colab": {
          "base_uri": "https://localhost:8080/",
          "height": 203
        },
        "id": "JfxYpxm0zqNL",
        "outputId": "133a7317-ad63-4b64-e22f-c57835dc5be2"
      },
      "source": [
        "df['average_score'] = round(df[['maths_score', 'read_score', 'write_score']].mean(axis = 1), 2)\n",
        "df.head()"
      ],
      "execution_count": 271,
      "outputs": [
        {
          "output_type": "execute_result",
          "data": {
            "text/html": [
              "<div>\n",
              "<style scoped>\n",
              "    .dataframe tbody tr th:only-of-type {\n",
              "        vertical-align: middle;\n",
              "    }\n",
              "\n",
              "    .dataframe tbody tr th {\n",
              "        vertical-align: top;\n",
              "    }\n",
              "\n",
              "    .dataframe thead th {\n",
              "        text-align: right;\n",
              "    }\n",
              "</style>\n",
              "<table border=\"1\" class=\"dataframe\">\n",
              "  <thead>\n",
              "    <tr style=\"text-align: right;\">\n",
              "      <th></th>\n",
              "      <th>gender</th>\n",
              "      <th>race_ethn</th>\n",
              "      <th>parental_ed</th>\n",
              "      <th>lunch</th>\n",
              "      <th>test_prep</th>\n",
              "      <th>maths_score</th>\n",
              "      <th>read_score</th>\n",
              "      <th>write_score</th>\n",
              "      <th>parent_uni</th>\n",
              "      <th>average_score</th>\n",
              "    </tr>\n",
              "  </thead>\n",
              "  <tbody>\n",
              "    <tr>\n",
              "      <th>0</th>\n",
              "      <td>female</td>\n",
              "      <td>group B</td>\n",
              "      <td>bachelor's degree</td>\n",
              "      <td>standard</td>\n",
              "      <td>none</td>\n",
              "      <td>72</td>\n",
              "      <td>72</td>\n",
              "      <td>74</td>\n",
              "      <td>yes</td>\n",
              "      <td>72.67</td>\n",
              "    </tr>\n",
              "    <tr>\n",
              "      <th>1</th>\n",
              "      <td>female</td>\n",
              "      <td>group C</td>\n",
              "      <td>some college</td>\n",
              "      <td>standard</td>\n",
              "      <td>completed</td>\n",
              "      <td>69</td>\n",
              "      <td>90</td>\n",
              "      <td>88</td>\n",
              "      <td>yes</td>\n",
              "      <td>82.33</td>\n",
              "    </tr>\n",
              "    <tr>\n",
              "      <th>2</th>\n",
              "      <td>female</td>\n",
              "      <td>group B</td>\n",
              "      <td>master's degree</td>\n",
              "      <td>standard</td>\n",
              "      <td>none</td>\n",
              "      <td>90</td>\n",
              "      <td>95</td>\n",
              "      <td>93</td>\n",
              "      <td>yes</td>\n",
              "      <td>92.67</td>\n",
              "    </tr>\n",
              "    <tr>\n",
              "      <th>3</th>\n",
              "      <td>male</td>\n",
              "      <td>group A</td>\n",
              "      <td>associate's degree</td>\n",
              "      <td>free/reduced</td>\n",
              "      <td>none</td>\n",
              "      <td>47</td>\n",
              "      <td>57</td>\n",
              "      <td>44</td>\n",
              "      <td>yes</td>\n",
              "      <td>49.33</td>\n",
              "    </tr>\n",
              "    <tr>\n",
              "      <th>4</th>\n",
              "      <td>male</td>\n",
              "      <td>group C</td>\n",
              "      <td>some college</td>\n",
              "      <td>standard</td>\n",
              "      <td>none</td>\n",
              "      <td>76</td>\n",
              "      <td>78</td>\n",
              "      <td>75</td>\n",
              "      <td>yes</td>\n",
              "      <td>76.33</td>\n",
              "    </tr>\n",
              "  </tbody>\n",
              "</table>\n",
              "</div>"
            ],
            "text/plain": [
              "   gender race_ethn         parental_ed  ... write_score parent_uni  average_score\n",
              "0  female   group B   bachelor's degree  ...          74        yes          72.67\n",
              "1  female   group C        some college  ...          88        yes          82.33\n",
              "2  female   group B     master's degree  ...          93        yes          92.67\n",
              "3    male   group A  associate's degree  ...          44        yes          49.33\n",
              "4    male   group C        some college  ...          75        yes          76.33\n",
              "\n",
              "[5 rows x 10 columns]"
            ]
          },
          "metadata": {},
          "execution_count": 271
        }
      ]
    },
    {
      "cell_type": "markdown",
      "metadata": {
        "id": "Yz_abls61jTv"
      },
      "source": [
        "### Defining Hypothesis\n",
        "\n",
        "**H<sub>1</sub>**: There is no relation between overall student performance and whether their parents went to university.\n",
        "\n",
        "**H<sub>0</sub>**: There is a relation between the overall student performance and whether their parents went to university.\n",
        "\n",
        "So we have two samples: Students whose parents went to university and those whose parents did not attend university."
      ]
    },
    {
      "cell_type": "code",
      "metadata": {
        "id": "mmeqVnnr1hwD"
      },
      "source": [
        "df_uni = df.loc[df['parent_uni'] == \"yes\", 'average_score']\n",
        "df_no_uni = df.loc[df['parent_uni'] != \"yes\",  'average_score']"
      ],
      "execution_count": 272,
      "outputs": []
    },
    {
      "cell_type": "code",
      "metadata": {
        "colab": {
          "base_uri": "https://localhost:8080/"
        },
        "id": "zAPC64qA4WOV",
        "outputId": "4e028e67-955d-4d78-c576-cdb3c27c659c"
      },
      "source": [
        "df_no_uni.head()"
      ],
      "execution_count": 273,
      "outputs": [
        {
          "output_type": "execute_result",
          "data": {
            "text/plain": [
              "8     65.00\n",
              "9     49.33\n",
              "12    73.00\n",
              "15    74.00\n",
              "16    87.67\n",
              "Name: average_score, dtype: float64"
            ]
          },
          "metadata": {},
          "execution_count": 273
        }
      ]
    },
    {
      "cell_type": "code",
      "metadata": {
        "colab": {
          "base_uri": "https://localhost:8080/"
        },
        "id": "K2v_bEuT4US8",
        "outputId": "577aca94-f2fb-4f1f-a6c4-ab7a55ce2056"
      },
      "source": [
        "df_uni.head()"
      ],
      "execution_count": 274,
      "outputs": [
        {
          "output_type": "execute_result",
          "data": {
            "text/plain": [
              "0    72.67\n",
              "1    82.33\n",
              "2    92.67\n",
              "3    49.33\n",
              "4    76.33\n",
              "Name: average_score, dtype: float64"
            ]
          },
          "metadata": {},
          "execution_count": 274
        }
      ]
    },
    {
      "cell_type": "markdown",
      "metadata": {
        "id": "ZHNkFyn24q2s"
      },
      "source": [
        "### Testing for Normal Distribution\n",
        "\n"
      ]
    },
    {
      "cell_type": "code",
      "metadata": {
        "id": "zCcv6GqQ48kr"
      },
      "source": [
        "# Normality test students with parents who went to uni\n"
      ],
      "execution_count": 275,
      "outputs": []
    },
    {
      "cell_type": "code",
      "metadata": {
        "id": "3ip89gmr5RRo"
      },
      "source": [
        "# Normality test students with parents who did not attend uni\n"
      ],
      "execution_count": 276,
      "outputs": []
    },
    {
      "cell_type": "markdown",
      "metadata": {
        "id": "w7fNk64p5YDf"
      },
      "source": [
        "It looks like the normality assumption $\\ldots$"
      ]
    },
    {
      "cell_type": "code",
      "metadata": {
        "id": "0ipX2Mq65pAD"
      },
      "source": [
        "# Hypothesis test"
      ],
      "execution_count": 277,
      "outputs": []
    },
    {
      "cell_type": "markdown",
      "metadata": {
        "id": "5rGsM7_D52RE"
      },
      "source": [
        "We can therefore $\\ldots$\n",
        "\n",
        "Now, we can check another working hypothesis: students whose parents went to university perform better in general comapred to those whose parents did not attend university.\n",
        "\n",
        "At a first glance:"
      ]
    },
    {
      "cell_type": "code",
      "metadata": {
        "colab": {
          "base_uri": "https://localhost:8080/"
        },
        "id": "qn0RF8if6I2L",
        "outputId": "7d216f8d-aa16-41a4-8c38-755089c5973b"
      },
      "source": [
        "# Mean 1\n",
        "print(\"Average performance of students whose parents went to university is on average:\" )"
      ],
      "execution_count": 278,
      "outputs": [
        {
          "output_type": "stream",
          "name": "stdout",
          "text": [
            "Average performance of students whose parents went to university is on average:\n"
          ]
        }
      ]
    },
    {
      "cell_type": "code",
      "metadata": {
        "colab": {
          "base_uri": "https://localhost:8080/"
        },
        "id": "EG7ADHdj4qFC",
        "outputId": "6d866f3d-557b-467f-eac9-ed0b40078665"
      },
      "source": [
        "print(\"Average performance of students whose parents did not attend university is on average:\" )"
      ],
      "execution_count": 279,
      "outputs": [
        {
          "output_type": "stream",
          "name": "stdout",
          "text": [
            "Average performance of students whose parents did not attend university is on average:\n"
          ]
        }
      ]
    },
    {
      "cell_type": "markdown",
      "metadata": {
        "id": "HDf8Rdel7FTh"
      },
      "source": [
        "### Hypothesis Test (replace with name)\n",
        "\n"
      ]
    },
    {
      "cell_type": "code",
      "metadata": {
        "id": "1zzsxX3Y7JVz"
      },
      "source": [
        "# Hypothesis test"
      ],
      "execution_count": 280,
      "outputs": []
    },
    {
      "cell_type": "markdown",
      "metadata": {
        "id": "ohhrcfAS8Vtr"
      },
      "source": [
        "The *p*-value is $\\ldots$ This means $\\ldots$"
      ]
    },
    {
      "cell_type": "markdown",
      "metadata": {
        "id": "mnshiG8dCB7S"
      },
      "source": [
        "## Hypothesis 3: Test Performance and Preparation\n",
        "\n"
      ]
    },
    {
      "cell_type": "markdown",
      "metadata": {
        "id": "F2wfwyuuFwZ4"
      },
      "source": [
        "### Defining Hypothesis\n",
        "\n",
        "**H<sub>1</sub>**: Students who had completed the preparation test performed better than those who did not.\n",
        "\n",
        "**H<sub>0</sub>**: Students who completed the preparation test did not perform better than those who did not.\n",
        "\n",
        "Let us plot a histogram of the overall performance of students who completed the test preparation and those who did not, and the respective probability denstiy function estimations."
      ]
    },
    {
      "cell_type": "code",
      "metadata": {
        "colab": {
          "base_uri": "https://localhost:8080/",
          "height": 462
        },
        "id": "3Dr2c3ILGJky",
        "outputId": "0ec1233b-729d-47ae-f759-32cdf6bdf41e"
      },
      "source": [
        "fig = plt.figure(figsize=(12, 12))\n",
        "plt.subplot(221)\n",
        "df.groupby('test_prep')['average_score'].plot(kind='hist', fill = False, legend=True, histtype='step')\n",
        "plt.xlabel('Overall performance')\n",
        "plt.subplot(222)\n",
        "df.groupby('test_prep')['average_score'].plot.kde()\n",
        "plt.xlabel('Overall test performance')\n",
        "plt.legend()\n",
        "fig.suptitle('Overall performance vs. test preparation')\n"
      ],
      "execution_count": 281,
      "outputs": [
        {
          "output_type": "execute_result",
          "data": {
            "text/plain": [
              "Text(0.5, 0.98, 'Overall performance vs. test preparation')"
            ]
          },
          "metadata": {},
          "execution_count": 281
        },
        {
          "output_type": "display_data",
          "data": {
            "image/png": "[encoded data removed]",
            "text/plain": [
              "<Figure size 864x864 with 2 Axes>"
            ]
          },
          "metadata": {
            "needs_background": "light"
          }
        }
      ]
    },
    {
      "cell_type": "markdown",
      "metadata": {
        "id": "bIAtMy1cOSz3"
      },
      "source": [
        "Upon inspection, students who completed the preparation course scored better on average than those who did not."
      ]
    },
    {
      "cell_type": "code",
      "metadata": {
        "colab": {
          "base_uri": "https://localhost:8080/"
        },
        "id": "Pp7tJ-mTNiK_",
        "outputId": "bacf7ed7-e832-48bf-b504-7a52220d1322"
      },
      "source": [
        "df.groupby('test_prep')['average_score'].mean()"
      ],
      "execution_count": 282,
      "outputs": [
        {
          "output_type": "execute_result",
          "data": {
            "text/plain": [
              "test_prep\n",
              "completed    72.669469\n",
              "none         65.038801\n",
              "Name: average_score, dtype: float64"
            ]
          },
          "metadata": {},
          "execution_count": 282
        }
      ]
    },
    {
      "cell_type": "markdown",
      "metadata": {
        "id": "1o5W5qhPO_Nz"
      },
      "source": [
        "### Testing for Normal Distribution\n",
        "\n",
        "There are two samples with unequal sizes."
      ]
    },
    {
      "cell_type": "code",
      "metadata": {
        "colab": {
          "base_uri": "https://localhost:8080/"
        },
        "id": "q6YBwowgPEvd",
        "outputId": "62bccef4-bb0b-45aa-b67d-35a1a1191abb"
      },
      "source": [
        "df0 = df[df['test_prep'] == 'none']['average_score']\n",
        "df1 = df[df['test_prep'] != 'none']['average_score']\n",
        "df0.size, df1.size"
      ],
      "execution_count": 283,
      "outputs": [
        {
          "output_type": "execute_result",
          "data": {
            "text/plain": [
              "(642, 358)"
            ]
          },
          "metadata": {},
          "execution_count": 283
        }
      ]
    },
    {
      "cell_type": "code",
      "metadata": {
        "id": "g7JK_DmnQqb5"
      },
      "source": [
        "# Normality test 1"
      ],
      "execution_count": 284,
      "outputs": []
    },
    {
      "cell_type": "code",
      "metadata": {
        "id": "_JKMBY4PRI8B"
      },
      "source": [
        "# Normality test 2"
      ],
      "execution_count": 285,
      "outputs": []
    },
    {
      "cell_type": "markdown",
      "metadata": {
        "id": "kfQZP76fRTkZ"
      },
      "source": [
        "It looks like the normality assumption $\\ldots$"
      ]
    },
    {
      "cell_type": "markdown",
      "metadata": {
        "id": "2G872_3rmeDk"
      },
      "source": [
        "### Hypothesis Test (replace with name)"
      ]
    },
    {
      "cell_type": "markdown",
      "metadata": {
        "id": "1NXhf5-kJB28"
      },
      "source": [
        ""
      ]
    },
    {
      "cell_type": "code",
      "metadata": {
        "id": "WF3EZPLEmN2W"
      },
      "source": [
        "\n"
      ],
      "execution_count": 285,
      "outputs": []
    },
    {
      "cell_type": "markdown",
      "metadata": {
        "id": "PZuXMqBpIq8P"
      },
      "source": [
        ""
      ]
    },
    {
      "cell_type": "markdown",
      "metadata": {
        "id": "_0Q1QCV1IscP"
      },
      "source": [
        "## Hypothesis 4: Average Score and Gender\n",
        "\n",
        "\n"
      ]
    },
    {
      "cell_type": "markdown",
      "metadata": {
        "id": "2RxGJorYI25K"
      },
      "source": [
        "### Defining Hypothesis"
      ]
    },
    {
      "cell_type": "markdown",
      "metadata": {
        "id": "_zEZBfoG9RT9"
      },
      "source": [
        "## Linear Regression\n",
        "\n",
        "We would like to predict test scores based on demographic and socioeconomic factors with a linear regression model.\n",
        "\n",
        "### Outcome\n",
        "- average test score\n",
        "\n",
        "### Predictors\n",
        "- gender\n",
        "- race/ethnicity\n",
        "- lunch\n",
        "- parental level of education\n",
        "- test preparation course.\n",
        "\n",
        "Note that <code>parent_uni</code> was derived from <code>parental_ed</code> so only one of these two variables should be used in the prediction models."
      ]
    },
    {
      "cell_type": "markdown",
      "metadata": {
        "id": "fRVXa6EAELpB"
      },
      "source": [
        "### The Model\n",
        "\n",
        "We will use the <code>ols</code> (ordinary least squares) method from the <code>statsmodels.formula.api</code> library. \n"
      ]
    },
    {
      "cell_type": "code",
      "metadata": {
        "id": "GQLIjAYr_hE4",
        "colab": {
          "base_uri": "https://localhost:8080/"
        },
        "outputId": "7bb53145-8900-4f52-c367-b5f13d21cc2b"
      },
      "source": [
        "# Linear regression method using statsmodels.formula.api.ols\n",
        "# ols: ordinary least squares\n",
        "model_linreg = smf.ols(\"average_score ~ gender + race_ethn + lunch + test_prep + parent_uni\", data = df).fit()\n",
        "print(model_linreg.summary())"
      ],
      "execution_count": 286,
      "outputs": [
        {
          "output_type": "stream",
          "name": "stdout",
          "text": [
            "                            OLS Regression Results                            \n",
            "==============================================================================\n",
            "Dep. Variable:          average_score   R-squared:                       0.233\n",
            "Model:                            OLS   Adj. R-squared:                  0.227\n",
            "Method:                 Least Squares   F-statistic:                     37.72\n",
            "Date:                Wed, 08 Sep 2021   Prob (F-statistic):           1.67e-52\n",
            "Time:                        20:49:53   Log-Likelihood:                -3942.8\n",
            "No. Observations:                1000   AIC:                             7904.\n",
            "Df Residuals:                     991   BIC:                             7948.\n",
            "Df Model:                           8                                         \n",
            "Covariance Type:            nonrobust                                         \n",
            "========================================================================================\n",
            "                           coef    std err          t      P>|t|      [0.025      0.975]\n",
            "----------------------------------------------------------------------------------------\n",
            "Intercept               62.2621      1.650     37.742      0.000      59.025      65.499\n",
            "gender[T.male]          -3.8205      0.798     -4.790      0.000      -5.386      -2.255\n",
            "race_ethn[T.group B]     1.3928      1.614      0.863      0.388      -1.775       4.561\n",
            "race_ethn[T.group C]     2.3416      1.511      1.549      0.122      -0.624       5.307\n",
            "race_ethn[T.group D]     5.1492      1.543      3.338      0.001       2.122       8.177\n",
            "race_ethn[T.group E]     6.8268      1.711      3.989      0.000       3.468      10.185\n",
            "lunch[T.standard]        8.7077      0.830     10.489      0.000       7.079      10.337\n",
            "test_prep[T.none]       -7.7159      0.829     -9.305      0.000      -9.343      -6.089\n",
            "parent_uni[T.yes]        5.3930      0.825      6.536      0.000       3.774       7.012\n",
            "==============================================================================\n",
            "Omnibus:                       11.346   Durbin-Watson:                   2.040\n",
            "Prob(Omnibus):                  0.003   Jarque-Bera (JB):               11.622\n",
            "Skew:                          -0.258   Prob(JB):                      0.00299\n",
            "Kurtosis:                       2.892   Cond. No.                         13.2\n",
            "==============================================================================\n",
            "\n",
            "Warnings:\n",
            "[1] Standard Errors assume that the covariance matrix of the errors is correctly specified.\n"
          ]
        }
      ]
    },
    {
      "cell_type": "markdown",
      "metadata": {
        "id": "P5uaHD_LC-cb"
      },
      "source": [
        ""
      ]
    },
    {
      "cell_type": "markdown",
      "metadata": {
        "id": "X2EjIf5_vlqu"
      },
      "source": [
        "### Check Linear Regression Assumptions"
      ]
    },
    {
      "cell_type": "markdown",
      "metadata": {
        "id": "eqNyPN00x5a7"
      },
      "source": [
        "#### Linearity"
      ]
    },
    {
      "cell_type": "code",
      "metadata": {
        "colab": {
          "base_uri": "https://localhost:8080/",
          "height": 390
        },
        "id": "BhWtO0LswTgK",
        "outputId": "fbb1cc0b-fa54-4a68-973a-95333131db0f"
      },
      "source": [
        "# Visualise the relationship between the features and the response using scatterplots\n",
        "p = sns.pairplot(df, x_vars=['gender', 'race_ethn', 'lunch', 'test_prep', 'parent_uni'], y_vars='average_score', size=7, aspect=0.7)"
      ],
      "execution_count": 287,
      "outputs": [
        {
          "output_type": "stream",
          "name": "stderr",
          "text": [
            "/usr/local/lib/python3.7/dist-packages/seaborn/axisgrid.py:1969: UserWarning: The `size` parameter has been renamed to `height`; please update your code.\n",
            "  warnings.warn(msg, UserWarning)\n"
          ]
        },
        {
          "output_type": "display_data",
          "data": {
            "image/png": "[encoded data removed]",
            "text/plain": [
              "<Figure size 1764x504 with 5 Axes>"
            ]
          },
          "metadata": {
            "needs_background": "light"
          }
        }
      ]
    },
    {
      "cell_type": "markdown",
      "metadata": {
        "id": "ubyY-6rOzOBE"
      },
      "source": [
        "Difficult to see a linear relation given features are categorical.\n",
        "\n",
        "We can use a test as shown on the [statsmodel library page](https://www.statsmodels.org/dev/examples/notebooks/generated/regression_diagnostics.html). The **Harvey-Collier multiplier** tests for Null hypothesis that the linear specification is correct:\n",
        "\n"
      ]
    },
    {
      "cell_type": "code",
      "metadata": {
        "id": "ekjcKOUr3DOL"
      },
      "source": [
        "# t, p = sms.linear_harvey_collier(model_linreg)\n",
        "# print(\"p-value is %1.2e\" %p)"
      ],
      "execution_count": 288,
      "outputs": []
    },
    {
      "cell_type": "markdown",
      "metadata": {
        "id": "zHIu1XRm_bsP"
      },
      "source": [
        "We get an error: <code>LinAlgError: Singular matrix</code> which indicates that the matrix is singular, meaning some features are correlated. We explore this further in the following section."
      ]
    },
    {
      "cell_type": "markdown",
      "metadata": {
        "id": "Z6y-0MNk9TPD"
      },
      "source": [
        "#### Multicollinearity\n",
        "\n",
        "Condition number:"
      ]
    },
    {
      "cell_type": "code",
      "metadata": {
        "id": "tL4eEi7J9XVI",
        "colab": {
          "base_uri": "https://localhost:8080/"
        },
        "outputId": "fd6c64c8-2cf1-4d4f-9b7f-3168cbca1fb2"
      },
      "source": [
        "np.linalg.cond(model_linreg.model.exog)"
      ],
      "execution_count": 289,
      "outputs": [
        {
          "output_type": "execute_result",
          "data": {
            "text/plain": [
              "13.170749946543639"
            ]
          },
          "metadata": {},
          "execution_count": 289
        }
      ]
    },
    {
      "cell_type": "markdown",
      "metadata": {
        "id": "fWLGaWe_EXYI"
      },
      "source": [
        "According to this [article](https://www.ncbi.nlm.nih.gov/pmc/articles/PMC6900425/), a condition number between 10 and 30 indicates the presence of multicollinearity.\n",
        "\n",
        "We could check this further by calculating the variance influence factors (VIF). A VIF of over 10 for some feature indicates that over 90% of the variance in that feature is explained by the remaining features. Over 100 indicates over 99%.\n",
        "\n"
      ]
    },
    {
      "cell_type": "code",
      "metadata": {
        "id": "Zi06jEFXE1o_",
        "colab": {
          "base_uri": "https://localhost:8080/"
        },
        "outputId": "0a9f1b11-43c6-4d52-fb55-5cd0f64f2419"
      },
      "source": [
        "from statsmodels.stats.outliers_influence import variance_inflation_factor\n",
        "vif = [variance_inflation_factor(model_linreg.model.exog, i) for i in range(model_linreg.model.exog.shape[1])]\n",
        "print(vif)\n"
      ],
      "execution_count": 290,
      "outputs": [
        {
          "output_type": "stream",
          "name": "stdout",
          "text": [
            "[17.324888092512918, 1.011036917666894, 2.553477691065999, 3.159092001545937, 2.9294344049925987, 2.2448271140582983, 1.0045843195863708, 1.0059978864670964, 1.0158809516991625]\n"
          ]
        }
      ]
    },
    {
      "cell_type": "markdown",
      "metadata": {
        "id": "axNr7NoZHM1F"
      },
      "source": [
        "The first VIF value is large indicating multicollinearity."
      ]
    },
    {
      "cell_type": "markdown",
      "metadata": {
        "id": "3ECSiQKHxznH"
      },
      "source": [
        "#### Mean of Residuals\n",
        "\n"
      ]
    },
    {
      "cell_type": "code",
      "metadata": {
        "id": "NcIRUvyy6rxe",
        "colab": {
          "base_uri": "https://localhost:8080/"
        },
        "outputId": "eec04b3e-75c5-4a22-9e41-ec57bca55c44"
      },
      "source": [
        "np.mean(model_linreg.resid)"
      ],
      "execution_count": 291,
      "outputs": [
        {
          "output_type": "execute_result",
          "data": {
            "text/plain": [
              "-9.681144774731365e-14"
            ]
          },
          "metadata": {},
          "execution_count": 291
        }
      ]
    },
    {
      "cell_type": "markdown",
      "metadata": {
        "id": "gpHt_h-fzBq1"
      },
      "source": [
        "The mean of residuals is virtually 0, so all good here."
      ]
    },
    {
      "cell_type": "markdown",
      "metadata": {
        "id": "iJoQfSB2zeQu"
      },
      "source": [
        "#### Homoscedasticity\n",
        "Homoscedasticity means that the residuals have equal or almost equal variance across the regression line.\n",
        "\n",
        "We plot the error terms against the predicted values $\\hat{Y}$. If there is a definite pattern, like linear, quadratic or funnel shaped obtained from the scatter plot then heteroscedasticity is present."
      ]
    },
    {
      "cell_type": "code",
      "metadata": {
        "colab": {
          "base_uri": "https://localhost:8080/",
          "height": 382
        },
        "id": "shgN99JF1Now",
        "outputId": "56d7c846-e737-4dc7-99c3-55a2437d5b9e"
      },
      "source": [
        "p = sns.scatterplot(model_linreg.predict(), model_linreg.resid, color = 'red')\n",
        "plt.xlabel('Predicted values')\n",
        "plt.ylabel('Residuals')\n",
        "plt.ylim(-50,50)\n",
        "plt.xlim(50,85)\n",
        "p = sns.lineplot([50,85], [0,0], color='blue')\n",
        "p = plt.title('Residuals vs fitted values plot for homoscedasticity check')\n"
      ],
      "execution_count": 292,
      "outputs": [
        {
          "output_type": "stream",
          "name": "stderr",
          "text": [
            "/usr/local/lib/python3.7/dist-packages/seaborn/_decorators.py:43: FutureWarning: Pass the following variables as keyword args: x, y. From version 0.12, the only valid positional argument will be `data`, and passing other arguments without an explicit keyword will result in an error or misinterpretation.\n",
            "  FutureWarning\n",
            "/usr/local/lib/python3.7/dist-packages/seaborn/_decorators.py:43: FutureWarning: Pass the following variables as keyword args: x, y. From version 0.12, the only valid positional argument will be `data`, and passing other arguments without an explicit keyword will result in an error or misinterpretation.\n",
            "  FutureWarning\n"
          ]
        },
        {
          "output_type": "display_data",
          "data": {
            "image/png": "[encoded data removed]",
            "text/plain": [
              "<Figure size 432x288 with 1 Axes>"
            ]
          },
          "metadata": {
            "needs_background": "light"
          }
        }
      ]
    },
    {
      "cell_type": "markdown",
      "metadata": {
        "id": "GgNmVWt62qnl"
      },
      "source": [
        "Next we use a test to check for homoscedasticity.\n",
        "\n",
        "Using **Goldfeld Quandt**, we test for heteroscedasticity.\n",
        "\n",
        "- Null Hypothesis: Error terms are homoscedastic.\n",
        "- Alternative Hypothesis: Error terms are heteroscedastic."
      ]
    },
    {
      "cell_type": "code",
      "metadata": {
        "id": "18cTJ8JIwFTB",
        "colab": {
          "base_uri": "https://localhost:8080/"
        },
        "outputId": "425ed1e7-5fc6-449a-a02a-e4bdcbc30765"
      },
      "source": [
        "alpha = 0.05\n",
        "f2, p, o = test = sms.het_goldfeldquandt(model_linreg.resid, model_linreg.model.exog)\n",
        "print('Alpha = ', alpha)\n",
        "print('p = %1.2f' %p)\n",
        "if p < alpha:\n",
        "     print(\"We can reject the null hypothesis: Error terms are heteroscedastic\")\n",
        "else:\n",
        "  print(\"We cannot reject the null hypothesis: Error terms are homoscedastic\")"
      ],
      "execution_count": 293,
      "outputs": [
        {
          "output_type": "stream",
          "name": "stdout",
          "text": [
            "Alpha =  0.05\n",
            "p = 0.32\n",
            "We cannot reject the null hypothesis: Error terms are homoscedastic\n"
          ]
        }
      ]
    },
    {
      "cell_type": "markdown",
      "metadata": {
        "id": "qcopwqDf3p3i"
      },
      "source": [
        "Since the *p*-value is more than 0.05 in Goldfeld Quandt Test, we can't reject its null hypothesis that error terms are homoscedastic. Good!\n",
        "\n",
        "Now using **Breush-Pagan** test:"
      ]
    },
    {
      "cell_type": "code",
      "metadata": {
        "id": "qA8vaZiH7Lsj",
        "colab": {
          "base_uri": "https://localhost:8080/"
        },
        "outputId": "e2b94a45-2b52-4206-cb2b-bfccbee24751"
      },
      "source": [
        "l, p, f, fp = sms.het_breuschpagan(model_linreg.resid, model_linreg.model.exog)\n",
        "print('Alpha = ', alpha)\n",
        "print('p = %1.2f' %p)\n",
        "if p < alpha:\n",
        "     print(\"We can reject the null hypothesis: Error terms are heteroscedastic\")\n",
        "else:\n",
        "  print(\"We cannot reject the null hypothesis: Error terms are homoscedastic\")"
      ],
      "execution_count": 294,
      "outputs": [
        {
          "output_type": "stream",
          "name": "stdout",
          "text": [
            "Alpha =  0.05\n",
            "p = 0.09\n",
            "We cannot reject the null hypothesis: Error terms are homoscedastic\n"
          ]
        }
      ]
    },
    {
      "cell_type": "markdown",
      "metadata": {
        "id": "Lnm5gcJB7xjk"
      },
      "source": [
        "Again, the *p*-value is more than 0.05 in Goldfeld Quandt Test, we can't reject its null hypothesis that error terms are homoscedastic."
      ]
    }
  ]
}